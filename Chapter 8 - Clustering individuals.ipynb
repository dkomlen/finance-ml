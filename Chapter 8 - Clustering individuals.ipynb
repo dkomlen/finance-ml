{
  "nbformat": 4,
  "nbformat_minor": 0,
  "metadata": {
    "colab": {
      "name": "Untitled5.ipynb",
      "provenance": [],
      "authorship_tag": "ABX9TyOfwArufi8YyfIcDB83zgjp",
      "include_colab_link": true
    },
    "kernelspec": {
      "name": "python3",
      "display_name": "Python 3"
    },
    "language_info": {
      "name": "python"
    }
  },
  "cells": [
    {
      "cell_type": "markdown",
      "metadata": {
        "id": "view-in-github",
        "colab_type": "text"
      },
      "source": [
        "<a href=\"https://colab.research.google.com/github/dkomlen/finance-ml/blob/main/Chapter%208%20-%20Clustering%20individuals.ipynb\" target=\"_parent\"><img src=\"https://colab.research.google.com/assets/colab-badge.svg\" alt=\"Open In Colab\"/></a>"
      ]
    },
    {
      "cell_type": "markdown",
      "source": [
        "#### 2.1 Loading the python packages"
      ],
      "metadata": {
        "id": "h7dWo_zD58Yu"
      }
    },
    {
      "cell_type": "code",
      "source": [
        "# Load libraries\n",
        "import numpy as np\n",
        "import pandas as pd\n",
        "import matplotlib.pyplot as plt\n",
        "from pandas import read_csv, set_option\n",
        "from pandas.plotting import scatter_matrix\n",
        "import seaborn as sns\n",
        "from sklearn.preprocessing import StandardScaler\n",
        "import datetime\n",
        "\n",
        "#Import Model Packages \n",
        "from sklearn.cluster import KMeans, AgglomerativeClustering,AffinityPropagation\n",
        "from sklearn.metrics import adjusted_mutual_info_score\n",
        "from sklearn import cluster, covariance, manifold\n",
        "\n",
        "\n",
        "#Other Helper Packages and functions\n",
        "import matplotlib.ticker as ticker\n",
        "from itertools import cycle"
      ],
      "metadata": {
        "id": "KZCVtVgx4S7r"
      },
      "execution_count": 5,
      "outputs": []
    },
    {
      "cell_type": "markdown",
      "source": [
        "#### 2.2. Loading the Data"
      ],
      "metadata": {
        "id": "35vKg9b_6Dfq"
      }
    },
    {
      "cell_type": "code",
      "source": [
        "dataset = pd.read_excel('https://github.com/tatsath/fin-ml/raw/master/Chapter%208%20-%20Unsup.%20Learning%20-%20Clustering/Case%20Study2%20-%20Portfolio%20Management%20-%20%20Clustering%20Investors/ProcessedData.xlsx')"
      ],
      "metadata": {
        "id": "1lIl-Mcc4bje"
      },
      "execution_count": 6,
      "outputs": []
    },
    {
      "cell_type": "code",
      "source": [
        "dataset.head()"
      ],
      "metadata": {
        "colab": {
          "base_uri": "https://localhost:8080/",
          "height": 206
        },
        "id": "orYT0Shh5tQn",
        "outputId": "489d1c0d-d925-4885-9339-6a325df243a7"
      },
      "execution_count": 7,
      "outputs": [
        {
          "output_type": "execute_result",
          "data": {
            "text/plain": [
              "   ID  AGE  EDUC  MARRIED  KIDS  LIFECL  OCCAT  RISK  HHOUSES  WSAVED  \\\n",
              "0   1    3     2        1     0       2      1     3        1       1   \n",
              "1   2    4     4        1     2       5      2     3        0       2   \n",
              "2   3    3     1        1     2       3      2     2        1       2   \n",
              "3   4    3     1        1     2       3      2     2        1       2   \n",
              "4   5    4     3        1     1       5      1     2        1       3   \n",
              "\n",
              "   SPENDMOR  NWCAT  INCCL  \n",
              "0         5      3      4  \n",
              "1         5      5      5  \n",
              "2         4      4      4  \n",
              "3         4      3      4  \n",
              "4         3      5      5  "
            ],
            "text/html": [
              "\n",
              "  <div id=\"df-39790db5-db82-4a48-8e76-d9609650c7f9\">\n",
              "    <div class=\"colab-df-container\">\n",
              "      <div>\n",
              "<style scoped>\n",
              "    .dataframe tbody tr th:only-of-type {\n",
              "        vertical-align: middle;\n",
              "    }\n",
              "\n",
              "    .dataframe tbody tr th {\n",
              "        vertical-align: top;\n",
              "    }\n",
              "\n",
              "    .dataframe thead th {\n",
              "        text-align: right;\n",
              "    }\n",
              "</style>\n",
              "<table border=\"1\" class=\"dataframe\">\n",
              "  <thead>\n",
              "    <tr style=\"text-align: right;\">\n",
              "      <th></th>\n",
              "      <th>ID</th>\n",
              "      <th>AGE</th>\n",
              "      <th>EDUC</th>\n",
              "      <th>MARRIED</th>\n",
              "      <th>KIDS</th>\n",
              "      <th>LIFECL</th>\n",
              "      <th>OCCAT</th>\n",
              "      <th>RISK</th>\n",
              "      <th>HHOUSES</th>\n",
              "      <th>WSAVED</th>\n",
              "      <th>SPENDMOR</th>\n",
              "      <th>NWCAT</th>\n",
              "      <th>INCCL</th>\n",
              "    </tr>\n",
              "  </thead>\n",
              "  <tbody>\n",
              "    <tr>\n",
              "      <th>0</th>\n",
              "      <td>1</td>\n",
              "      <td>3</td>\n",
              "      <td>2</td>\n",
              "      <td>1</td>\n",
              "      <td>0</td>\n",
              "      <td>2</td>\n",
              "      <td>1</td>\n",
              "      <td>3</td>\n",
              "      <td>1</td>\n",
              "      <td>1</td>\n",
              "      <td>5</td>\n",
              "      <td>3</td>\n",
              "      <td>4</td>\n",
              "    </tr>\n",
              "    <tr>\n",
              "      <th>1</th>\n",
              "      <td>2</td>\n",
              "      <td>4</td>\n",
              "      <td>4</td>\n",
              "      <td>1</td>\n",
              "      <td>2</td>\n",
              "      <td>5</td>\n",
              "      <td>2</td>\n",
              "      <td>3</td>\n",
              "      <td>0</td>\n",
              "      <td>2</td>\n",
              "      <td>5</td>\n",
              "      <td>5</td>\n",
              "      <td>5</td>\n",
              "    </tr>\n",
              "    <tr>\n",
              "      <th>2</th>\n",
              "      <td>3</td>\n",
              "      <td>3</td>\n",
              "      <td>1</td>\n",
              "      <td>1</td>\n",
              "      <td>2</td>\n",
              "      <td>3</td>\n",
              "      <td>2</td>\n",
              "      <td>2</td>\n",
              "      <td>1</td>\n",
              "      <td>2</td>\n",
              "      <td>4</td>\n",
              "      <td>4</td>\n",
              "      <td>4</td>\n",
              "    </tr>\n",
              "    <tr>\n",
              "      <th>3</th>\n",
              "      <td>4</td>\n",
              "      <td>3</td>\n",
              "      <td>1</td>\n",
              "      <td>1</td>\n",
              "      <td>2</td>\n",
              "      <td>3</td>\n",
              "      <td>2</td>\n",
              "      <td>2</td>\n",
              "      <td>1</td>\n",
              "      <td>2</td>\n",
              "      <td>4</td>\n",
              "      <td>3</td>\n",
              "      <td>4</td>\n",
              "    </tr>\n",
              "    <tr>\n",
              "      <th>4</th>\n",
              "      <td>5</td>\n",
              "      <td>4</td>\n",
              "      <td>3</td>\n",
              "      <td>1</td>\n",
              "      <td>1</td>\n",
              "      <td>5</td>\n",
              "      <td>1</td>\n",
              "      <td>2</td>\n",
              "      <td>1</td>\n",
              "      <td>3</td>\n",
              "      <td>3</td>\n",
              "      <td>5</td>\n",
              "      <td>5</td>\n",
              "    </tr>\n",
              "  </tbody>\n",
              "</table>\n",
              "</div>\n",
              "      <button class=\"colab-df-convert\" onclick=\"convertToInteractive('df-39790db5-db82-4a48-8e76-d9609650c7f9')\"\n",
              "              title=\"Convert this dataframe to an interactive table.\"\n",
              "              style=\"display:none;\">\n",
              "        \n",
              "  <svg xmlns=\"http://www.w3.org/2000/svg\" height=\"24px\"viewBox=\"0 0 24 24\"\n",
              "       width=\"24px\">\n",
              "    <path d=\"M0 0h24v24H0V0z\" fill=\"none\"/>\n",
              "    <path d=\"M18.56 5.44l.94 2.06.94-2.06 2.06-.94-2.06-.94-.94-2.06-.94 2.06-2.06.94zm-11 1L8.5 8.5l.94-2.06 2.06-.94-2.06-.94L8.5 2.5l-.94 2.06-2.06.94zm10 10l.94 2.06.94-2.06 2.06-.94-2.06-.94-.94-2.06-.94 2.06-2.06.94z\"/><path d=\"M17.41 7.96l-1.37-1.37c-.4-.4-.92-.59-1.43-.59-.52 0-1.04.2-1.43.59L10.3 9.45l-7.72 7.72c-.78.78-.78 2.05 0 2.83L4 21.41c.39.39.9.59 1.41.59.51 0 1.02-.2 1.41-.59l7.78-7.78 2.81-2.81c.8-.78.8-2.07 0-2.86zM5.41 20L4 18.59l7.72-7.72 1.47 1.35L5.41 20z\"/>\n",
              "  </svg>\n",
              "      </button>\n",
              "      \n",
              "  <style>\n",
              "    .colab-df-container {\n",
              "      display:flex;\n",
              "      flex-wrap:wrap;\n",
              "      gap: 12px;\n",
              "    }\n",
              "\n",
              "    .colab-df-convert {\n",
              "      background-color: #E8F0FE;\n",
              "      border: none;\n",
              "      border-radius: 50%;\n",
              "      cursor: pointer;\n",
              "      display: none;\n",
              "      fill: #1967D2;\n",
              "      height: 32px;\n",
              "      padding: 0 0 0 0;\n",
              "      width: 32px;\n",
              "    }\n",
              "\n",
              "    .colab-df-convert:hover {\n",
              "      background-color: #E2EBFA;\n",
              "      box-shadow: 0px 1px 2px rgba(60, 64, 67, 0.3), 0px 1px 3px 1px rgba(60, 64, 67, 0.15);\n",
              "      fill: #174EA6;\n",
              "    }\n",
              "\n",
              "    [theme=dark] .colab-df-convert {\n",
              "      background-color: #3B4455;\n",
              "      fill: #D2E3FC;\n",
              "    }\n",
              "\n",
              "    [theme=dark] .colab-df-convert:hover {\n",
              "      background-color: #434B5C;\n",
              "      box-shadow: 0px 1px 3px 1px rgba(0, 0, 0, 0.15);\n",
              "      filter: drop-shadow(0px 1px 2px rgba(0, 0, 0, 0.3));\n",
              "      fill: #FFFFFF;\n",
              "    }\n",
              "  </style>\n",
              "\n",
              "      <script>\n",
              "        const buttonEl =\n",
              "          document.querySelector('#df-39790db5-db82-4a48-8e76-d9609650c7f9 button.colab-df-convert');\n",
              "        buttonEl.style.display =\n",
              "          google.colab.kernel.accessAllowed ? 'block' : 'none';\n",
              "\n",
              "        async function convertToInteractive(key) {\n",
              "          const element = document.querySelector('#df-39790db5-db82-4a48-8e76-d9609650c7f9');\n",
              "          const dataTable =\n",
              "            await google.colab.kernel.invokeFunction('convertToInteractive',\n",
              "                                                     [key], {});\n",
              "          if (!dataTable) return;\n",
              "\n",
              "          const docLinkHtml = 'Like what you see? Visit the ' +\n",
              "            '<a target=\"_blank\" href=https://colab.research.google.com/notebooks/data_table.ipynb>data table notebook</a>'\n",
              "            + ' to learn more about interactive tables.';\n",
              "          element.innerHTML = '';\n",
              "          dataTable['output_type'] = 'display_data';\n",
              "          await google.colab.output.renderOutput(dataTable, element);\n",
              "          const docLink = document.createElement('div');\n",
              "          docLink.innerHTML = docLinkHtml;\n",
              "          element.appendChild(docLink);\n",
              "        }\n",
              "      </script>\n",
              "    </div>\n",
              "  </div>\n",
              "  "
            ]
          },
          "metadata": {},
          "execution_count": 7
        }
      ]
    },
    {
      "cell_type": "markdown",
      "source": [
        "### 3. Exploratory Data Analysis\n",
        "\n",
        "#### 3.1. Descriptive Statistics"
      ],
      "metadata": {
        "id": "ysuPTZSP6nci"
      }
    },
    {
      "cell_type": "code",
      "source": [
        "dataset.shape"
      ],
      "metadata": {
        "colab": {
          "base_uri": "https://localhost:8080/"
        },
        "id": "fcegsQVj5vG8",
        "outputId": "074172f0-ca37-4d54-8d8c-c0c2950fc06b"
      },
      "execution_count": 8,
      "outputs": [
        {
          "output_type": "execute_result",
          "data": {
            "text/plain": [
              "(3866, 13)"
            ]
          },
          "metadata": {},
          "execution_count": 8
        }
      ]
    },
    {
      "cell_type": "code",
      "source": [
        "# describe data\n",
        "pd.set_option('precision', 3)\n",
        "dataset.describe()"
      ],
      "metadata": {
        "colab": {
          "base_uri": "https://localhost:8080/",
          "height": 300
        },
        "id": "DuOsmjNB6vo5",
        "outputId": "4a073224-c79e-401b-b07d-3aa7c922ec59"
      },
      "execution_count": 9,
      "outputs": [
        {
          "output_type": "execute_result",
          "data": {
            "text/plain": [
              "             ID       AGE      EDUC   MARRIED      KIDS    LIFECL     OCCAT  \\\n",
              "count  3866.000  3866.000  3866.000  3866.000  3866.000  3866.000  3866.000   \n",
              "mean   1933.500     3.107     2.906     1.353     0.938     3.697     1.742   \n",
              "std    1116.162     1.513     1.066     0.478     1.249     1.618     0.934   \n",
              "min       1.000     1.000     1.000     1.000     0.000     1.000     1.000   \n",
              "25%     967.250     2.000     2.000     1.000     0.000     3.000     1.000   \n",
              "50%    1933.500     3.000     3.000     1.000     0.000     3.000     1.000   \n",
              "75%    2899.750     4.000     4.000     2.000     2.000     5.000     3.000   \n",
              "max    3866.000     6.000     4.000     2.000     8.000     6.000     4.000   \n",
              "\n",
              "           RISK   HHOUSES    WSAVED  SPENDMOR     NWCAT     INCCL  \n",
              "count  3866.000  3866.000  3866.000  3866.000  3866.000  3866.000  \n",
              "mean      3.043     0.717     2.446     3.561     2.976     3.671  \n",
              "std       0.879     0.451     0.743     1.304     1.463     1.184  \n",
              "min       1.000     0.000     1.000     1.000     1.000     1.000  \n",
              "25%       2.000     0.000     2.000     2.000     2.000     3.000  \n",
              "50%       3.000     1.000     3.000     4.000     3.000     4.000  \n",
              "75%       4.000     1.000     3.000     5.000     4.000     5.000  \n",
              "max       4.000     1.000     3.000     5.000     5.000     5.000  "
            ],
            "text/html": [
              "\n",
              "  <div id=\"df-81f19633-adb4-4849-ac46-347fed4c3be7\">\n",
              "    <div class=\"colab-df-container\">\n",
              "      <div>\n",
              "<style scoped>\n",
              "    .dataframe tbody tr th:only-of-type {\n",
              "        vertical-align: middle;\n",
              "    }\n",
              "\n",
              "    .dataframe tbody tr th {\n",
              "        vertical-align: top;\n",
              "    }\n",
              "\n",
              "    .dataframe thead th {\n",
              "        text-align: right;\n",
              "    }\n",
              "</style>\n",
              "<table border=\"1\" class=\"dataframe\">\n",
              "  <thead>\n",
              "    <tr style=\"text-align: right;\">\n",
              "      <th></th>\n",
              "      <th>ID</th>\n",
              "      <th>AGE</th>\n",
              "      <th>EDUC</th>\n",
              "      <th>MARRIED</th>\n",
              "      <th>KIDS</th>\n",
              "      <th>LIFECL</th>\n",
              "      <th>OCCAT</th>\n",
              "      <th>RISK</th>\n",
              "      <th>HHOUSES</th>\n",
              "      <th>WSAVED</th>\n",
              "      <th>SPENDMOR</th>\n",
              "      <th>NWCAT</th>\n",
              "      <th>INCCL</th>\n",
              "    </tr>\n",
              "  </thead>\n",
              "  <tbody>\n",
              "    <tr>\n",
              "      <th>count</th>\n",
              "      <td>3866.000</td>\n",
              "      <td>3866.000</td>\n",
              "      <td>3866.000</td>\n",
              "      <td>3866.000</td>\n",
              "      <td>3866.000</td>\n",
              "      <td>3866.000</td>\n",
              "      <td>3866.000</td>\n",
              "      <td>3866.000</td>\n",
              "      <td>3866.000</td>\n",
              "      <td>3866.000</td>\n",
              "      <td>3866.000</td>\n",
              "      <td>3866.000</td>\n",
              "      <td>3866.000</td>\n",
              "    </tr>\n",
              "    <tr>\n",
              "      <th>mean</th>\n",
              "      <td>1933.500</td>\n",
              "      <td>3.107</td>\n",
              "      <td>2.906</td>\n",
              "      <td>1.353</td>\n",
              "      <td>0.938</td>\n",
              "      <td>3.697</td>\n",
              "      <td>1.742</td>\n",
              "      <td>3.043</td>\n",
              "      <td>0.717</td>\n",
              "      <td>2.446</td>\n",
              "      <td>3.561</td>\n",
              "      <td>2.976</td>\n",
              "      <td>3.671</td>\n",
              "    </tr>\n",
              "    <tr>\n",
              "      <th>std</th>\n",
              "      <td>1116.162</td>\n",
              "      <td>1.513</td>\n",
              "      <td>1.066</td>\n",
              "      <td>0.478</td>\n",
              "      <td>1.249</td>\n",
              "      <td>1.618</td>\n",
              "      <td>0.934</td>\n",
              "      <td>0.879</td>\n",
              "      <td>0.451</td>\n",
              "      <td>0.743</td>\n",
              "      <td>1.304</td>\n",
              "      <td>1.463</td>\n",
              "      <td>1.184</td>\n",
              "    </tr>\n",
              "    <tr>\n",
              "      <th>min</th>\n",
              "      <td>1.000</td>\n",
              "      <td>1.000</td>\n",
              "      <td>1.000</td>\n",
              "      <td>1.000</td>\n",
              "      <td>0.000</td>\n",
              "      <td>1.000</td>\n",
              "      <td>1.000</td>\n",
              "      <td>1.000</td>\n",
              "      <td>0.000</td>\n",
              "      <td>1.000</td>\n",
              "      <td>1.000</td>\n",
              "      <td>1.000</td>\n",
              "      <td>1.000</td>\n",
              "    </tr>\n",
              "    <tr>\n",
              "      <th>25%</th>\n",
              "      <td>967.250</td>\n",
              "      <td>2.000</td>\n",
              "      <td>2.000</td>\n",
              "      <td>1.000</td>\n",
              "      <td>0.000</td>\n",
              "      <td>3.000</td>\n",
              "      <td>1.000</td>\n",
              "      <td>2.000</td>\n",
              "      <td>0.000</td>\n",
              "      <td>2.000</td>\n",
              "      <td>2.000</td>\n",
              "      <td>2.000</td>\n",
              "      <td>3.000</td>\n",
              "    </tr>\n",
              "    <tr>\n",
              "      <th>50%</th>\n",
              "      <td>1933.500</td>\n",
              "      <td>3.000</td>\n",
              "      <td>3.000</td>\n",
              "      <td>1.000</td>\n",
              "      <td>0.000</td>\n",
              "      <td>3.000</td>\n",
              "      <td>1.000</td>\n",
              "      <td>3.000</td>\n",
              "      <td>1.000</td>\n",
              "      <td>3.000</td>\n",
              "      <td>4.000</td>\n",
              "      <td>3.000</td>\n",
              "      <td>4.000</td>\n",
              "    </tr>\n",
              "    <tr>\n",
              "      <th>75%</th>\n",
              "      <td>2899.750</td>\n",
              "      <td>4.000</td>\n",
              "      <td>4.000</td>\n",
              "      <td>2.000</td>\n",
              "      <td>2.000</td>\n",
              "      <td>5.000</td>\n",
              "      <td>3.000</td>\n",
              "      <td>4.000</td>\n",
              "      <td>1.000</td>\n",
              "      <td>3.000</td>\n",
              "      <td>5.000</td>\n",
              "      <td>4.000</td>\n",
              "      <td>5.000</td>\n",
              "    </tr>\n",
              "    <tr>\n",
              "      <th>max</th>\n",
              "      <td>3866.000</td>\n",
              "      <td>6.000</td>\n",
              "      <td>4.000</td>\n",
              "      <td>2.000</td>\n",
              "      <td>8.000</td>\n",
              "      <td>6.000</td>\n",
              "      <td>4.000</td>\n",
              "      <td>4.000</td>\n",
              "      <td>1.000</td>\n",
              "      <td>3.000</td>\n",
              "      <td>5.000</td>\n",
              "      <td>5.000</td>\n",
              "      <td>5.000</td>\n",
              "    </tr>\n",
              "  </tbody>\n",
              "</table>\n",
              "</div>\n",
              "      <button class=\"colab-df-convert\" onclick=\"convertToInteractive('df-81f19633-adb4-4849-ac46-347fed4c3be7')\"\n",
              "              title=\"Convert this dataframe to an interactive table.\"\n",
              "              style=\"display:none;\">\n",
              "        \n",
              "  <svg xmlns=\"http://www.w3.org/2000/svg\" height=\"24px\"viewBox=\"0 0 24 24\"\n",
              "       width=\"24px\">\n",
              "    <path d=\"M0 0h24v24H0V0z\" fill=\"none\"/>\n",
              "    <path d=\"M18.56 5.44l.94 2.06.94-2.06 2.06-.94-2.06-.94-.94-2.06-.94 2.06-2.06.94zm-11 1L8.5 8.5l.94-2.06 2.06-.94-2.06-.94L8.5 2.5l-.94 2.06-2.06.94zm10 10l.94 2.06.94-2.06 2.06-.94-2.06-.94-.94-2.06-.94 2.06-2.06.94z\"/><path d=\"M17.41 7.96l-1.37-1.37c-.4-.4-.92-.59-1.43-.59-.52 0-1.04.2-1.43.59L10.3 9.45l-7.72 7.72c-.78.78-.78 2.05 0 2.83L4 21.41c.39.39.9.59 1.41.59.51 0 1.02-.2 1.41-.59l7.78-7.78 2.81-2.81c.8-.78.8-2.07 0-2.86zM5.41 20L4 18.59l7.72-7.72 1.47 1.35L5.41 20z\"/>\n",
              "  </svg>\n",
              "      </button>\n",
              "      \n",
              "  <style>\n",
              "    .colab-df-container {\n",
              "      display:flex;\n",
              "      flex-wrap:wrap;\n",
              "      gap: 12px;\n",
              "    }\n",
              "\n",
              "    .colab-df-convert {\n",
              "      background-color: #E8F0FE;\n",
              "      border: none;\n",
              "      border-radius: 50%;\n",
              "      cursor: pointer;\n",
              "      display: none;\n",
              "      fill: #1967D2;\n",
              "      height: 32px;\n",
              "      padding: 0 0 0 0;\n",
              "      width: 32px;\n",
              "    }\n",
              "\n",
              "    .colab-df-convert:hover {\n",
              "      background-color: #E2EBFA;\n",
              "      box-shadow: 0px 1px 2px rgba(60, 64, 67, 0.3), 0px 1px 3px 1px rgba(60, 64, 67, 0.15);\n",
              "      fill: #174EA6;\n",
              "    }\n",
              "\n",
              "    [theme=dark] .colab-df-convert {\n",
              "      background-color: #3B4455;\n",
              "      fill: #D2E3FC;\n",
              "    }\n",
              "\n",
              "    [theme=dark] .colab-df-convert:hover {\n",
              "      background-color: #434B5C;\n",
              "      box-shadow: 0px 1px 3px 1px rgba(0, 0, 0, 0.15);\n",
              "      filter: drop-shadow(0px 1px 2px rgba(0, 0, 0, 0.3));\n",
              "      fill: #FFFFFF;\n",
              "    }\n",
              "  </style>\n",
              "\n",
              "      <script>\n",
              "        const buttonEl =\n",
              "          document.querySelector('#df-81f19633-adb4-4849-ac46-347fed4c3be7 button.colab-df-convert');\n",
              "        buttonEl.style.display =\n",
              "          google.colab.kernel.accessAllowed ? 'block' : 'none';\n",
              "\n",
              "        async function convertToInteractive(key) {\n",
              "          const element = document.querySelector('#df-81f19633-adb4-4849-ac46-347fed4c3be7');\n",
              "          const dataTable =\n",
              "            await google.colab.kernel.invokeFunction('convertToInteractive',\n",
              "                                                     [key], {});\n",
              "          if (!dataTable) return;\n",
              "\n",
              "          const docLinkHtml = 'Like what you see? Visit the ' +\n",
              "            '<a target=\"_blank\" href=https://colab.research.google.com/notebooks/data_table.ipynb>data table notebook</a>'\n",
              "            + ' to learn more about interactive tables.';\n",
              "          element.innerHTML = '';\n",
              "          dataTable['output_type'] = 'display_data';\n",
              "          await google.colab.output.renderOutput(dataTable, element);\n",
              "          const docLink = document.createElement('div');\n",
              "          docLink.innerHTML = docLinkHtml;\n",
              "          element.appendChild(docLink);\n",
              "        }\n",
              "      </script>\n",
              "    </div>\n",
              "  </div>\n",
              "  "
            ]
          },
          "metadata": {},
          "execution_count": 9
        }
      ]
    },
    {
      "cell_type": "markdown",
      "source": [
        "#### 3.2. Data Visualization"
      ],
      "metadata": {
        "id": "9gE9FNAl8_jv"
      }
    },
    {
      "cell_type": "code",
      "source": [
        "correlation = dataset.corr()\n",
        "plt.figure(figsize=(15,15))\n",
        "plt.title('Correlation Matrix')\n",
        "sns.heatmap(correlation, annot=True, square=True, cmap='cubehelix');"
      ],
      "metadata": {
        "colab": {
          "base_uri": "https://localhost:8080/",
          "height": 850
        },
        "id": "EO80Dp4g7JMy",
        "outputId": "dd1d36c7-84e4-4d1f-ae53-a20a85028e57"
      },
      "execution_count": 10,
      "outputs": [
        {
          "output_type": "display_data",
          "data": {
            "text/plain": [
              "<Figure size 1080x1080 with 2 Axes>"
            ],
            "image/png": "[encoded data removed]"
          },
          "metadata": {
            "needs_background": "light"
          }
        }
      ]
    },
    {
      "cell_type": "markdown",
      "source": [
        "### 4. Data Preparation\n",
        "\n",
        "#### 4.1. Data Cleaning"
      ],
      "metadata": {
        "id": "6XykOBymBlRl"
      }
    },
    {
      "cell_type": "code",
      "source": [
        "dataset.isnull().sum()"
      ],
      "metadata": {
        "colab": {
          "base_uri": "https://localhost:8080/"
        },
        "id": "sDSPR3jp9O4i",
        "outputId": "73abfd0b-8e1f-48a9-ac74-4db943c896fe"
      },
      "execution_count": 11,
      "outputs": [
        {
          "output_type": "execute_result",
          "data": {
            "text/plain": [
              "ID          0\n",
              "AGE         0\n",
              "EDUC        0\n",
              "MARRIED     0\n",
              "KIDS        0\n",
              "LIFECL      0\n",
              "OCCAT       0\n",
              "RISK        0\n",
              "HHOUSES     0\n",
              "WSAVED      0\n",
              "SPENDMOR    0\n",
              "NWCAT       0\n",
              "INCCL       0\n",
              "dtype: int64"
            ]
          },
          "metadata": {},
          "execution_count": 11
        }
      ]
    },
    {
      "cell_type": "code",
      "source": [
        "X = dataset.copy('deep')\n",
        "X = X.drop(['ID'], axis=1)\n",
        "X.head()"
      ],
      "metadata": {
        "colab": {
          "base_uri": "https://localhost:8080/",
          "height": 206
        },
        "id": "iW4AbLuNBr6J",
        "outputId": "b151468c-26bd-44d5-90d5-ff7cef274f0c"
      },
      "execution_count": 12,
      "outputs": [
        {
          "output_type": "execute_result",
          "data": {
            "text/plain": [
              "   AGE  EDUC  MARRIED  KIDS  LIFECL  OCCAT  RISK  HHOUSES  WSAVED  SPENDMOR  \\\n",
              "0    3     2        1     0       2      1     3        1       1         5   \n",
              "1    4     4        1     2       5      2     3        0       2         5   \n",
              "2    3     1        1     2       3      2     2        1       2         4   \n",
              "3    3     1        1     2       3      2     2        1       2         4   \n",
              "4    4     3        1     1       5      1     2        1       3         3   \n",
              "\n",
              "   NWCAT  INCCL  \n",
              "0      3      4  \n",
              "1      5      5  \n",
              "2      4      4  \n",
              "3      3      4  \n",
              "4      5      5  "
            ],
            "text/html": [
              "\n",
              "  <div id=\"df-072ef85e-f8fc-48ab-af9a-d01cbd315aa2\">\n",
              "    <div class=\"colab-df-container\">\n",
              "      <div>\n",
              "<style scoped>\n",
              "    .dataframe tbody tr th:only-of-type {\n",
              "        vertical-align: middle;\n",
              "    }\n",
              "\n",
              "    .dataframe tbody tr th {\n",
              "        vertical-align: top;\n",
              "    }\n",
              "\n",
              "    .dataframe thead th {\n",
              "        text-align: right;\n",
              "    }\n",
              "</style>\n",
              "<table border=\"1\" class=\"dataframe\">\n",
              "  <thead>\n",
              "    <tr style=\"text-align: right;\">\n",
              "      <th></th>\n",
              "      <th>AGE</th>\n",
              "      <th>EDUC</th>\n",
              "      <th>MARRIED</th>\n",
              "      <th>KIDS</th>\n",
              "      <th>LIFECL</th>\n",
              "      <th>OCCAT</th>\n",
              "      <th>RISK</th>\n",
              "      <th>HHOUSES</th>\n",
              "      <th>WSAVED</th>\n",
              "      <th>SPENDMOR</th>\n",
              "      <th>NWCAT</th>\n",
              "      <th>INCCL</th>\n",
              "    </tr>\n",
              "  </thead>\n",
              "  <tbody>\n",
              "    <tr>\n",
              "      <th>0</th>\n",
              "      <td>3</td>\n",
              "      <td>2</td>\n",
              "      <td>1</td>\n",
              "      <td>0</td>\n",
              "      <td>2</td>\n",
              "      <td>1</td>\n",
              "      <td>3</td>\n",
              "      <td>1</td>\n",
              "      <td>1</td>\n",
              "      <td>5</td>\n",
              "      <td>3</td>\n",
              "      <td>4</td>\n",
              "    </tr>\n",
              "    <tr>\n",
              "      <th>1</th>\n",
              "      <td>4</td>\n",
              "      <td>4</td>\n",
              "      <td>1</td>\n",
              "      <td>2</td>\n",
              "      <td>5</td>\n",
              "      <td>2</td>\n",
              "      <td>3</td>\n",
              "      <td>0</td>\n",
              "      <td>2</td>\n",
              "      <td>5</td>\n",
              "      <td>5</td>\n",
              "      <td>5</td>\n",
              "    </tr>\n",
              "    <tr>\n",
              "      <th>2</th>\n",
              "      <td>3</td>\n",
              "      <td>1</td>\n",
              "      <td>1</td>\n",
              "      <td>2</td>\n",
              "      <td>3</td>\n",
              "      <td>2</td>\n",
              "      <td>2</td>\n",
              "      <td>1</td>\n",
              "      <td>2</td>\n",
              "      <td>4</td>\n",
              "      <td>4</td>\n",
              "      <td>4</td>\n",
              "    </tr>\n",
              "    <tr>\n",
              "      <th>3</th>\n",
              "      <td>3</td>\n",
              "      <td>1</td>\n",
              "      <td>1</td>\n",
              "      <td>2</td>\n",
              "      <td>3</td>\n",
              "      <td>2</td>\n",
              "      <td>2</td>\n",
              "      <td>1</td>\n",
              "      <td>2</td>\n",
              "      <td>4</td>\n",
              "      <td>3</td>\n",
              "      <td>4</td>\n",
              "    </tr>\n",
              "    <tr>\n",
              "      <th>4</th>\n",
              "      <td>4</td>\n",
              "      <td>3</td>\n",
              "      <td>1</td>\n",
              "      <td>1</td>\n",
              "      <td>5</td>\n",
              "      <td>1</td>\n",
              "      <td>2</td>\n",
              "      <td>1</td>\n",
              "      <td>3</td>\n",
              "      <td>3</td>\n",
              "      <td>5</td>\n",
              "      <td>5</td>\n",
              "    </tr>\n",
              "  </tbody>\n",
              "</table>\n",
              "</div>\n",
              "      <button class=\"colab-df-convert\" onclick=\"convertToInteractive('df-072ef85e-f8fc-48ab-af9a-d01cbd315aa2')\"\n",
              "              title=\"Convert this dataframe to an interactive table.\"\n",
              "              style=\"display:none;\">\n",
              "        \n",
              "  <svg xmlns=\"http://www.w3.org/2000/svg\" height=\"24px\"viewBox=\"0 0 24 24\"\n",
              "       width=\"24px\">\n",
              "    <path d=\"M0 0h24v24H0V0z\" fill=\"none\"/>\n",
              "    <path d=\"M18.56 5.44l.94 2.06.94-2.06 2.06-.94-2.06-.94-.94-2.06-.94 2.06-2.06.94zm-11 1L8.5 8.5l.94-2.06 2.06-.94-2.06-.94L8.5 2.5l-.94 2.06-2.06.94zm10 10l.94 2.06.94-2.06 2.06-.94-2.06-.94-.94-2.06-.94 2.06-2.06.94z\"/><path d=\"M17.41 7.96l-1.37-1.37c-.4-.4-.92-.59-1.43-.59-.52 0-1.04.2-1.43.59L10.3 9.45l-7.72 7.72c-.78.78-.78 2.05 0 2.83L4 21.41c.39.39.9.59 1.41.59.51 0 1.02-.2 1.41-.59l7.78-7.78 2.81-2.81c.8-.78.8-2.07 0-2.86zM5.41 20L4 18.59l7.72-7.72 1.47 1.35L5.41 20z\"/>\n",
              "  </svg>\n",
              "      </button>\n",
              "      \n",
              "  <style>\n",
              "    .colab-df-container {\n",
              "      display:flex;\n",
              "      flex-wrap:wrap;\n",
              "      gap: 12px;\n",
              "    }\n",
              "\n",
              "    .colab-df-convert {\n",
              "      background-color: #E8F0FE;\n",
              "      border: none;\n",
              "      border-radius: 50%;\n",
              "      cursor: pointer;\n",
              "      display: none;\n",
              "      fill: #1967D2;\n",
              "      height: 32px;\n",
              "      padding: 0 0 0 0;\n",
              "      width: 32px;\n",
              "    }\n",
              "\n",
              "    .colab-df-convert:hover {\n",
              "      background-color: #E2EBFA;\n",
              "      box-shadow: 0px 1px 2px rgba(60, 64, 67, 0.3), 0px 1px 3px 1px rgba(60, 64, 67, 0.15);\n",
              "      fill: #174EA6;\n",
              "    }\n",
              "\n",
              "    [theme=dark] .colab-df-convert {\n",
              "      background-color: #3B4455;\n",
              "      fill: #D2E3FC;\n",
              "    }\n",
              "\n",
              "    [theme=dark] .colab-df-convert:hover {\n",
              "      background-color: #434B5C;\n",
              "      box-shadow: 0px 1px 3px 1px rgba(0, 0, 0, 0.15);\n",
              "      filter: drop-shadow(0px 1px 2px rgba(0, 0, 0, 0.3));\n",
              "      fill: #FFFFFF;\n",
              "    }\n",
              "  </style>\n",
              "\n",
              "      <script>\n",
              "        const buttonEl =\n",
              "          document.querySelector('#df-072ef85e-f8fc-48ab-af9a-d01cbd315aa2 button.colab-df-convert');\n",
              "        buttonEl.style.display =\n",
              "          google.colab.kernel.accessAllowed ? 'block' : 'none';\n",
              "\n",
              "        async function convertToInteractive(key) {\n",
              "          const element = document.querySelector('#df-072ef85e-f8fc-48ab-af9a-d01cbd315aa2');\n",
              "          const dataTable =\n",
              "            await google.colab.kernel.invokeFunction('convertToInteractive',\n",
              "                                                     [key], {});\n",
              "          if (!dataTable) return;\n",
              "\n",
              "          const docLinkHtml = 'Like what you see? Visit the ' +\n",
              "            '<a target=\"_blank\" href=https://colab.research.google.com/notebooks/data_table.ipynb>data table notebook</a>'\n",
              "            + ' to learn more about interactive tables.';\n",
              "          element.innerHTML = '';\n",
              "          dataTable['output_type'] = 'display_data';\n",
              "          await google.colab.output.renderOutput(dataTable, element);\n",
              "          const docLink = document.createElement('div');\n",
              "          docLink.innerHTML = docLinkHtml;\n",
              "          element.appendChild(docLink);\n",
              "        }\n",
              "      </script>\n",
              "    </div>\n",
              "  </div>\n",
              "  "
            ]
          },
          "metadata": {},
          "execution_count": 12
        }
      ]
    },
    {
      "cell_type": "markdown",
      "source": [
        "### 5. Evaluate Algoritms and Models\n",
        "\n",
        "1.   K-means\n",
        "2.   Affinitiy Propagation\n",
        "\n",
        "#### 5.1. K-Means Clustering\n",
        "\n",
        "##### 5.1.1. Finding Optimal number of clusters\n",
        "\n",
        "1. Sum of square errors (SSE) within clusters\n",
        "2. Silhouette score\n"
      ],
      "metadata": {
        "id": "V0-D-WJXCuFe"
      }
    },
    {
      "cell_type": "code",
      "source": [
        "distortions = []\n",
        "max_loop = 40\n",
        "for k in range (2, max_loop):\n",
        "  print('Testing k = ', k)\n",
        "  k_means = KMeans(n_clusters = k)\n",
        "  k_means.fit(X)\n",
        "  distortions.append(k_means.inertia_)"
      ],
      "metadata": {
        "colab": {
          "base_uri": "https://localhost:8080/"
        },
        "id": "H1Pj28xKClmm",
        "outputId": "f1e18577-5cfd-4abf-8ce7-3391741f70e6"
      },
      "execution_count": 13,
      "outputs": [
        {
          "output_type": "stream",
          "name": "stdout",
          "text": [
            "Testing k =  2\n",
            "Testing k =  3\n",
            "Testing k =  4\n",
            "Testing k =  5\n",
            "Testing k =  6\n",
            "Testing k =  7\n",
            "Testing k =  8\n",
            "Testing k =  9\n",
            "Testing k =  10\n",
            "Testing k =  11\n",
            "Testing k =  12\n",
            "Testing k =  13\n",
            "Testing k =  14\n",
            "Testing k =  15\n",
            "Testing k =  16\n",
            "Testing k =  17\n",
            "Testing k =  18\n",
            "Testing k =  19\n",
            "Testing k =  20\n",
            "Testing k =  21\n",
            "Testing k =  22\n",
            "Testing k =  23\n",
            "Testing k =  24\n",
            "Testing k =  25\n",
            "Testing k =  26\n",
            "Testing k =  27\n",
            "Testing k =  28\n",
            "Testing k =  29\n",
            "Testing k =  30\n",
            "Testing k =  31\n",
            "Testing k =  32\n",
            "Testing k =  33\n",
            "Testing k =  34\n",
            "Testing k =  35\n",
            "Testing k =  36\n",
            "Testing k =  37\n",
            "Testing k =  38\n",
            "Testing k =  39\n"
          ]
        }
      ]
    },
    {
      "cell_type": "code",
      "source": [
        "fig = plt.figure(figsize=(10,5))\n",
        "plt.plot(range(2,max_loop), distortions)\n",
        "plt.xticks([i for i in range(2, max_loop)], rotation=75)\n",
        "plt.xlabel('Number of clusters')\n",
        "plt.ylabel('Sum of square error')\n",
        "plt.grid(True)"
      ],
      "metadata": {
        "colab": {
          "base_uri": "https://localhost:8080/",
          "height": 339
        },
        "id": "r7NWUtCHEv4o",
        "outputId": "4477c8eb-91e3-4853-c445-5a43aa70a9c4"
      },
      "execution_count": 15,
      "outputs": [
        {
          "output_type": "display_data",
          "data": {
            "text/plain": [
              "<Figure size 720x360 with 1 Axes>"
            ],
            "image/png": "[encoded data removed]"
          },
          "metadata": {
            "needs_background": "light"
          }
        }
      ]
    },
    {
      "cell_type": "markdown",
      "source": [
        "#### Silhouette score"
      ],
      "metadata": {
        "id": "e_Hx_FCnGDav"
      }
    },
    {
      "cell_type": "code",
      "source": [
        "from sklearn import metrics\n",
        "\n",
        "silhouette_score = []\n",
        "for k in range(2, max_loop):\n",
        "  print('Testing k = ', k)\n",
        "  kmeans = KMeans(n_clusters=k, random_state=10, n_init=10)\n",
        "  kmeans.fit(X)\n",
        "  silhouette_score.append(metrics.silhouette_score(X, kmeans.labels_, random_state=10))"
      ],
      "metadata": {
        "colab": {
          "base_uri": "https://localhost:8080/"
        },
        "id": "AWCfJLmIGJ2A",
        "outputId": "760d9f4e-3bb8-4415-d8d9-b511fc19591b"
      },
      "execution_count": 23,
      "outputs": [
        {
          "output_type": "stream",
          "name": "stdout",
          "text": [
            "Testing  2\n",
            "Testing  3\n",
            "Testing  4\n",
            "Testing  5\n",
            "Testing  6\n",
            "Testing  7\n",
            "Testing  8\n",
            "Testing  9\n",
            "Testing  10\n",
            "Testing  11\n",
            "Testing  12\n",
            "Testing  13\n",
            "Testing  14\n",
            "Testing  15\n",
            "Testing  16\n",
            "Testing  17\n",
            "Testing  18\n",
            "Testing  19\n",
            "Testing  20\n",
            "Testing  21\n",
            "Testing  22\n",
            "Testing  23\n",
            "Testing  24\n",
            "Testing  25\n",
            "Testing  26\n",
            "Testing  27\n",
            "Testing  28\n",
            "Testing  29\n",
            "Testing  30\n",
            "Testing  31\n",
            "Testing  32\n",
            "Testing  33\n",
            "Testing  34\n",
            "Testing  35\n",
            "Testing  36\n",
            "Testing  37\n",
            "Testing  38\n",
            "Testing  39\n"
          ]
        }
      ]
    },
    {
      "cell_type": "code",
      "source": [
        "fig = plt.figure(figsize=(10,5))\n",
        "plt.plot(range(2, max_loop), silhouette_score)\n",
        "plt.xticks([i for i in range(2, max_loop)], rotation=75)\n",
        "plt.xlabel('Number of clusters')\n",
        "plt.ylabel('Silhouette score')\n",
        "plt.grid(True)"
      ],
      "metadata": {
        "colab": {
          "base_uri": "https://localhost:8080/",
          "height": 341
        },
        "id": "591f8SwqH-cf",
        "outputId": "f522d8bc-ebe1-410a-a61a-dd598a3d5b44"
      },
      "execution_count": 24,
      "outputs": [
        {
          "output_type": "display_data",
          "data": {
            "text/plain": [
              "<Figure size 720x360 with 1 Axes>"
            ],
            "image/png": "[encoded data removed]"
          },
          "metadata": {
            "needs_background": "light"
          }
        }
      ]
    },
    {
      "cell_type": "code",
      "source": [
        ""
      ],
      "metadata": {
        "id": "wJWYuNzMIhX_"
      },
      "execution_count": null,
      "outputs": []
    }
  ]
}