{
  "nbformat": 4,
  "nbformat_minor": 0,
  "metadata": {
    "colab": {
      "name": "loan_default_probability.ipynb",
      "provenance": [],
      "authorship_tag": "ABX9TyOLGVpPgjzW3ixHhqOMw2Ze",
      "include_colab_link": true
    },
    "kernelspec": {
      "name": "python3",
      "display_name": "Python 3"
    },
    "language_info": {
      "name": "python"
    }
  },
  "cells": [
    {
      "cell_type": "markdown",
      "metadata": {
        "id": "view-in-github",
        "colab_type": "text"
      },
      "source": [
        "<a href=\"https://colab.research.google.com/github/dkomlen/finance-ml/blob/main/loan_default_probability.ipynb\" target=\"_parent\"><img src=\"https://colab.research.google.com/assets/colab-badge.svg\" alt=\"Open In Colab\"/></a>"
      ]
    },
    {
      "cell_type": "code",
      "execution_count": 1,
      "metadata": {
        "id": "pj8EU1_o3v_F"
      },
      "outputs": [],
      "source": [
        "# Load libraries\n",
        "import numpy as np\n",
        "import pandas as pd\n",
        "from matplotlib import pyplot\n",
        "from pandas import read_csv, set_option\n",
        "from pandas.plotting import scatter_matrix\n",
        "import seaborn as sns\n",
        "from sklearn.preprocessing import StandardScaler\n",
        "from sklearn.model_selection import train_test_split, KFold, cross_val_score, GridSearchCV\n",
        "from sklearn.linear_model import LogisticRegression\n",
        "from sklearn.tree import DecisionTreeClassifier\n",
        "from sklearn.neighbors import KNeighborsClassifier\n",
        "from sklearn.discriminant_analysis import LinearDiscriminantAnalysis\n",
        "from sklearn.naive_bayes import GaussianNB\n",
        "from sklearn.svm import SVC\n",
        "from sklearn.neural_network import MLPClassifier\n",
        "from sklearn.pipeline import Pipeline\n",
        "from sklearn.ensemble import AdaBoostClassifier, GradientBoostingClassifier, RandomForestClassifier, ExtraTreesClassifier\n",
        "from sklearn.metrics import classification_report, confusion_matrix, accuracy_score\n",
        "\n",
        "#Libraries for Deep Learning Models\n",
        "from keras.models import Sequential\n",
        "from keras.layers import Dense\n",
        "from keras.wrappers.scikit_learn import KerasClassifier\n",
        "from tensorflow.keras.optimizers import SGD\n",
        "\n",
        "#Libraries for Saving the Model\n",
        "from pickle import dump\n",
        "from pickle import load"
      ]
    },
    {
      "cell_type": "markdown",
      "source": [
        "#### 2.2 Loading the data"
      ],
      "metadata": {
        "id": "8xgKXIF95UDk"
      }
    },
    {
      "cell_type": "code",
      "source": [
        "loans = pd.read_csv('https://github.com/tatsath/fin-ml/raw/master/Chapter%206%20-%20Sup.%20Learning%20-%20Classification%20models/CaseStudy2%20-%20Loan%20Default%20Probability/LoansData_sample.csv.gz', compression='gzip', encoding='utf-8')"
      ],
      "metadata": {
        "colab": {
          "base_uri": "https://localhost:8080/"
        },
        "id": "0oOP1dpo30Q0",
        "outputId": "641190b6-1f8f-47d3-bf8d-90e0e6a90f0e"
      },
      "execution_count": 2,
      "outputs": [
        {
          "output_type": "stream",
          "name": "stderr",
          "text": [
            "/usr/local/lib/python3.7/dist-packages/IPython/core/interactiveshell.py:2882: DtypeWarning: Columns (19) have mixed types.Specify dtype option on import or set low_memory=False.\n",
            "  exec(code_obj, self.user_global_ns, self.user_ns)\n"
          ]
        }
      ]
    },
    {
      "cell_type": "code",
      "source": [
        "dataset = loans"
      ],
      "metadata": {
        "id": "6LAl_25i4kdc"
      },
      "execution_count": 3,
      "outputs": []
    },
    {
      "cell_type": "code",
      "source": [
        "#Disable the warnings\n",
        "import warnings\n",
        "warnings.filterwarnings('ignore')"
      ],
      "metadata": {
        "id": "8PsZUSrE4nlP"
      },
      "execution_count": 4,
      "outputs": []
    },
    {
      "cell_type": "code",
      "source": [
        "type(dataset)"
      ],
      "metadata": {
        "colab": {
          "base_uri": "https://localhost:8080/"
        },
        "id": "7wh17mel4yW5",
        "outputId": "37d446fe-8dee-468f-8227-3f9a19a813fe"
      },
      "execution_count": 5,
      "outputs": [
        {
          "output_type": "execute_result",
          "data": {
            "text/plain": [
              "pandas.core.frame.DataFrame"
            ]
          },
          "metadata": {},
          "execution_count": 5
        }
      ]
    },
    {
      "cell_type": "code",
      "source": [
        "dataset.head()"
      ],
      "metadata": {
        "colab": {
          "base_uri": "https://localhost:8080/",
          "height": 403
        },
        "id": "40Ap2ZoH42f6",
        "outputId": "b6b863db-275b-4649-9490-23aa7117d8a3"
      },
      "execution_count": 6,
      "outputs": [
        {
          "output_type": "execute_result",
          "data": {
            "text/plain": [
              "   Unnamed: 0        id  member_id  loan_amnt  funded_amnt  funded_amnt_inv  \\\n",
              "0           0  38098114        NaN    15000.0      15000.0          15000.0   \n",
              "1           1  36805548        NaN    10400.0      10400.0          10400.0   \n",
              "2           2  37842129        NaN    21425.0      21425.0          21425.0   \n",
              "3           3  37612354        NaN    12800.0      12800.0          12800.0   \n",
              "4           4  37662224        NaN     7650.0       7650.0           7650.0   \n",
              "\n",
              "         term  int_rate  installment grade  ...  \\\n",
              "0   60 months     12.39       336.64     C  ...   \n",
              "1   36 months      6.99       321.08     A  ...   \n",
              "2   60 months     15.59       516.36     D  ...   \n",
              "3   60 months     17.14       319.08     D  ...   \n",
              "4   36 months     13.66       260.20     C  ...   \n",
              "\n",
              "  hardship_payoff_balance_amount hardship_last_payment_amount  \\\n",
              "0                            NaN                          NaN   \n",
              "1                            NaN                          NaN   \n",
              "2                            NaN                          NaN   \n",
              "3                            NaN                          NaN   \n",
              "4                            NaN                          NaN   \n",
              "\n",
              "  disbursement_method debt_settlement_flag  debt_settlement_flag_date  \\\n",
              "0                Cash                    N                        NaN   \n",
              "1                Cash                    N                        NaN   \n",
              "2                Cash                    N                        NaN   \n",
              "3                Cash                    N                        NaN   \n",
              "4                Cash                    N                        NaN   \n",
              "\n",
              "  settlement_status settlement_date settlement_amount settlement_percentage  \\\n",
              "0               NaN             NaN               NaN                   NaN   \n",
              "1               NaN             NaN               NaN                   NaN   \n",
              "2               NaN             NaN               NaN                   NaN   \n",
              "3               NaN             NaN               NaN                   NaN   \n",
              "4               NaN             NaN               NaN                   NaN   \n",
              "\n",
              "  settlement_term  \n",
              "0             NaN  \n",
              "1             NaN  \n",
              "2             NaN  \n",
              "3             NaN  \n",
              "4             NaN  \n",
              "\n",
              "[5 rows x 151 columns]"
            ],
            "text/html": [
              "\n",
              "  <div id=\"df-7df3581b-2405-47be-9293-2e5cf6819c65\">\n",
              "    <div class=\"colab-df-container\">\n",
              "      <div>\n",
              "<style scoped>\n",
              "    .dataframe tbody tr th:only-of-type {\n",
              "        vertical-align: middle;\n",
              "    }\n",
              "\n",
              "    .dataframe tbody tr th {\n",
              "        vertical-align: top;\n",
              "    }\n",
              "\n",
              "    .dataframe thead th {\n",
              "        text-align: right;\n",
              "    }\n",
              "</style>\n",
              "<table border=\"1\" class=\"dataframe\">\n",
              "  <thead>\n",
              "    <tr style=\"text-align: right;\">\n",
              "      <th></th>\n",
              "      <th>Unnamed: 0</th>\n",
              "      <th>id</th>\n",
              "      <th>member_id</th>\n",
              "      <th>loan_amnt</th>\n",
              "      <th>funded_amnt</th>\n",
              "      <th>funded_amnt_inv</th>\n",
              "      <th>term</th>\n",
              "      <th>int_rate</th>\n",
              "      <th>installment</th>\n",
              "      <th>grade</th>\n",
              "      <th>...</th>\n",
              "      <th>hardship_payoff_balance_amount</th>\n",
              "      <th>hardship_last_payment_amount</th>\n",
              "      <th>disbursement_method</th>\n",
              "      <th>debt_settlement_flag</th>\n",
              "      <th>debt_settlement_flag_date</th>\n",
              "      <th>settlement_status</th>\n",
              "      <th>settlement_date</th>\n",
              "      <th>settlement_amount</th>\n",
              "      <th>settlement_percentage</th>\n",
              "      <th>settlement_term</th>\n",
              "    </tr>\n",
              "  </thead>\n",
              "  <tbody>\n",
              "    <tr>\n",
              "      <th>0</th>\n",
              "      <td>0</td>\n",
              "      <td>38098114</td>\n",
              "      <td>NaN</td>\n",
              "      <td>15000.0</td>\n",
              "      <td>15000.0</td>\n",
              "      <td>15000.0</td>\n",
              "      <td>60 months</td>\n",
              "      <td>12.39</td>\n",
              "      <td>336.64</td>\n",
              "      <td>C</td>\n",
              "      <td>...</td>\n",
              "      <td>NaN</td>\n",
              "      <td>NaN</td>\n",
              "      <td>Cash</td>\n",
              "      <td>N</td>\n",
              "      <td>NaN</td>\n",
              "      <td>NaN</td>\n",
              "      <td>NaN</td>\n",
              "      <td>NaN</td>\n",
              "      <td>NaN</td>\n",
              "      <td>NaN</td>\n",
              "    </tr>\n",
              "    <tr>\n",
              "      <th>1</th>\n",
              "      <td>1</td>\n",
              "      <td>36805548</td>\n",
              "      <td>NaN</td>\n",
              "      <td>10400.0</td>\n",
              "      <td>10400.0</td>\n",
              "      <td>10400.0</td>\n",
              "      <td>36 months</td>\n",
              "      <td>6.99</td>\n",
              "      <td>321.08</td>\n",
              "      <td>A</td>\n",
              "      <td>...</td>\n",
              "      <td>NaN</td>\n",
              "      <td>NaN</td>\n",
              "      <td>Cash</td>\n",
              "      <td>N</td>\n",
              "      <td>NaN</td>\n",
              "      <td>NaN</td>\n",
              "      <td>NaN</td>\n",
              "      <td>NaN</td>\n",
              "      <td>NaN</td>\n",
              "      <td>NaN</td>\n",
              "    </tr>\n",
              "    <tr>\n",
              "      <th>2</th>\n",
              "      <td>2</td>\n",
              "      <td>37842129</td>\n",
              "      <td>NaN</td>\n",
              "      <td>21425.0</td>\n",
              "      <td>21425.0</td>\n",
              "      <td>21425.0</td>\n",
              "      <td>60 months</td>\n",
              "      <td>15.59</td>\n",
              "      <td>516.36</td>\n",
              "      <td>D</td>\n",
              "      <td>...</td>\n",
              "      <td>NaN</td>\n",
              "      <td>NaN</td>\n",
              "      <td>Cash</td>\n",
              "      <td>N</td>\n",
              "      <td>NaN</td>\n",
              "      <td>NaN</td>\n",
              "      <td>NaN</td>\n",
              "      <td>NaN</td>\n",
              "      <td>NaN</td>\n",
              "      <td>NaN</td>\n",
              "    </tr>\n",
              "    <tr>\n",
              "      <th>3</th>\n",
              "      <td>3</td>\n",
              "      <td>37612354</td>\n",
              "      <td>NaN</td>\n",
              "      <td>12800.0</td>\n",
              "      <td>12800.0</td>\n",
              "      <td>12800.0</td>\n",
              "      <td>60 months</td>\n",
              "      <td>17.14</td>\n",
              "      <td>319.08</td>\n",
              "      <td>D</td>\n",
              "      <td>...</td>\n",
              "      <td>NaN</td>\n",
              "      <td>NaN</td>\n",
              "      <td>Cash</td>\n",
              "      <td>N</td>\n",
              "      <td>NaN</td>\n",
              "      <td>NaN</td>\n",
              "      <td>NaN</td>\n",
              "      <td>NaN</td>\n",
              "      <td>NaN</td>\n",
              "      <td>NaN</td>\n",
              "    </tr>\n",
              "    <tr>\n",
              "      <th>4</th>\n",
              "      <td>4</td>\n",
              "      <td>37662224</td>\n",
              "      <td>NaN</td>\n",
              "      <td>7650.0</td>\n",
              "      <td>7650.0</td>\n",
              "      <td>7650.0</td>\n",
              "      <td>36 months</td>\n",
              "      <td>13.66</td>\n",
              "      <td>260.20</td>\n",
              "      <td>C</td>\n",
              "      <td>...</td>\n",
              "      <td>NaN</td>\n",
              "      <td>NaN</td>\n",
              "      <td>Cash</td>\n",
              "      <td>N</td>\n",
              "      <td>NaN</td>\n",
              "      <td>NaN</td>\n",
              "      <td>NaN</td>\n",
              "      <td>NaN</td>\n",
              "      <td>NaN</td>\n",
              "      <td>NaN</td>\n",
              "    </tr>\n",
              "  </tbody>\n",
              "</table>\n",
              "<p>5 rows × 151 columns</p>\n",
              "</div>\n",
              "      <button class=\"colab-df-convert\" onclick=\"convertToInteractive('df-7df3581b-2405-47be-9293-2e5cf6819c65')\"\n",
              "              title=\"Convert this dataframe to an interactive table.\"\n",
              "              style=\"display:none;\">\n",
              "        \n",
              "  <svg xmlns=\"http://www.w3.org/2000/svg\" height=\"24px\"viewBox=\"0 0 24 24\"\n",
              "       width=\"24px\">\n",
              "    <path d=\"M0 0h24v24H0V0z\" fill=\"none\"/>\n",
              "    <path d=\"M18.56 5.44l.94 2.06.94-2.06 2.06-.94-2.06-.94-.94-2.06-.94 2.06-2.06.94zm-11 1L8.5 8.5l.94-2.06 2.06-.94-2.06-.94L8.5 2.5l-.94 2.06-2.06.94zm10 10l.94 2.06.94-2.06 2.06-.94-2.06-.94-.94-2.06-.94 2.06-2.06.94z\"/><path d=\"M17.41 7.96l-1.37-1.37c-.4-.4-.92-.59-1.43-.59-.52 0-1.04.2-1.43.59L10.3 9.45l-7.72 7.72c-.78.78-.78 2.05 0 2.83L4 21.41c.39.39.9.59 1.41.59.51 0 1.02-.2 1.41-.59l7.78-7.78 2.81-2.81c.8-.78.8-2.07 0-2.86zM5.41 20L4 18.59l7.72-7.72 1.47 1.35L5.41 20z\"/>\n",
              "  </svg>\n",
              "      </button>\n",
              "      \n",
              "  <style>\n",
              "    .colab-df-container {\n",
              "      display:flex;\n",
              "      flex-wrap:wrap;\n",
              "      gap: 12px;\n",
              "    }\n",
              "\n",
              "    .colab-df-convert {\n",
              "      background-color: #E8F0FE;\n",
              "      border: none;\n",
              "      border-radius: 50%;\n",
              "      cursor: pointer;\n",
              "      display: none;\n",
              "      fill: #1967D2;\n",
              "      height: 32px;\n",
              "      padding: 0 0 0 0;\n",
              "      width: 32px;\n",
              "    }\n",
              "\n",
              "    .colab-df-convert:hover {\n",
              "      background-color: #E2EBFA;\n",
              "      box-shadow: 0px 1px 2px rgba(60, 64, 67, 0.3), 0px 1px 3px 1px rgba(60, 64, 67, 0.15);\n",
              "      fill: #174EA6;\n",
              "    }\n",
              "\n",
              "    [theme=dark] .colab-df-convert {\n",
              "      background-color: #3B4455;\n",
              "      fill: #D2E3FC;\n",
              "    }\n",
              "\n",
              "    [theme=dark] .colab-df-convert:hover {\n",
              "      background-color: #434B5C;\n",
              "      box-shadow: 0px 1px 3px 1px rgba(0, 0, 0, 0.15);\n",
              "      filter: drop-shadow(0px 1px 2px rgba(0, 0, 0, 0.3));\n",
              "      fill: #FFFFFF;\n",
              "    }\n",
              "  </style>\n",
              "\n",
              "      <script>\n",
              "        const buttonEl =\n",
              "          document.querySelector('#df-7df3581b-2405-47be-9293-2e5cf6819c65 button.colab-df-convert');\n",
              "        buttonEl.style.display =\n",
              "          google.colab.kernel.accessAllowed ? 'block' : 'none';\n",
              "\n",
              "        async function convertToInteractive(key) {\n",
              "          const element = document.querySelector('#df-7df3581b-2405-47be-9293-2e5cf6819c65');\n",
              "          const dataTable =\n",
              "            await google.colab.kernel.invokeFunction('convertToInteractive',\n",
              "                                                     [key], {});\n",
              "          if (!dataTable) return;\n",
              "\n",
              "          const docLinkHtml = 'Like what you see? Visit the ' +\n",
              "            '<a target=\"_blank\" href=https://colab.research.google.com/notebooks/data_table.ipynb>data table notebook</a>'\n",
              "            + ' to learn more about interactive tables.';\n",
              "          element.innerHTML = '';\n",
              "          dataTable['output_type'] = 'display_data';\n",
              "          await google.colab.output.renderOutput(dataTable, element);\n",
              "          const docLink = document.createElement('div');\n",
              "          docLink.innerHTML = docLinkHtml;\n",
              "          element.appendChild(docLink);\n",
              "        }\n",
              "      </script>\n",
              "    </div>\n",
              "  </div>\n",
              "  "
            ]
          },
          "metadata": {},
          "execution_count": 6
        }
      ]
    },
    {
      "cell_type": "code",
      "source": [
        "dataset.columns"
      ],
      "metadata": {
        "colab": {
          "base_uri": "https://localhost:8080/"
        },
        "id": "pOZjvN7b4_3-",
        "outputId": "160d4231-c1c6-4773-be33-b646b8e37c14"
      },
      "execution_count": 7,
      "outputs": [
        {
          "output_type": "execute_result",
          "data": {
            "text/plain": [
              "Index(['Unnamed: 0', 'id', 'member_id', 'loan_amnt', 'funded_amnt',\n",
              "       'funded_amnt_inv', 'term', 'int_rate', 'installment', 'grade',\n",
              "       ...\n",
              "       'hardship_payoff_balance_amount', 'hardship_last_payment_amount',\n",
              "       'disbursement_method', 'debt_settlement_flag',\n",
              "       'debt_settlement_flag_date', 'settlement_status', 'settlement_date',\n",
              "       'settlement_amount', 'settlement_percentage', 'settlement_term'],\n",
              "      dtype='object', length=151)"
            ]
          },
          "metadata": {},
          "execution_count": 7
        }
      ]
    },
    {
      "cell_type": "code",
      "source": [
        "dataset.describe()"
      ],
      "metadata": {
        "colab": {
          "base_uri": "https://localhost:8080/",
          "height": 393
        },
        "id": "ljcgUorA5ICV",
        "outputId": "d1418681-f3d7-4088-b2ed-7a6cb1f307db"
      },
      "execution_count": 8,
      "outputs": [
        {
          "output_type": "execute_result",
          "data": {
            "text/plain": [
              "          Unnamed: 0            id  member_id      loan_amnt    funded_amnt  \\\n",
              "count  100000.000000  1.000000e+05        0.0  100000.000000  100000.000000   \n",
              "mean    49999.500000  3.029995e+07        NaN   14886.930000   14886.930000   \n",
              "std     28867.657797  4.763500e+06        NaN    8504.432514    8504.432514   \n",
              "min         0.000000  5.716700e+04        NaN    1000.000000    1000.000000   \n",
              "25%     24999.750000  2.737015e+07        NaN    8000.000000    8000.000000   \n",
              "50%     49999.500000  3.052556e+07        NaN   13050.000000   13050.000000   \n",
              "75%     74999.250000  3.438201e+07        NaN   20000.000000   20000.000000   \n",
              "max     99999.000000  3.809811e+07        NaN   35000.000000   35000.000000   \n",
              "\n",
              "       funded_amnt_inv       int_rate    installment    annual_inc  \\\n",
              "count    100000.000000  100000.000000  100000.000000  1.000000e+05   \n",
              "mean      14883.910500      13.278073     437.331824  7.468924e+04   \n",
              "std        8502.519174       4.390210     244.317648  5.809527e+04   \n",
              "min        1000.000000       6.000000      30.420000  4.000000e+03   \n",
              "25%        8000.000000      10.150000     261.640000  4.500000e+04   \n",
              "50%       13050.000000      12.990000     380.180000  6.400000e+04   \n",
              "75%       20000.000000      15.610000     573.320000  9.000000e+04   \n",
              "max       35000.000000      26.060000    1408.130000  7.500000e+06   \n",
              "\n",
              "                 dti  ...  deferral_term  hardship_amount  hardship_length  \\\n",
              "count  100000.000000  ...          185.0       185.000000            185.0   \n",
              "mean       18.769787  ...            3.0       110.335568              3.0   \n",
              "std         8.539769  ...            0.0        89.266601              0.0   \n",
              "min         0.000000  ...            3.0         1.470000              3.0   \n",
              "25%        12.320000  ...            3.0        23.760000              3.0   \n",
              "50%        18.210000  ...            3.0        96.580000              3.0   \n",
              "75%        24.760000  ...            3.0       164.750000              3.0   \n",
              "max        39.990000  ...            3.0       382.340000              3.0   \n",
              "\n",
              "       hardship_dpd  orig_projected_additional_accrued_interest  \\\n",
              "count    185.000000                                  152.000000   \n",
              "mean      14.037838                                  323.495132   \n",
              "std        9.657374                                  267.627244   \n",
              "min        0.000000                                    4.410000   \n",
              "25%        7.000000                                   63.885000   \n",
              "50%       15.000000                                  281.580000   \n",
              "75%       22.000000                                  481.492500   \n",
              "max       32.000000                                 1147.020000   \n",
              "\n",
              "       hardship_payoff_balance_amount  hardship_last_payment_amount  \\\n",
              "count                      185.000000                    185.000000   \n",
              "mean                      8046.616541                    186.563135   \n",
              "std                       5585.653253                    168.552986   \n",
              "min                        174.150000                      0.040000   \n",
              "25%                       2465.360000                     27.610000   \n",
              "50%                       8049.850000                    172.460000   \n",
              "75%                      11968.940000                    285.890000   \n",
              "max                      21750.750000                    757.420000   \n",
              "\n",
              "       settlement_amount  settlement_percentage  settlement_term  \n",
              "count        1290.000000            1290.000000      1290.000000  \n",
              "mean         4768.376357              47.720519         8.265116  \n",
              "std          3703.963945               7.046587         8.263566  \n",
              "min           233.160000               0.550000         0.000000  \n",
              "25%          1951.125000              45.000000         0.000000  \n",
              "50%          3881.120000              45.040000         6.000000  \n",
              "75%          6503.000000              50.000000        14.000000  \n",
              "max         26751.740000             100.000000        36.000000  \n",
              "\n",
              "[8 rows x 117 columns]"
            ],
            "text/html": [
              "\n",
              "  <div id=\"df-5dafa4c6-68d7-4a39-93d8-9674d5b818a8\">\n",
              "    <div class=\"colab-df-container\">\n",
              "      <div>\n",
              "<style scoped>\n",
              "    .dataframe tbody tr th:only-of-type {\n",
              "        vertical-align: middle;\n",
              "    }\n",
              "\n",
              "    .dataframe tbody tr th {\n",
              "        vertical-align: top;\n",
              "    }\n",
              "\n",
              "    .dataframe thead th {\n",
              "        text-align: right;\n",
              "    }\n",
              "</style>\n",
              "<table border=\"1\" class=\"dataframe\">\n",
              "  <thead>\n",
              "    <tr style=\"text-align: right;\">\n",
              "      <th></th>\n",
              "      <th>Unnamed: 0</th>\n",
              "      <th>id</th>\n",
              "      <th>member_id</th>\n",
              "      <th>loan_amnt</th>\n",
              "      <th>funded_amnt</th>\n",
              "      <th>funded_amnt_inv</th>\n",
              "      <th>int_rate</th>\n",
              "      <th>installment</th>\n",
              "      <th>annual_inc</th>\n",
              "      <th>dti</th>\n",
              "      <th>...</th>\n",
              "      <th>deferral_term</th>\n",
              "      <th>hardship_amount</th>\n",
              "      <th>hardship_length</th>\n",
              "      <th>hardship_dpd</th>\n",
              "      <th>orig_projected_additional_accrued_interest</th>\n",
              "      <th>hardship_payoff_balance_amount</th>\n",
              "      <th>hardship_last_payment_amount</th>\n",
              "      <th>settlement_amount</th>\n",
              "      <th>settlement_percentage</th>\n",
              "      <th>settlement_term</th>\n",
              "    </tr>\n",
              "  </thead>\n",
              "  <tbody>\n",
              "    <tr>\n",
              "      <th>count</th>\n",
              "      <td>100000.000000</td>\n",
              "      <td>1.000000e+05</td>\n",
              "      <td>0.0</td>\n",
              "      <td>100000.000000</td>\n",
              "      <td>100000.000000</td>\n",
              "      <td>100000.000000</td>\n",
              "      <td>100000.000000</td>\n",
              "      <td>100000.000000</td>\n",
              "      <td>1.000000e+05</td>\n",
              "      <td>100000.000000</td>\n",
              "      <td>...</td>\n",
              "      <td>185.0</td>\n",
              "      <td>185.000000</td>\n",
              "      <td>185.0</td>\n",
              "      <td>185.000000</td>\n",
              "      <td>152.000000</td>\n",
              "      <td>185.000000</td>\n",
              "      <td>185.000000</td>\n",
              "      <td>1290.000000</td>\n",
              "      <td>1290.000000</td>\n",
              "      <td>1290.000000</td>\n",
              "    </tr>\n",
              "    <tr>\n",
              "      <th>mean</th>\n",
              "      <td>49999.500000</td>\n",
              "      <td>3.029995e+07</td>\n",
              "      <td>NaN</td>\n",
              "      <td>14886.930000</td>\n",
              "      <td>14886.930000</td>\n",
              "      <td>14883.910500</td>\n",
              "      <td>13.278073</td>\n",
              "      <td>437.331824</td>\n",
              "      <td>7.468924e+04</td>\n",
              "      <td>18.769787</td>\n",
              "      <td>...</td>\n",
              "      <td>3.0</td>\n",
              "      <td>110.335568</td>\n",
              "      <td>3.0</td>\n",
              "      <td>14.037838</td>\n",
              "      <td>323.495132</td>\n",
              "      <td>8046.616541</td>\n",
              "      <td>186.563135</td>\n",
              "      <td>4768.376357</td>\n",
              "      <td>47.720519</td>\n",
              "      <td>8.265116</td>\n",
              "    </tr>\n",
              "    <tr>\n",
              "      <th>std</th>\n",
              "      <td>28867.657797</td>\n",
              "      <td>4.763500e+06</td>\n",
              "      <td>NaN</td>\n",
              "      <td>8504.432514</td>\n",
              "      <td>8504.432514</td>\n",
              "      <td>8502.519174</td>\n",
              "      <td>4.390210</td>\n",
              "      <td>244.317648</td>\n",
              "      <td>5.809527e+04</td>\n",
              "      <td>8.539769</td>\n",
              "      <td>...</td>\n",
              "      <td>0.0</td>\n",
              "      <td>89.266601</td>\n",
              "      <td>0.0</td>\n",
              "      <td>9.657374</td>\n",
              "      <td>267.627244</td>\n",
              "      <td>5585.653253</td>\n",
              "      <td>168.552986</td>\n",
              "      <td>3703.963945</td>\n",
              "      <td>7.046587</td>\n",
              "      <td>8.263566</td>\n",
              "    </tr>\n",
              "    <tr>\n",
              "      <th>min</th>\n",
              "      <td>0.000000</td>\n",
              "      <td>5.716700e+04</td>\n",
              "      <td>NaN</td>\n",
              "      <td>1000.000000</td>\n",
              "      <td>1000.000000</td>\n",
              "      <td>1000.000000</td>\n",
              "      <td>6.000000</td>\n",
              "      <td>30.420000</td>\n",
              "      <td>4.000000e+03</td>\n",
              "      <td>0.000000</td>\n",
              "      <td>...</td>\n",
              "      <td>3.0</td>\n",
              "      <td>1.470000</td>\n",
              "      <td>3.0</td>\n",
              "      <td>0.000000</td>\n",
              "      <td>4.410000</td>\n",
              "      <td>174.150000</td>\n",
              "      <td>0.040000</td>\n",
              "      <td>233.160000</td>\n",
              "      <td>0.550000</td>\n",
              "      <td>0.000000</td>\n",
              "    </tr>\n",
              "    <tr>\n",
              "      <th>25%</th>\n",
              "      <td>24999.750000</td>\n",
              "      <td>2.737015e+07</td>\n",
              "      <td>NaN</td>\n",
              "      <td>8000.000000</td>\n",
              "      <td>8000.000000</td>\n",
              "      <td>8000.000000</td>\n",
              "      <td>10.150000</td>\n",
              "      <td>261.640000</td>\n",
              "      <td>4.500000e+04</td>\n",
              "      <td>12.320000</td>\n",
              "      <td>...</td>\n",
              "      <td>3.0</td>\n",
              "      <td>23.760000</td>\n",
              "      <td>3.0</td>\n",
              "      <td>7.000000</td>\n",
              "      <td>63.885000</td>\n",
              "      <td>2465.360000</td>\n",
              "      <td>27.610000</td>\n",
              "      <td>1951.125000</td>\n",
              "      <td>45.000000</td>\n",
              "      <td>0.000000</td>\n",
              "    </tr>\n",
              "    <tr>\n",
              "      <th>50%</th>\n",
              "      <td>49999.500000</td>\n",
              "      <td>3.052556e+07</td>\n",
              "      <td>NaN</td>\n",
              "      <td>13050.000000</td>\n",
              "      <td>13050.000000</td>\n",
              "      <td>13050.000000</td>\n",
              "      <td>12.990000</td>\n",
              "      <td>380.180000</td>\n",
              "      <td>6.400000e+04</td>\n",
              "      <td>18.210000</td>\n",
              "      <td>...</td>\n",
              "      <td>3.0</td>\n",
              "      <td>96.580000</td>\n",
              "      <td>3.0</td>\n",
              "      <td>15.000000</td>\n",
              "      <td>281.580000</td>\n",
              "      <td>8049.850000</td>\n",
              "      <td>172.460000</td>\n",
              "      <td>3881.120000</td>\n",
              "      <td>45.040000</td>\n",
              "      <td>6.000000</td>\n",
              "    </tr>\n",
              "    <tr>\n",
              "      <th>75%</th>\n",
              "      <td>74999.250000</td>\n",
              "      <td>3.438201e+07</td>\n",
              "      <td>NaN</td>\n",
              "      <td>20000.000000</td>\n",
              "      <td>20000.000000</td>\n",
              "      <td>20000.000000</td>\n",
              "      <td>15.610000</td>\n",
              "      <td>573.320000</td>\n",
              "      <td>9.000000e+04</td>\n",
              "      <td>24.760000</td>\n",
              "      <td>...</td>\n",
              "      <td>3.0</td>\n",
              "      <td>164.750000</td>\n",
              "      <td>3.0</td>\n",
              "      <td>22.000000</td>\n",
              "      <td>481.492500</td>\n",
              "      <td>11968.940000</td>\n",
              "      <td>285.890000</td>\n",
              "      <td>6503.000000</td>\n",
              "      <td>50.000000</td>\n",
              "      <td>14.000000</td>\n",
              "    </tr>\n",
              "    <tr>\n",
              "      <th>max</th>\n",
              "      <td>99999.000000</td>\n",
              "      <td>3.809811e+07</td>\n",
              "      <td>NaN</td>\n",
              "      <td>35000.000000</td>\n",
              "      <td>35000.000000</td>\n",
              "      <td>35000.000000</td>\n",
              "      <td>26.060000</td>\n",
              "      <td>1408.130000</td>\n",
              "      <td>7.500000e+06</td>\n",
              "      <td>39.990000</td>\n",
              "      <td>...</td>\n",
              "      <td>3.0</td>\n",
              "      <td>382.340000</td>\n",
              "      <td>3.0</td>\n",
              "      <td>32.000000</td>\n",
              "      <td>1147.020000</td>\n",
              "      <td>21750.750000</td>\n",
              "      <td>757.420000</td>\n",
              "      <td>26751.740000</td>\n",
              "      <td>100.000000</td>\n",
              "      <td>36.000000</td>\n",
              "    </tr>\n",
              "  </tbody>\n",
              "</table>\n",
              "<p>8 rows × 117 columns</p>\n",
              "</div>\n",
              "      <button class=\"colab-df-convert\" onclick=\"convertToInteractive('df-5dafa4c6-68d7-4a39-93d8-9674d5b818a8')\"\n",
              "              title=\"Convert this dataframe to an interactive table.\"\n",
              "              style=\"display:none;\">\n",
              "        \n",
              "  <svg xmlns=\"http://www.w3.org/2000/svg\" height=\"24px\"viewBox=\"0 0 24 24\"\n",
              "       width=\"24px\">\n",
              "    <path d=\"M0 0h24v24H0V0z\" fill=\"none\"/>\n",
              "    <path d=\"M18.56 5.44l.94 2.06.94-2.06 2.06-.94-2.06-.94-.94-2.06-.94 2.06-2.06.94zm-11 1L8.5 8.5l.94-2.06 2.06-.94-2.06-.94L8.5 2.5l-.94 2.06-2.06.94zm10 10l.94 2.06.94-2.06 2.06-.94-2.06-.94-.94-2.06-.94 2.06-2.06.94z\"/><path d=\"M17.41 7.96l-1.37-1.37c-.4-.4-.92-.59-1.43-.59-.52 0-1.04.2-1.43.59L10.3 9.45l-7.72 7.72c-.78.78-.78 2.05 0 2.83L4 21.41c.39.39.9.59 1.41.59.51 0 1.02-.2 1.41-.59l7.78-7.78 2.81-2.81c.8-.78.8-2.07 0-2.86zM5.41 20L4 18.59l7.72-7.72 1.47 1.35L5.41 20z\"/>\n",
              "  </svg>\n",
              "      </button>\n",
              "      \n",
              "  <style>\n",
              "    .colab-df-container {\n",
              "      display:flex;\n",
              "      flex-wrap:wrap;\n",
              "      gap: 12px;\n",
              "    }\n",
              "\n",
              "    .colab-df-convert {\n",
              "      background-color: #E8F0FE;\n",
              "      border: none;\n",
              "      border-radius: 50%;\n",
              "      cursor: pointer;\n",
              "      display: none;\n",
              "      fill: #1967D2;\n",
              "      height: 32px;\n",
              "      padding: 0 0 0 0;\n",
              "      width: 32px;\n",
              "    }\n",
              "\n",
              "    .colab-df-convert:hover {\n",
              "      background-color: #E2EBFA;\n",
              "      box-shadow: 0px 1px 2px rgba(60, 64, 67, 0.3), 0px 1px 3px 1px rgba(60, 64, 67, 0.15);\n",
              "      fill: #174EA6;\n",
              "    }\n",
              "\n",
              "    [theme=dark] .colab-df-convert {\n",
              "      background-color: #3B4455;\n",
              "      fill: #D2E3FC;\n",
              "    }\n",
              "\n",
              "    [theme=dark] .colab-df-convert:hover {\n",
              "      background-color: #434B5C;\n",
              "      box-shadow: 0px 1px 3px 1px rgba(0, 0, 0, 0.15);\n",
              "      filter: drop-shadow(0px 1px 2px rgba(0, 0, 0, 0.3));\n",
              "      fill: #FFFFFF;\n",
              "    }\n",
              "  </style>\n",
              "\n",
              "      <script>\n",
              "        const buttonEl =\n",
              "          document.querySelector('#df-5dafa4c6-68d7-4a39-93d8-9674d5b818a8 button.colab-df-convert');\n",
              "        buttonEl.style.display =\n",
              "          google.colab.kernel.accessAllowed ? 'block' : 'none';\n",
              "\n",
              "        async function convertToInteractive(key) {\n",
              "          const element = document.querySelector('#df-5dafa4c6-68d7-4a39-93d8-9674d5b818a8');\n",
              "          const dataTable =\n",
              "            await google.colab.kernel.invokeFunction('convertToInteractive',\n",
              "                                                     [key], {});\n",
              "          if (!dataTable) return;\n",
              "\n",
              "          const docLinkHtml = 'Like what you see? Visit the ' +\n",
              "            '<a target=\"_blank\" href=https://colab.research.google.com/notebooks/data_table.ipynb>data table notebook</a>'\n",
              "            + ' to learn more about interactive tables.';\n",
              "          element.innerHTML = '';\n",
              "          dataTable['output_type'] = 'display_data';\n",
              "          await google.colab.output.renderOutput(dataTable, element);\n",
              "          const docLink = document.createElement('div');\n",
              "          docLink.innerHTML = docLinkHtml;\n",
              "          element.appendChild(docLink);\n",
              "        }\n",
              "      </script>\n",
              "    </div>\n",
              "  </div>\n",
              "  "
            ]
          },
          "metadata": {},
          "execution_count": 8
        }
      ]
    },
    {
      "cell_type": "markdown",
      "source": [
        "### 3. Data Preparation and Feature Selection\n",
        "\n",
        "##### 3.1 Preparing the predicted variable"
      ],
      "metadata": {
        "id": "i4r0tJGH5Z7V"
      }
    },
    {
      "cell_type": "code",
      "source": [
        "dataset['loan_status'].value_counts(dropna=False)"
      ],
      "metadata": {
        "colab": {
          "base_uri": "https://localhost:8080/"
        },
        "id": "DQWqz0bm5jvP",
        "outputId": "838070c6-7ad4-49eb-a355-615c7f553533"
      },
      "execution_count": 9,
      "outputs": [
        {
          "output_type": "execute_result",
          "data": {
            "text/plain": [
              "Fully Paid            69982\n",
              "Charged Off           16156\n",
              "Current               12726\n",
              "Late (31-120 days)      730\n",
              "In Grace Period         264\n",
              "Late (16-30 days)       139\n",
              "Default                   3\n",
              "Name: loan_status, dtype: int64"
            ]
          },
          "metadata": {},
          "execution_count": 9
        }
      ]
    },
    {
      "cell_type": "code",
      "source": [
        "dataset = dataset.loc[dataset['loan_status'].isin(['Fully Paid', 'Charged Off'])]"
      ],
      "metadata": {
        "id": "oKEY2VRt5yWq"
      },
      "execution_count": 10,
      "outputs": []
    },
    {
      "cell_type": "code",
      "source": [
        "dataset['loan_status'].value_counts(dropna=False)"
      ],
      "metadata": {
        "colab": {
          "base_uri": "https://localhost:8080/"
        },
        "id": "fwjPEQT46sN-",
        "outputId": "a624e54f-8be4-4644-b3cd-6f6c08fcc9de"
      },
      "execution_count": 11,
      "outputs": [
        {
          "output_type": "execute_result",
          "data": {
            "text/plain": [
              "Fully Paid     69982\n",
              "Charged Off    16156\n",
              "Name: loan_status, dtype: int64"
            ]
          },
          "metadata": {},
          "execution_count": 11
        }
      ]
    },
    {
      "cell_type": "code",
      "source": [
        "dataset['loan_status'].value_counts(normalize=True, dropna=False)"
      ],
      "metadata": {
        "colab": {
          "base_uri": "https://localhost:8080/"
        },
        "id": "DqiH5Y9i6422",
        "outputId": "34473f55-82c7-4519-d55b-68191e5e0598"
      },
      "execution_count": 12,
      "outputs": [
        {
          "output_type": "execute_result",
          "data": {
            "text/plain": [
              "Fully Paid     0.812441\n",
              "Charged Off    0.187559\n",
              "Name: loan_status, dtype: float64"
            ]
          },
          "metadata": {},
          "execution_count": 12
        }
      ]
    },
    {
      "cell_type": "code",
      "source": [
        "dataset['charged_off'] = (dataset['loan_status'] == 'Charged Off').apply(np.uint8)\n",
        "dataset.drop('loan_status', axis=1, inplace=True)"
      ],
      "metadata": {
        "id": "i_0BDCEV7PGd"
      },
      "execution_count": 13,
      "outputs": []
    },
    {
      "cell_type": "code",
      "source": [
        "dataset['charged_off'].value_counts(normalize=True, dropna=False)"
      ],
      "metadata": {
        "colab": {
          "base_uri": "https://localhost:8080/"
        },
        "id": "yuY3Lwdf9HFv",
        "outputId": "97115c2f-cad7-46fd-ab5e-582e54344a9b"
      },
      "execution_count": 14,
      "outputs": [
        {
          "output_type": "execute_result",
          "data": {
            "text/plain": [
              "0    0.812441\n",
              "1    0.187559\n",
              "Name: charged_off, dtype: float64"
            ]
          },
          "metadata": {},
          "execution_count": 14
        }
      ]
    },
    {
      "cell_type": "markdown",
      "source": [
        "### 3.2.1 Features elimination by significant mising values"
      ],
      "metadata": {
        "id": "InLrmlci-VBd"
      }
    },
    {
      "cell_type": "code",
      "source": [
        "missing_fractions = dataset.isnull().mean().sort_values(ascending=False)"
      ],
      "metadata": {
        "id": "IJ4PB-fQ-aqK"
      },
      "execution_count": 15,
      "outputs": []
    },
    {
      "cell_type": "code",
      "source": [
        "missing_fractions.head(10)"
      ],
      "metadata": {
        "colab": {
          "base_uri": "https://localhost:8080/"
        },
        "id": "BVM85cHq-lbi",
        "outputId": "6f76dbb5-8e69-4462-f104-55d25f43361e"
      },
      "execution_count": 16,
      "outputs": [
        {
          "output_type": "execute_result",
          "data": {
            "text/plain": [
              "total_cu_tl                            1.0\n",
              "annual_inc_joint                       1.0\n",
              "sec_app_mths_since_last_major_derog    1.0\n",
              "sec_app_collections_12_mths_ex_med     1.0\n",
              "sec_app_chargeoff_within_12_mths       1.0\n",
              "open_rv_12m                            1.0\n",
              "sec_app_num_rev_accts                  1.0\n",
              "sec_app_open_act_il                    1.0\n",
              "sec_app_revol_util                     1.0\n",
              "sec_app_open_acc                       1.0\n",
              "dtype: float64"
            ]
          },
          "metadata": {},
          "execution_count": 16
        }
      ]
    },
    {
      "cell_type": "code",
      "source": [
        "drop_list = sorted(list(missing_fractions[missing_fractions > 0.3].index))"
      ],
      "metadata": {
        "id": "8IdbljwJ_Dld"
      },
      "execution_count": 17,
      "outputs": []
    },
    {
      "cell_type": "code",
      "source": [
        "drop_list"
      ],
      "metadata": {
        "colab": {
          "base_uri": "https://localhost:8080/"
        },
        "id": "RDPguHoM_b-B",
        "outputId": "074eb87f-7599-44fa-af51-8035f67e5775"
      },
      "execution_count": 18,
      "outputs": [
        {
          "output_type": "execute_result",
          "data": {
            "text/plain": [
              "['all_util',\n",
              " 'annual_inc_joint',\n",
              " 'debt_settlement_flag_date',\n",
              " 'deferral_term',\n",
              " 'desc',\n",
              " 'dti_joint',\n",
              " 'hardship_amount',\n",
              " 'hardship_dpd',\n",
              " 'hardship_end_date',\n",
              " 'hardship_last_payment_amount',\n",
              " 'hardship_length',\n",
              " 'hardship_loan_status',\n",
              " 'hardship_payoff_balance_amount',\n",
              " 'hardship_reason',\n",
              " 'hardship_start_date',\n",
              " 'hardship_status',\n",
              " 'hardship_type',\n",
              " 'il_util',\n",
              " 'inq_fi',\n",
              " 'inq_last_12m',\n",
              " 'max_bal_bc',\n",
              " 'member_id',\n",
              " 'mths_since_last_delinq',\n",
              " 'mths_since_last_major_derog',\n",
              " 'mths_since_last_record',\n",
              " 'mths_since_rcnt_il',\n",
              " 'mths_since_recent_bc_dlq',\n",
              " 'mths_since_recent_revol_delinq',\n",
              " 'next_pymnt_d',\n",
              " 'open_acc_6m',\n",
              " 'open_act_il',\n",
              " 'open_il_12m',\n",
              " 'open_il_24m',\n",
              " 'open_rv_12m',\n",
              " 'open_rv_24m',\n",
              " 'orig_projected_additional_accrued_interest',\n",
              " 'payment_plan_start_date',\n",
              " 'revol_bal_joint',\n",
              " 'sec_app_chargeoff_within_12_mths',\n",
              " 'sec_app_collections_12_mths_ex_med',\n",
              " 'sec_app_earliest_cr_line',\n",
              " 'sec_app_fico_range_high',\n",
              " 'sec_app_fico_range_low',\n",
              " 'sec_app_inq_last_6mths',\n",
              " 'sec_app_mort_acc',\n",
              " 'sec_app_mths_since_last_major_derog',\n",
              " 'sec_app_num_rev_accts',\n",
              " 'sec_app_open_acc',\n",
              " 'sec_app_open_act_il',\n",
              " 'sec_app_revol_util',\n",
              " 'settlement_amount',\n",
              " 'settlement_date',\n",
              " 'settlement_percentage',\n",
              " 'settlement_status',\n",
              " 'settlement_term',\n",
              " 'total_bal_il',\n",
              " 'total_cu_tl',\n",
              " 'verification_status_joint']"
            ]
          },
          "metadata": {},
          "execution_count": 18
        }
      ]
    },
    {
      "cell_type": "code",
      "source": [
        "len(drop_list)"
      ],
      "metadata": {
        "colab": {
          "base_uri": "https://localhost:8080/"
        },
        "id": "fD9ogIoD_c63",
        "outputId": "a0e8372d-d95a-4c70-df92-e77ce636cba2"
      },
      "execution_count": 19,
      "outputs": [
        {
          "output_type": "execute_result",
          "data": {
            "text/plain": [
              "58"
            ]
          },
          "metadata": {},
          "execution_count": 19
        }
      ]
    },
    {
      "cell_type": "code",
      "source": [
        "dataset.drop(labels=drop_list, axis=1, inplace=True)"
      ],
      "metadata": {
        "id": "mhffTDwj_kqE"
      },
      "execution_count": 20,
      "outputs": []
    },
    {
      "cell_type": "code",
      "source": [
        "dataset.shape"
      ],
      "metadata": {
        "colab": {
          "base_uri": "https://localhost:8080/"
        },
        "id": "dmOx79_I_tsT",
        "outputId": "37c2f81c-4337-477c-a293-8d2ce1ba0805"
      },
      "execution_count": 21,
      "outputs": [
        {
          "output_type": "execute_result",
          "data": {
            "text/plain": [
              "(86138, 93)"
            ]
          },
          "metadata": {},
          "execution_count": 21
        }
      ]
    },
    {
      "cell_type": "markdown",
      "source": [
        "### 3.2.2. Features elimination based on the intuitiveness"
      ],
      "metadata": {
        "id": "3743g0eG_OkJ"
      }
    },
    {
      "cell_type": "code",
      "source": [
        "sorted(dataset.columns)"
      ],
      "metadata": {
        "id": "wQCakVz-_aFq"
      },
      "execution_count": null,
      "outputs": []
    },
    {
      "cell_type": "code",
      "source": [
        "keep_list = ['charged_off','funded_amnt','addr_state', 'annual_inc', 'application_type', 'dti', 'earliest_cr_line', 'emp_length', 'emp_title', 'fico_range_high', 'fico_range_low', 'grade', 'home_ownership', 'id', 'initial_list_status', 'installment', 'int_rate', 'loan_amnt', 'loan_status', 'mort_acc', 'open_acc', 'pub_rec', 'pub_rec_bankruptcies', 'purpose', 'revol_bal', 'revol_util', 'sub_grade', 'term', 'title', 'total_acc', 'verification_status', 'zip_code','last_pymnt_amnt','num_actv_rev_tl', 'mo_sin_rcnt_rev_tl_op','mo_sin_old_rev_tl_op',\"bc_util\",\"bc_open_to_buy\",\"avg_cur_bal\",\"acc_open_past_24mths\" ]\n",
        "\n",
        "len(keep_list)"
      ],
      "metadata": {
        "colab": {
          "base_uri": "https://localhost:8080/"
        },
        "id": "Vro0tGBf_rFK",
        "outputId": "0437bdd9-860e-4eef-9b41-dc07a3463720"
      },
      "execution_count": 25,
      "outputs": [
        {
          "output_type": "execute_result",
          "data": {
            "text/plain": [
              "40"
            ]
          },
          "metadata": {},
          "execution_count": 25
        }
      ]
    },
    {
      "cell_type": "code",
      "source": [
        "drop_list = [col for col in dataset.columns if col not in keep_list]\n",
        "\n",
        "dataset.drop(labels=drop_list, axis=1, inplace=True)"
      ],
      "metadata": {
        "id": "O3HuM3TDAYJB"
      },
      "execution_count": 26,
      "outputs": []
    },
    {
      "cell_type": "code",
      "source": [
        "dataset.shape"
      ],
      "metadata": {
        "colab": {
          "base_uri": "https://localhost:8080/"
        },
        "id": "Ihj8DCxQAtnW",
        "outputId": "5e562b04-c55e-46d8-eddd-35a5c10d5d2f"
      },
      "execution_count": 27,
      "outputs": [
        {
          "output_type": "execute_result",
          "data": {
            "text/plain": [
              "(86138, 39)"
            ]
          },
          "metadata": {},
          "execution_count": 27
        }
      ]
    },
    {
      "cell_type": "markdown",
      "source": [
        "### 3.2.2. Features elimination based on correlation"
      ],
      "metadata": {
        "id": "j-SWDQgBB5bd"
      }
    },
    {
      "cell_type": "code",
      "source": [
        "correlation = dataset.corr()\n",
        "correlation_chargeOff = abs(correlation['charged_off'])"
      ],
      "metadata": {
        "id": "utibqM27B7O9"
      },
      "execution_count": 33,
      "outputs": []
    },
    {
      "cell_type": "code",
      "source": [
        "correlation_chargeOff.sort_values(ascending=False)"
      ],
      "metadata": {
        "colab": {
          "base_uri": "https://localhost:8080/"
        },
        "id": "mNKUoTMtCYSU",
        "outputId": "4767732e-c732-4e11-f5db-007f200a378d"
      },
      "execution_count": 34,
      "outputs": [
        {
          "output_type": "execute_result",
          "data": {
            "text/plain": [
              "charged_off              1.000000\n",
              "last_pymnt_amnt          0.319081\n",
              "int_rate                 0.282825\n",
              "dti                      0.123108\n",
              "fico_range_low           0.121892\n",
              "fico_range_high          0.121891\n",
              "acc_open_past_24mths     0.105989\n",
              "bc_open_to_buy           0.080077\n",
              "bc_util                  0.077744\n",
              "avg_cur_bal              0.071977\n",
              "num_actv_rev_tl          0.071185\n",
              "revol_util               0.066188\n",
              "loan_amnt                0.060818\n",
              "funded_amnt              0.060818\n",
              "mort_acc                 0.057858\n",
              "annual_inc               0.050349\n",
              "mo_sin_old_rev_tl_op     0.049426\n",
              "mo_sin_rcnt_rev_tl_op    0.048839\n",
              "open_acc                 0.039430\n",
              "installment              0.032847\n",
              "revol_bal                0.021714\n",
              "pub_rec                  0.016023\n",
              "pub_rec_bankruptcies     0.015815\n",
              "total_acc                0.005804\n",
              "id                       0.002221\n",
              "Name: charged_off, dtype: float64"
            ]
          },
          "metadata": {},
          "execution_count": 34
        }
      ]
    },
    {
      "cell_type": "code",
      "source": [
        "drop_list_corr = sorted(list(correlation_chargeOff[correlation_chargeOff < 0.03].index))"
      ],
      "metadata": {
        "id": "vfayK_O9CcCr"
      },
      "execution_count": 35,
      "outputs": []
    },
    {
      "cell_type": "code",
      "source": [
        "drop_list_corr"
      ],
      "metadata": {
        "colab": {
          "base_uri": "https://localhost:8080/"
        },
        "id": "YHaqvdIUDFsu",
        "outputId": "5e479c00-6d7a-4653-ca4e-6253d08cd4c7"
      },
      "execution_count": 36,
      "outputs": [
        {
          "output_type": "execute_result",
          "data": {
            "text/plain": [
              "['id', 'pub_rec', 'pub_rec_bankruptcies', 'revol_bal', 'total_acc']"
            ]
          },
          "metadata": {},
          "execution_count": 36
        }
      ]
    },
    {
      "cell_type": "code",
      "source": [
        "dataset.drop(labels=drop_list_corr, axis=1, inplace=True)\n",
        "dataset.shape"
      ],
      "metadata": {
        "colab": {
          "base_uri": "https://localhost:8080/"
        },
        "id": "9h1hkgxkDHh_",
        "outputId": "db47c8c0-e55a-4f8e-852a-0aabc4f18ce6"
      },
      "execution_count": 37,
      "outputs": [
        {
          "output_type": "execute_result",
          "data": {
            "text/plain": [
              "(86138, 34)"
            ]
          },
          "metadata": {},
          "execution_count": 37
        }
      ]
    },
    {
      "cell_type": "markdown",
      "source": [
        "### 4. Feature Engineering and Exploratory Analysis"
      ],
      "metadata": {
        "id": "atEYqOYLDxsD"
      }
    },
    {
      "cell_type": "code",
      "source": [
        "dataset.describe()"
      ],
      "metadata": {
        "colab": {
          "base_uri": "https://localhost:8080/",
          "height": 364
        },
        "id": "1VdfVCOID348",
        "outputId": "9752ac49-68cc-42eb-cc00-e127cbbfde77"
      },
      "execution_count": 38,
      "outputs": [
        {
          "output_type": "execute_result",
          "data": {
            "text/plain": [
              "          loan_amnt   funded_amnt      int_rate   installment    annual_inc  \\\n",
              "count  86138.000000  86138.000000  86138.000000  86138.000000  8.613800e+04   \n",
              "mean   14106.526446  14106.526446     13.002360    430.737187  7.384311e+04   \n",
              "std     8391.139221   8391.139221      4.397419    251.653139  5.929352e+04   \n",
              "min     1000.000000   1000.000000      6.000000     30.420000  4.000000e+03   \n",
              "25%     7800.000000   7800.000000      9.490000    248.480000  4.500000e+04   \n",
              "50%    12000.000000  12000.000000     12.990000    370.480000  6.247372e+04   \n",
              "75%    20000.000000  20000.000000     15.610000    568.005000  9.000000e+04   \n",
              "max    35000.000000  35000.000000     26.060000   1408.130000  7.500000e+06   \n",
              "\n",
              "                dti  fico_range_low  fico_range_high      open_acc  \\\n",
              "count  86138.000000    86138.000000     86138.000000  86138.000000   \n",
              "mean      18.532747      692.462966       696.463024     11.746453   \n",
              "std        8.538247       29.731549        29.731848      5.433122   \n",
              "min        0.000000      660.000000       664.000000      1.000000   \n",
              "25%       12.070000      670.000000       674.000000      8.000000   \n",
              "50%       17.950000      685.000000       689.000000     11.000000   \n",
              "75%       24.500000      705.000000       709.000000     14.000000   \n",
              "max       39.990000      845.000000       850.000000     84.000000   \n",
              "\n",
              "         revol_util  last_pymnt_amnt  acc_open_past_24mths    avg_cur_bal  \\\n",
              "count  86094.000000     86138.000000          86138.000000   86138.000000   \n",
              "mean      54.582777      4757.453184              4.594732   13066.638371   \n",
              "std       23.515901      6466.767327              3.070996   16232.739293   \n",
              "min        0.000000         0.000000              0.000000       0.000000   \n",
              "25%       37.200000       358.522500              2.000000    3010.000000   \n",
              "50%       54.900000      1241.230000              4.000000    6994.500000   \n",
              "75%       72.500000      7303.205000              6.000000   17905.000000   \n",
              "max      180.300000     36234.440000             53.000000  447433.000000   \n",
              "\n",
              "       bc_open_to_buy       bc_util  mo_sin_old_rev_tl_op  \\\n",
              "count    85142.000000  85089.000000          86138.000000   \n",
              "mean      8942.506507     63.808959            183.524333   \n",
              "std      14100.186250     27.051347             93.266430   \n",
              "min          0.000000      0.000000              3.000000   \n",
              "25%       1087.000000     44.100000            118.000000   \n",
              "50%       3823.000000     67.700000            167.000000   \n",
              "75%      10588.000000     87.500000            232.000000   \n",
              "max     249625.000000    255.200000            718.000000   \n",
              "\n",
              "       mo_sin_rcnt_rev_tl_op      mort_acc  num_actv_rev_tl   charged_off  \n",
              "count           86138.000000  86138.000000     86138.000000  86138.000000  \n",
              "mean               12.796896      1.748880         5.762358      0.187559  \n",
              "std                16.224586      2.091488         3.224598      0.390362  \n",
              "min                 0.000000      0.000000         0.000000      0.000000  \n",
              "25%                 3.000000      0.000000         3.000000      0.000000  \n",
              "50%                 8.000000      1.000000         5.000000      0.000000  \n",
              "75%                15.000000      3.000000         7.000000      0.000000  \n",
              "max               372.000000     34.000000        38.000000      1.000000  "
            ],
            "text/html": [
              "\n",
              "  <div id=\"df-1b9b0470-7917-4c45-8fd7-b2950a8c5e13\">\n",
              "    <div class=\"colab-df-container\">\n",
              "      <div>\n",
              "<style scoped>\n",
              "    .dataframe tbody tr th:only-of-type {\n",
              "        vertical-align: middle;\n",
              "    }\n",
              "\n",
              "    .dataframe tbody tr th {\n",
              "        vertical-align: top;\n",
              "    }\n",
              "\n",
              "    .dataframe thead th {\n",
              "        text-align: right;\n",
              "    }\n",
              "</style>\n",
              "<table border=\"1\" class=\"dataframe\">\n",
              "  <thead>\n",
              "    <tr style=\"text-align: right;\">\n",
              "      <th></th>\n",
              "      <th>loan_amnt</th>\n",
              "      <th>funded_amnt</th>\n",
              "      <th>int_rate</th>\n",
              "      <th>installment</th>\n",
              "      <th>annual_inc</th>\n",
              "      <th>dti</th>\n",
              "      <th>fico_range_low</th>\n",
              "      <th>fico_range_high</th>\n",
              "      <th>open_acc</th>\n",
              "      <th>revol_util</th>\n",
              "      <th>last_pymnt_amnt</th>\n",
              "      <th>acc_open_past_24mths</th>\n",
              "      <th>avg_cur_bal</th>\n",
              "      <th>bc_open_to_buy</th>\n",
              "      <th>bc_util</th>\n",
              "      <th>mo_sin_old_rev_tl_op</th>\n",
              "      <th>mo_sin_rcnt_rev_tl_op</th>\n",
              "      <th>mort_acc</th>\n",
              "      <th>num_actv_rev_tl</th>\n",
              "      <th>charged_off</th>\n",
              "    </tr>\n",
              "  </thead>\n",
              "  <tbody>\n",
              "    <tr>\n",
              "      <th>count</th>\n",
              "      <td>86138.000000</td>\n",
              "      <td>86138.000000</td>\n",
              "      <td>86138.000000</td>\n",
              "      <td>86138.000000</td>\n",
              "      <td>8.613800e+04</td>\n",
              "      <td>86138.000000</td>\n",
              "      <td>86138.000000</td>\n",
              "      <td>86138.000000</td>\n",
              "      <td>86138.000000</td>\n",
              "      <td>86094.000000</td>\n",
              "      <td>86138.000000</td>\n",
              "      <td>86138.000000</td>\n",
              "      <td>86138.000000</td>\n",
              "      <td>85142.000000</td>\n",
              "      <td>85089.000000</td>\n",
              "      <td>86138.000000</td>\n",
              "      <td>86138.000000</td>\n",
              "      <td>86138.000000</td>\n",
              "      <td>86138.000000</td>\n",
              "      <td>86138.000000</td>\n",
              "    </tr>\n",
              "    <tr>\n",
              "      <th>mean</th>\n",
              "      <td>14106.526446</td>\n",
              "      <td>14106.526446</td>\n",
              "      <td>13.002360</td>\n",
              "      <td>430.737187</td>\n",
              "      <td>7.384311e+04</td>\n",
              "      <td>18.532747</td>\n",
              "      <td>692.462966</td>\n",
              "      <td>696.463024</td>\n",
              "      <td>11.746453</td>\n",
              "      <td>54.582777</td>\n",
              "      <td>4757.453184</td>\n",
              "      <td>4.594732</td>\n",
              "      <td>13066.638371</td>\n",
              "      <td>8942.506507</td>\n",
              "      <td>63.808959</td>\n",
              "      <td>183.524333</td>\n",
              "      <td>12.796896</td>\n",
              "      <td>1.748880</td>\n",
              "      <td>5.762358</td>\n",
              "      <td>0.187559</td>\n",
              "    </tr>\n",
              "    <tr>\n",
              "      <th>std</th>\n",
              "      <td>8391.139221</td>\n",
              "      <td>8391.139221</td>\n",
              "      <td>4.397419</td>\n",
              "      <td>251.653139</td>\n",
              "      <td>5.929352e+04</td>\n",
              "      <td>8.538247</td>\n",
              "      <td>29.731549</td>\n",
              "      <td>29.731848</td>\n",
              "      <td>5.433122</td>\n",
              "      <td>23.515901</td>\n",
              "      <td>6466.767327</td>\n",
              "      <td>3.070996</td>\n",
              "      <td>16232.739293</td>\n",
              "      <td>14100.186250</td>\n",
              "      <td>27.051347</td>\n",
              "      <td>93.266430</td>\n",
              "      <td>16.224586</td>\n",
              "      <td>2.091488</td>\n",
              "      <td>3.224598</td>\n",
              "      <td>0.390362</td>\n",
              "    </tr>\n",
              "    <tr>\n",
              "      <th>min</th>\n",
              "      <td>1000.000000</td>\n",
              "      <td>1000.000000</td>\n",
              "      <td>6.000000</td>\n",
              "      <td>30.420000</td>\n",
              "      <td>4.000000e+03</td>\n",
              "      <td>0.000000</td>\n",
              "      <td>660.000000</td>\n",
              "      <td>664.000000</td>\n",
              "      <td>1.000000</td>\n",
              "      <td>0.000000</td>\n",
              "      <td>0.000000</td>\n",
              "      <td>0.000000</td>\n",
              "      <td>0.000000</td>\n",
              "      <td>0.000000</td>\n",
              "      <td>0.000000</td>\n",
              "      <td>3.000000</td>\n",
              "      <td>0.000000</td>\n",
              "      <td>0.000000</td>\n",
              "      <td>0.000000</td>\n",
              "      <td>0.000000</td>\n",
              "    </tr>\n",
              "    <tr>\n",
              "      <th>25%</th>\n",
              "      <td>7800.000000</td>\n",
              "      <td>7800.000000</td>\n",
              "      <td>9.490000</td>\n",
              "      <td>248.480000</td>\n",
              "      <td>4.500000e+04</td>\n",
              "      <td>12.070000</td>\n",
              "      <td>670.000000</td>\n",
              "      <td>674.000000</td>\n",
              "      <td>8.000000</td>\n",
              "      <td>37.200000</td>\n",
              "      <td>358.522500</td>\n",
              "      <td>2.000000</td>\n",
              "      <td>3010.000000</td>\n",
              "      <td>1087.000000</td>\n",
              "      <td>44.100000</td>\n",
              "      <td>118.000000</td>\n",
              "      <td>3.000000</td>\n",
              "      <td>0.000000</td>\n",
              "      <td>3.000000</td>\n",
              "      <td>0.000000</td>\n",
              "    </tr>\n",
              "    <tr>\n",
              "      <th>50%</th>\n",
              "      <td>12000.000000</td>\n",
              "      <td>12000.000000</td>\n",
              "      <td>12.990000</td>\n",
              "      <td>370.480000</td>\n",
              "      <td>6.247372e+04</td>\n",
              "      <td>17.950000</td>\n",
              "      <td>685.000000</td>\n",
              "      <td>689.000000</td>\n",
              "      <td>11.000000</td>\n",
              "      <td>54.900000</td>\n",
              "      <td>1241.230000</td>\n",
              "      <td>4.000000</td>\n",
              "      <td>6994.500000</td>\n",
              "      <td>3823.000000</td>\n",
              "      <td>67.700000</td>\n",
              "      <td>167.000000</td>\n",
              "      <td>8.000000</td>\n",
              "      <td>1.000000</td>\n",
              "      <td>5.000000</td>\n",
              "      <td>0.000000</td>\n",
              "    </tr>\n",
              "    <tr>\n",
              "      <th>75%</th>\n",
              "      <td>20000.000000</td>\n",
              "      <td>20000.000000</td>\n",
              "      <td>15.610000</td>\n",
              "      <td>568.005000</td>\n",
              "      <td>9.000000e+04</td>\n",
              "      <td>24.500000</td>\n",
              "      <td>705.000000</td>\n",
              "      <td>709.000000</td>\n",
              "      <td>14.000000</td>\n",
              "      <td>72.500000</td>\n",
              "      <td>7303.205000</td>\n",
              "      <td>6.000000</td>\n",
              "      <td>17905.000000</td>\n",
              "      <td>10588.000000</td>\n",
              "      <td>87.500000</td>\n",
              "      <td>232.000000</td>\n",
              "      <td>15.000000</td>\n",
              "      <td>3.000000</td>\n",
              "      <td>7.000000</td>\n",
              "      <td>0.000000</td>\n",
              "    </tr>\n",
              "    <tr>\n",
              "      <th>max</th>\n",
              "      <td>35000.000000</td>\n",
              "      <td>35000.000000</td>\n",
              "      <td>26.060000</td>\n",
              "      <td>1408.130000</td>\n",
              "      <td>7.500000e+06</td>\n",
              "      <td>39.990000</td>\n",
              "      <td>845.000000</td>\n",
              "      <td>850.000000</td>\n",
              "      <td>84.000000</td>\n",
              "      <td>180.300000</td>\n",
              "      <td>36234.440000</td>\n",
              "      <td>53.000000</td>\n",
              "      <td>447433.000000</td>\n",
              "      <td>249625.000000</td>\n",
              "      <td>255.200000</td>\n",
              "      <td>718.000000</td>\n",
              "      <td>372.000000</td>\n",
              "      <td>34.000000</td>\n",
              "      <td>38.000000</td>\n",
              "      <td>1.000000</td>\n",
              "    </tr>\n",
              "  </tbody>\n",
              "</table>\n",
              "</div>\n",
              "      <button class=\"colab-df-convert\" onclick=\"convertToInteractive('df-1b9b0470-7917-4c45-8fd7-b2950a8c5e13')\"\n",
              "              title=\"Convert this dataframe to an interactive table.\"\n",
              "              style=\"display:none;\">\n",
              "        \n",
              "  <svg xmlns=\"http://www.w3.org/2000/svg\" height=\"24px\"viewBox=\"0 0 24 24\"\n",
              "       width=\"24px\">\n",
              "    <path d=\"M0 0h24v24H0V0z\" fill=\"none\"/>\n",
              "    <path d=\"M18.56 5.44l.94 2.06.94-2.06 2.06-.94-2.06-.94-.94-2.06-.94 2.06-2.06.94zm-11 1L8.5 8.5l.94-2.06 2.06-.94-2.06-.94L8.5 2.5l-.94 2.06-2.06.94zm10 10l.94 2.06.94-2.06 2.06-.94-2.06-.94-.94-2.06-.94 2.06-2.06.94z\"/><path d=\"M17.41 7.96l-1.37-1.37c-.4-.4-.92-.59-1.43-.59-.52 0-1.04.2-1.43.59L10.3 9.45l-7.72 7.72c-.78.78-.78 2.05 0 2.83L4 21.41c.39.39.9.59 1.41.59.51 0 1.02-.2 1.41-.59l7.78-7.78 2.81-2.81c.8-.78.8-2.07 0-2.86zM5.41 20L4 18.59l7.72-7.72 1.47 1.35L5.41 20z\"/>\n",
              "  </svg>\n",
              "      </button>\n",
              "      \n",
              "  <style>\n",
              "    .colab-df-container {\n",
              "      display:flex;\n",
              "      flex-wrap:wrap;\n",
              "      gap: 12px;\n",
              "    }\n",
              "\n",
              "    .colab-df-convert {\n",
              "      background-color: #E8F0FE;\n",
              "      border: none;\n",
              "      border-radius: 50%;\n",
              "      cursor: pointer;\n",
              "      display: none;\n",
              "      fill: #1967D2;\n",
              "      height: 32px;\n",
              "      padding: 0 0 0 0;\n",
              "      width: 32px;\n",
              "    }\n",
              "\n",
              "    .colab-df-convert:hover {\n",
              "      background-color: #E2EBFA;\n",
              "      box-shadow: 0px 1px 2px rgba(60, 64, 67, 0.3), 0px 1px 3px 1px rgba(60, 64, 67, 0.15);\n",
              "      fill: #174EA6;\n",
              "    }\n",
              "\n",
              "    [theme=dark] .colab-df-convert {\n",
              "      background-color: #3B4455;\n",
              "      fill: #D2E3FC;\n",
              "    }\n",
              "\n",
              "    [theme=dark] .colab-df-convert:hover {\n",
              "      background-color: #434B5C;\n",
              "      box-shadow: 0px 1px 3px 1px rgba(0, 0, 0, 0.15);\n",
              "      filter: drop-shadow(0px 1px 2px rgba(0, 0, 0, 0.3));\n",
              "      fill: #FFFFFF;\n",
              "    }\n",
              "  </style>\n",
              "\n",
              "      <script>\n",
              "        const buttonEl =\n",
              "          document.querySelector('#df-1b9b0470-7917-4c45-8fd7-b2950a8c5e13 button.colab-df-convert');\n",
              "        buttonEl.style.display =\n",
              "          google.colab.kernel.accessAllowed ? 'block' : 'none';\n",
              "\n",
              "        async function convertToInteractive(key) {\n",
              "          const element = document.querySelector('#df-1b9b0470-7917-4c45-8fd7-b2950a8c5e13');\n",
              "          const dataTable =\n",
              "            await google.colab.kernel.invokeFunction('convertToInteractive',\n",
              "                                                     [key], {});\n",
              "          if (!dataTable) return;\n",
              "\n",
              "          const docLinkHtml = 'Like what you see? Visit the ' +\n",
              "            '<a target=\"_blank\" href=https://colab.research.google.com/notebooks/data_table.ipynb>data table notebook</a>'\n",
              "            + ' to learn more about interactive tables.';\n",
              "          element.innerHTML = '';\n",
              "          dataTable['output_type'] = 'display_data';\n",
              "          await google.colab.output.renderOutput(dataTable, element);\n",
              "          const docLink = document.createElement('div');\n",
              "          docLink.innerHTML = docLinkHtml;\n",
              "          element.appendChild(docLink);\n",
              "        }\n",
              "      </script>\n",
              "    </div>\n",
              "  </div>\n",
              "  "
            ]
          },
          "metadata": {},
          "execution_count": 38
        }
      ]
    },
    {
      "cell_type": "markdown",
      "source": [
        ""
      ],
      "metadata": {
        "id": "-z2HpmWoEXzz"
      }
    },
    {
      "cell_type": "code",
      "source": [
        ""
      ],
      "metadata": {
        "id": "aDvg6Qe2EIRX"
      },
      "execution_count": 40,
      "outputs": []
    },
    {
      "cell_type": "markdown",
      "source": [
        "### 4.1 Feature Analysis and Exploration\n",
        "\n",
        "#### 4.1.1. Analysing the categorical features"
      ],
      "metadata": {
        "id": "i3-pqcXZEjEB"
      }
    },
    {
      "cell_type": "code",
      "source": [
        "dataset[['emp_title','title','zip_code']].describe()"
      ],
      "metadata": {
        "colab": {
          "base_uri": "https://localhost:8080/",
          "height": 174
        },
        "id": "rBvtNT5REg-I",
        "outputId": "3e69585e-1b1b-4e4e-966f-2f5ae280e916"
      },
      "execution_count": 42,
      "outputs": [
        {
          "output_type": "execute_result",
          "data": {
            "text/plain": [
              "       emp_title               title zip_code\n",
              "count      81416               86138    86138\n",
              "unique     32987                  20      846\n",
              "top      Teacher  Debt consolidation    750xx\n",
              "freq        1576               52990      954"
            ],
            "text/html": [
              "\n",
              "  <div id=\"df-1b934af2-6c5e-4caa-9a8c-b1183cd6b779\">\n",
              "    <div class=\"colab-df-container\">\n",
              "      <div>\n",
              "<style scoped>\n",
              "    .dataframe tbody tr th:only-of-type {\n",
              "        vertical-align: middle;\n",
              "    }\n",
              "\n",
              "    .dataframe tbody tr th {\n",
              "        vertical-align: top;\n",
              "    }\n",
              "\n",
              "    .dataframe thead th {\n",
              "        text-align: right;\n",
              "    }\n",
              "</style>\n",
              "<table border=\"1\" class=\"dataframe\">\n",
              "  <thead>\n",
              "    <tr style=\"text-align: right;\">\n",
              "      <th></th>\n",
              "      <th>emp_title</th>\n",
              "      <th>title</th>\n",
              "      <th>zip_code</th>\n",
              "    </tr>\n",
              "  </thead>\n",
              "  <tbody>\n",
              "    <tr>\n",
              "      <th>count</th>\n",
              "      <td>81416</td>\n",
              "      <td>86138</td>\n",
              "      <td>86138</td>\n",
              "    </tr>\n",
              "    <tr>\n",
              "      <th>unique</th>\n",
              "      <td>32987</td>\n",
              "      <td>20</td>\n",
              "      <td>846</td>\n",
              "    </tr>\n",
              "    <tr>\n",
              "      <th>top</th>\n",
              "      <td>Teacher</td>\n",
              "      <td>Debt consolidation</td>\n",
              "      <td>750xx</td>\n",
              "    </tr>\n",
              "    <tr>\n",
              "      <th>freq</th>\n",
              "      <td>1576</td>\n",
              "      <td>52990</td>\n",
              "      <td>954</td>\n",
              "    </tr>\n",
              "  </tbody>\n",
              "</table>\n",
              "</div>\n",
              "      <button class=\"colab-df-convert\" onclick=\"convertToInteractive('df-1b934af2-6c5e-4caa-9a8c-b1183cd6b779')\"\n",
              "              title=\"Convert this dataframe to an interactive table.\"\n",
              "              style=\"display:none;\">\n",
              "        \n",
              "  <svg xmlns=\"http://www.w3.org/2000/svg\" height=\"24px\"viewBox=\"0 0 24 24\"\n",
              "       width=\"24px\">\n",
              "    <path d=\"M0 0h24v24H0V0z\" fill=\"none\"/>\n",
              "    <path d=\"M18.56 5.44l.94 2.06.94-2.06 2.06-.94-2.06-.94-.94-2.06-.94 2.06-2.06.94zm-11 1L8.5 8.5l.94-2.06 2.06-.94-2.06-.94L8.5 2.5l-.94 2.06-2.06.94zm10 10l.94 2.06.94-2.06 2.06-.94-2.06-.94-.94-2.06-.94 2.06-2.06.94z\"/><path d=\"M17.41 7.96l-1.37-1.37c-.4-.4-.92-.59-1.43-.59-.52 0-1.04.2-1.43.59L10.3 9.45l-7.72 7.72c-.78.78-.78 2.05 0 2.83L4 21.41c.39.39.9.59 1.41.59.51 0 1.02-.2 1.41-.59l7.78-7.78 2.81-2.81c.8-.78.8-2.07 0-2.86zM5.41 20L4 18.59l7.72-7.72 1.47 1.35L5.41 20z\"/>\n",
              "  </svg>\n",
              "      </button>\n",
              "      \n",
              "  <style>\n",
              "    .colab-df-container {\n",
              "      display:flex;\n",
              "      flex-wrap:wrap;\n",
              "      gap: 12px;\n",
              "    }\n",
              "\n",
              "    .colab-df-convert {\n",
              "      background-color: #E8F0FE;\n",
              "      border: none;\n",
              "      border-radius: 50%;\n",
              "      cursor: pointer;\n",
              "      display: none;\n",
              "      fill: #1967D2;\n",
              "      height: 32px;\n",
              "      padding: 0 0 0 0;\n",
              "      width: 32px;\n",
              "    }\n",
              "\n",
              "    .colab-df-convert:hover {\n",
              "      background-color: #E2EBFA;\n",
              "      box-shadow: 0px 1px 2px rgba(60, 64, 67, 0.3), 0px 1px 3px 1px rgba(60, 64, 67, 0.15);\n",
              "      fill: #174EA6;\n",
              "    }\n",
              "\n",
              "    [theme=dark] .colab-df-convert {\n",
              "      background-color: #3B4455;\n",
              "      fill: #D2E3FC;\n",
              "    }\n",
              "\n",
              "    [theme=dark] .colab-df-convert:hover {\n",
              "      background-color: #434B5C;\n",
              "      box-shadow: 0px 1px 3px 1px rgba(0, 0, 0, 0.15);\n",
              "      filter: drop-shadow(0px 1px 2px rgba(0, 0, 0, 0.3));\n",
              "      fill: #FFFFFF;\n",
              "    }\n",
              "  </style>\n",
              "\n",
              "      <script>\n",
              "        const buttonEl =\n",
              "          document.querySelector('#df-1b934af2-6c5e-4caa-9a8c-b1183cd6b779 button.colab-df-convert');\n",
              "        buttonEl.style.display =\n",
              "          google.colab.kernel.accessAllowed ? 'block' : 'none';\n",
              "\n",
              "        async function convertToInteractive(key) {\n",
              "          const element = document.querySelector('#df-1b934af2-6c5e-4caa-9a8c-b1183cd6b779');\n",
              "          const dataTable =\n",
              "            await google.colab.kernel.invokeFunction('convertToInteractive',\n",
              "                                                     [key], {});\n",
              "          if (!dataTable) return;\n",
              "\n",
              "          const docLinkHtml = 'Like what you see? Visit the ' +\n",
              "            '<a target=\"_blank\" href=https://colab.research.google.com/notebooks/data_table.ipynb>data table notebook</a>'\n",
              "            + ' to learn more about interactive tables.';\n",
              "          element.innerHTML = '';\n",
              "          dataTable['output_type'] = 'display_data';\n",
              "          await google.colab.output.renderOutput(dataTable, element);\n",
              "          const docLink = document.createElement('div');\n",
              "          docLink.innerHTML = docLinkHtml;\n",
              "          element.appendChild(docLink);\n",
              "        }\n",
              "      </script>\n",
              "    </div>\n",
              "  </div>\n",
              "  "
            ]
          },
          "metadata": {},
          "execution_count": 42
        }
      ]
    },
    {
      "cell_type": "code",
      "source": [
        "dataset.drop(['emp_title','title','zip_code'], axis=1, inplace=True)"
      ],
      "metadata": {
        "id": "sSpmVT75Fh9J"
      },
      "execution_count": 45,
      "outputs": []
    },
    {
      "cell_type": "code",
      "source": [
        "dataset.shape"
      ],
      "metadata": {
        "colab": {
          "base_uri": "https://localhost:8080/"
        },
        "id": "pmjsqL1vF1EQ",
        "outputId": "080c965c-55c4-4c0f-cb5b-78cac05a9984"
      },
      "execution_count": 46,
      "outputs": [
        {
          "output_type": "execute_result",
          "data": {
            "text/plain": [
              "(86138, 31)"
            ]
          },
          "metadata": {},
          "execution_count": 46
        }
      ]
    },
    {
      "cell_type": "code",
      "source": [
        ""
      ],
      "metadata": {
        "id": "IHblYkhJF4D3"
      },
      "execution_count": null,
      "outputs": []
    },
    {
      "cell_type": "markdown",
      "source": [
        "#### Feature Term"
      ],
      "metadata": {
        "id": "u6-ZDXYeGJBY"
      }
    },
    {
      "cell_type": "code",
      "source": [
        "dataset['term'] = dataset['term'].apply(lambda s: np.int8(s.split()[0]))"
      ],
      "metadata": {
        "colab": {
          "base_uri": "https://localhost:8080/",
          "height": 251
        },
        "id": "1EKcjOQpGM4C",
        "outputId": "6253faf3-1f8a-4c55-b812-b0ebe17487d3"
      },
      "execution_count": 56,
      "outputs": [
        {
          "output_type": "error",
          "ename": "AttributeError",
          "evalue": "ignored",
          "traceback": [
            "\u001b[0;31m---------------------------------------------------------------------------\u001b[0m",
            "\u001b[0;31mAttributeError\u001b[0m                            Traceback (most recent call last)",
            "\u001b[0;32m<ipython-input-56-150f798d005e>\u001b[0m in \u001b[0;36m<module>\u001b[0;34m()\u001b[0m\n\u001b[0;32m----> 1\u001b[0;31m \u001b[0mdataset\u001b[0m\u001b[0;34m[\u001b[0m\u001b[0;34m'term'\u001b[0m\u001b[0;34m]\u001b[0m \u001b[0;34m=\u001b[0m \u001b[0mdataset\u001b[0m\u001b[0;34m[\u001b[0m\u001b[0;34m'term'\u001b[0m\u001b[0;34m]\u001b[0m\u001b[0;34m.\u001b[0m\u001b[0mapply\u001b[0m\u001b[0;34m(\u001b[0m\u001b[0;32mlambda\u001b[0m \u001b[0ms\u001b[0m\u001b[0;34m:\u001b[0m \u001b[0mnp\u001b[0m\u001b[0;34m.\u001b[0m\u001b[0mint8\u001b[0m\u001b[0;34m(\u001b[0m\u001b[0ms\u001b[0m\u001b[0;34m.\u001b[0m\u001b[0msplit\u001b[0m\u001b[0;34m(\u001b[0m\u001b[0;34m)\u001b[0m\u001b[0;34m[\u001b[0m\u001b[0;36m0\u001b[0m\u001b[0;34m]\u001b[0m\u001b[0;34m)\u001b[0m\u001b[0;34m)\u001b[0m\u001b[0;34m.\u001b[0m\u001b[0mloc\u001b[0m\u001b[0;34m[\u001b[0m\u001b[0;34m:\u001b[0m\u001b[0;34m,\u001b[0m\u001b[0;36m1\u001b[0m\u001b[0;34m]\u001b[0m\u001b[0;34m\u001b[0m\u001b[0;34m\u001b[0m\u001b[0m\n\u001b[0m",
            "\u001b[0;32m/usr/local/lib/python3.7/dist-packages/pandas/core/series.py\u001b[0m in \u001b[0;36mapply\u001b[0;34m(self, func, convert_dtype, args, **kwargs)\u001b[0m\n\u001b[1;32m   4355\u001b[0m         \u001b[0mdtype\u001b[0m\u001b[0;34m:\u001b[0m \u001b[0mfloat64\u001b[0m\u001b[0;34m\u001b[0m\u001b[0;34m\u001b[0m\u001b[0m\n\u001b[1;32m   4356\u001b[0m         \"\"\"\n\u001b[0;32m-> 4357\u001b[0;31m         \u001b[0;32mreturn\u001b[0m \u001b[0mSeriesApply\u001b[0m\u001b[0;34m(\u001b[0m\u001b[0mself\u001b[0m\u001b[0;34m,\u001b[0m \u001b[0mfunc\u001b[0m\u001b[0;34m,\u001b[0m \u001b[0mconvert_dtype\u001b[0m\u001b[0;34m,\u001b[0m \u001b[0margs\u001b[0m\u001b[0;34m,\u001b[0m \u001b[0mkwargs\u001b[0m\u001b[0;34m)\u001b[0m\u001b[0;34m.\u001b[0m\u001b[0mapply\u001b[0m\u001b[0;34m(\u001b[0m\u001b[0;34m)\u001b[0m\u001b[0;34m\u001b[0m\u001b[0;34m\u001b[0m\u001b[0m\n\u001b[0m\u001b[1;32m   4358\u001b[0m \u001b[0;34m\u001b[0m\u001b[0m\n\u001b[1;32m   4359\u001b[0m     def _reduce(\n",
            "\u001b[0;32m/usr/local/lib/python3.7/dist-packages/pandas/core/apply.py\u001b[0m in \u001b[0;36mapply\u001b[0;34m(self)\u001b[0m\n\u001b[1;32m   1041\u001b[0m             \u001b[0;32mreturn\u001b[0m \u001b[0mself\u001b[0m\u001b[0;34m.\u001b[0m\u001b[0mapply_str\u001b[0m\u001b[0;34m(\u001b[0m\u001b[0;34m)\u001b[0m\u001b[0;34m\u001b[0m\u001b[0;34m\u001b[0m\u001b[0m\n\u001b[1;32m   1042\u001b[0m \u001b[0;34m\u001b[0m\u001b[0m\n\u001b[0;32m-> 1043\u001b[0;31m         \u001b[0;32mreturn\u001b[0m \u001b[0mself\u001b[0m\u001b[0;34m.\u001b[0m\u001b[0mapply_standard\u001b[0m\u001b[0;34m(\u001b[0m\u001b[0;34m)\u001b[0m\u001b[0;34m\u001b[0m\u001b[0;34m\u001b[0m\u001b[0m\n\u001b[0m\u001b[1;32m   1044\u001b[0m \u001b[0;34m\u001b[0m\u001b[0m\n\u001b[1;32m   1045\u001b[0m     \u001b[0;32mdef\u001b[0m \u001b[0magg\u001b[0m\u001b[0;34m(\u001b[0m\u001b[0mself\u001b[0m\u001b[0;34m)\u001b[0m\u001b[0;34m:\u001b[0m\u001b[0;34m\u001b[0m\u001b[0;34m\u001b[0m\u001b[0m\n",
            "\u001b[0;32m/usr/local/lib/python3.7/dist-packages/pandas/core/apply.py\u001b[0m in \u001b[0;36mapply_standard\u001b[0;34m(self)\u001b[0m\n\u001b[1;32m   1099\u001b[0m                     \u001b[0mvalues\u001b[0m\u001b[0;34m,\u001b[0m\u001b[0;34m\u001b[0m\u001b[0;34m\u001b[0m\u001b[0m\n\u001b[1;32m   1100\u001b[0m                     \u001b[0mf\u001b[0m\u001b[0;34m,\u001b[0m  \u001b[0;31m# type: ignore[arg-type]\u001b[0m\u001b[0;34m\u001b[0m\u001b[0;34m\u001b[0m\u001b[0m\n\u001b[0;32m-> 1101\u001b[0;31m                     \u001b[0mconvert\u001b[0m\u001b[0;34m=\u001b[0m\u001b[0mself\u001b[0m\u001b[0;34m.\u001b[0m\u001b[0mconvert_dtype\u001b[0m\u001b[0;34m,\u001b[0m\u001b[0;34m\u001b[0m\u001b[0;34m\u001b[0m\u001b[0m\n\u001b[0m\u001b[1;32m   1102\u001b[0m                 )\n\u001b[1;32m   1103\u001b[0m \u001b[0;34m\u001b[0m\u001b[0m\n",
            "\u001b[0;32m/usr/local/lib/python3.7/dist-packages/pandas/_libs/lib.pyx\u001b[0m in \u001b[0;36mpandas._libs.lib.map_infer\u001b[0;34m()\u001b[0m\n",
            "\u001b[0;32m<ipython-input-56-150f798d005e>\u001b[0m in \u001b[0;36m<lambda>\u001b[0;34m(s)\u001b[0m\n\u001b[0;32m----> 1\u001b[0;31m \u001b[0mdataset\u001b[0m\u001b[0;34m[\u001b[0m\u001b[0;34m'term'\u001b[0m\u001b[0;34m]\u001b[0m \u001b[0;34m=\u001b[0m \u001b[0mdataset\u001b[0m\u001b[0;34m[\u001b[0m\u001b[0;34m'term'\u001b[0m\u001b[0;34m]\u001b[0m\u001b[0;34m.\u001b[0m\u001b[0mapply\u001b[0m\u001b[0;34m(\u001b[0m\u001b[0;32mlambda\u001b[0m \u001b[0ms\u001b[0m\u001b[0;34m:\u001b[0m \u001b[0mnp\u001b[0m\u001b[0;34m.\u001b[0m\u001b[0mint8\u001b[0m\u001b[0;34m(\u001b[0m\u001b[0ms\u001b[0m\u001b[0;34m.\u001b[0m\u001b[0msplit\u001b[0m\u001b[0;34m(\u001b[0m\u001b[0;34m)\u001b[0m\u001b[0;34m[\u001b[0m\u001b[0;36m0\u001b[0m\u001b[0;34m]\u001b[0m\u001b[0;34m)\u001b[0m\u001b[0;34m)\u001b[0m\u001b[0;34m.\u001b[0m\u001b[0mloc\u001b[0m\u001b[0;34m[\u001b[0m\u001b[0;34m:\u001b[0m\u001b[0;34m,\u001b[0m\u001b[0;36m1\u001b[0m\u001b[0;34m]\u001b[0m\u001b[0;34m\u001b[0m\u001b[0;34m\u001b[0m\u001b[0m\n\u001b[0m",
            "\u001b[0;31mAttributeError\u001b[0m: 'int' object has no attribute 'split'"
          ]
        }
      ]
    },
    {
      "cell_type": "code",
      "source": [
        "dataset.groupby('term')['charged_off'].value_counts(normalize=True).loc[:,1]"
      ],
      "metadata": {
        "colab": {
          "base_uri": "https://localhost:8080/"
        },
        "id": "qbq9O6gqGSlf",
        "outputId": "93c9c11e-64b4-4509-a750-c4773ea70c72"
      },
      "execution_count": 57,
      "outputs": [
        {
          "output_type": "execute_result",
          "data": {
            "text/plain": [
              "term\n",
              "36    0.141526\n",
              "60    0.354356\n",
              "Name: charged_off, dtype: float64"
            ]
          },
          "metadata": {},
          "execution_count": 57
        }
      ]
    },
    {
      "cell_type": "code",
      "source": [
        ""
      ],
      "metadata": {
        "id": "kH63egE-GzPV"
      },
      "execution_count": null,
      "outputs": []
    },
    {
      "cell_type": "markdown",
      "source": [
        "#### Feature Employment Length"
      ],
      "metadata": {
        "id": "u7saw_r9HajK"
      }
    },
    {
      "cell_type": "code",
      "source": [
        "dataset['emp_length'].value_counts()"
      ],
      "metadata": {
        "colab": {
          "base_uri": "https://localhost:8080/"
        },
        "id": "YOmz52jpHdem",
        "outputId": "801f9979-2954-4a27-eff3-26264246014f"
      },
      "execution_count": 58,
      "outputs": [
        {
          "output_type": "execute_result",
          "data": {
            "text/plain": [
              "10+ years    28177\n",
              "2 years       7699\n",
              "< 1 year      7060\n",
              "3 years       6784\n",
              "1 year        5482\n",
              "4 years       5255\n",
              "7 years       4582\n",
              "5 years       4519\n",
              "8 years       4319\n",
              "6 years       4103\n",
              "9 years       3441\n",
              "Name: emp_length, dtype: int64"
            ]
          },
          "metadata": {},
          "execution_count": 58
        }
      ]
    },
    {
      "cell_type": "code",
      "source": [
        "dataset['emp_length'].replace(to_replace='10+ years', value='10 years', inplace=True)\n",
        "dataset['emp_length'].replace('< 1 year', '0 years', inplace=True)"
      ],
      "metadata": {
        "id": "LZMhzWQhHj21"
      },
      "execution_count": 59,
      "outputs": []
    },
    {
      "cell_type": "code",
      "source": [
        "dataset['emp_length'].value_counts(dropna = False)"
      ],
      "metadata": {
        "colab": {
          "base_uri": "https://localhost:8080/"
        },
        "id": "_g0s5hFoHt25",
        "outputId": "4a1d4c37-f478-4d05-df4f-fca15ea25095"
      },
      "execution_count": 65,
      "outputs": [
        {
          "output_type": "execute_result",
          "data": {
            "text/plain": [
              "10 years    28177\n",
              "2 years      7699\n",
              "0 years      7060\n",
              "3 years      6784\n",
              "1 year       5482\n",
              "4 years      5255\n",
              "NaN          4717\n",
              "7 years      4582\n",
              "5 years      4519\n",
              "8 years      4319\n",
              "6 years      4103\n",
              "9 years      3441\n",
              "Name: emp_length, dtype: int64"
            ]
          },
          "metadata": {},
          "execution_count": 65
        }
      ]
    },
    {
      "cell_type": "code",
      "source": [
        "dataset['emp_length'] = dataset['emp_length'].apply(lambda s: s if pd.isnull(s) else np.int8(s.split()[0]))"
      ],
      "metadata": {
        "id": "dDJS6RysHvEp"
      },
      "execution_count": 68,
      "outputs": []
    },
    {
      "cell_type": "code",
      "source": [
        "dataset['emp_length'].value_counts(dropna = False)"
      ],
      "metadata": {
        "colab": {
          "base_uri": "https://localhost:8080/"
        },
        "id": "9l4uGZaGIDZi",
        "outputId": "b7093c0d-fce6-48ad-99e6-62b620405324"
      },
      "execution_count": 69,
      "outputs": [
        {
          "output_type": "execute_result",
          "data": {
            "text/plain": [
              "10.0    28177\n",
              "2.0      7699\n",
              "0.0      7060\n",
              "3.0      6784\n",
              "1.0      5482\n",
              "4.0      5255\n",
              "NaN      4717\n",
              "7.0      4582\n",
              "5.0      4519\n",
              "8.0      4319\n",
              "6.0      4103\n",
              "9.0      3441\n",
              "Name: emp_length, dtype: int64"
            ]
          },
          "metadata": {},
          "execution_count": 69
        }
      ]
    },
    {
      "cell_type": "code",
      "source": [
        "charge_off_rates = dataset.groupby('emp_length')['charged_off'].value_counts(normalize=True).loc[:,1]\n",
        "charge_off_rates.plot(kind='bar');"
      ],
      "metadata": {
        "colab": {
          "base_uri": "https://localhost:8080/",
          "height": 292
        },
        "id": "gqZMuMI2JmBE",
        "outputId": "d9921337-0bdc-4d26-9d89-70cd08300b7a"
      },
      "execution_count": 74,
      "outputs": [
        {
          "output_type": "display_data",
          "data": {
            "text/plain": [
              "<Figure size 432x288 with 1 Axes>"
            ],
            "image/png": "[encoded data removed]"
          },
          "metadata": {
            "needs_background": "light"
          }
        }
      ]
    },
    {
      "cell_type": "code",
      "source": [
        "sns.barplot(x=charge_off_rates.index, y=charge_off_rates.values, color='#5975A4', saturation=1)"
      ],
      "metadata": {
        "colab": {
          "base_uri": "https://localhost:8080/",
          "height": 298
        },
        "id": "DwmV0bfhJ8--",
        "outputId": "876f5a5f-b165-4c46-f7ef-6251a2864e90"
      },
      "execution_count": 77,
      "outputs": [
        {
          "output_type": "execute_result",
          "data": {
            "text/plain": [
              "<matplotlib.axes._subplots.AxesSubplot at 0x7f8c4d60cf10>"
            ]
          },
          "metadata": {},
          "execution_count": 77
        },
        {
          "output_type": "display_data",
          "data": {
            "text/plain": [
              "<Figure size 432x288 with 1 Axes>"
            ],
            "image/png": "[encoded data removed]"
          },
          "metadata": {
            "needs_background": "light"
          }
        }
      ]
    },
    {
      "cell_type": "code",
      "source": [
        "dataset.drop(['emp_length'], axis=1, inplace=True)"
      ],
      "metadata": {
        "id": "2nYi3LALKKt1"
      },
      "execution_count": 86,
      "outputs": []
    },
    {
      "cell_type": "markdown",
      "source": [
        "### Feature : Subgrade"
      ],
      "metadata": {
        "id": "g8Eo1mKTL92Y"
      }
    },
    {
      "cell_type": "code",
      "source": [
        "charge_off_rates = dataset.groupby('sub_grade')['charged_off'].value_counts(normalize=True).loc[:,1]\n",
        "charge_off_rates.plot(kind='bar', figsize=(12,6));"
      ],
      "metadata": {
        "colab": {
          "base_uri": "https://localhost:8080/",
          "height": 393
        },
        "id": "e5s-4vcBL_cL",
        "outputId": "a38adde5-e9be-4045-ac47-fc626844c62b"
      },
      "execution_count": 90,
      "outputs": [
        {
          "output_type": "display_data",
          "data": {
            "text/plain": [
              "<Figure size 864x432 with 1 Axes>"
            ],
            "image/png": "[encoded data removed]"
          },
          "metadata": {
            "needs_background": "light"
          }
        }
      ]
    },
    {
      "cell_type": "code",
      "source": [
        "dataset['earliest_cr_line'] = dataset['earliest_cr_line'].apply(lambda s: int(s[-4:]))"
      ],
      "metadata": {
        "id": "P8pQ-OFNMTir"
      },
      "execution_count": 96,
      "outputs": []
    },
    {
      "cell_type": "markdown",
      "source": [
        "#### 4.1.2. Analysing the continuous features\n",
        "\n",
        "##### Feature : Annual Income"
      ],
      "metadata": {
        "id": "zfg5DQHDNsJ9"
      }
    },
    {
      "cell_type": "code",
      "source": [
        "dataset[['annual_inc']].describe()"
      ],
      "metadata": {
        "colab": {
          "base_uri": "https://localhost:8080/",
          "height": 300
        },
        "id": "CwWkC60tNc9p",
        "outputId": "5239cf2c-ca76-4734-b315-09dbc6df9eef"
      },
      "execution_count": 98,
      "outputs": [
        {
          "output_type": "execute_result",
          "data": {
            "text/plain": [
              "         annual_inc\n",
              "count  8.613800e+04\n",
              "mean   7.384311e+04\n",
              "std    5.929352e+04\n",
              "min    4.000000e+03\n",
              "25%    4.500000e+04\n",
              "50%    6.247372e+04\n",
              "75%    9.000000e+04\n",
              "max    7.500000e+06"
            ],
            "text/html": [
              "\n",
              "  <div id=\"df-43e716c7-5423-49f4-937d-804c381289a9\">\n",
              "    <div class=\"colab-df-container\">\n",
              "      <div>\n",
              "<style scoped>\n",
              "    .dataframe tbody tr th:only-of-type {\n",
              "        vertical-align: middle;\n",
              "    }\n",
              "\n",
              "    .dataframe tbody tr th {\n",
              "        vertical-align: top;\n",
              "    }\n",
              "\n",
              "    .dataframe thead th {\n",
              "        text-align: right;\n",
              "    }\n",
              "</style>\n",
              "<table border=\"1\" class=\"dataframe\">\n",
              "  <thead>\n",
              "    <tr style=\"text-align: right;\">\n",
              "      <th></th>\n",
              "      <th>annual_inc</th>\n",
              "    </tr>\n",
              "  </thead>\n",
              "  <tbody>\n",
              "    <tr>\n",
              "      <th>count</th>\n",
              "      <td>8.613800e+04</td>\n",
              "    </tr>\n",
              "    <tr>\n",
              "      <th>mean</th>\n",
              "      <td>7.384311e+04</td>\n",
              "    </tr>\n",
              "    <tr>\n",
              "      <th>std</th>\n",
              "      <td>5.929352e+04</td>\n",
              "    </tr>\n",
              "    <tr>\n",
              "      <th>min</th>\n",
              "      <td>4.000000e+03</td>\n",
              "    </tr>\n",
              "    <tr>\n",
              "      <th>25%</th>\n",
              "      <td>4.500000e+04</td>\n",
              "    </tr>\n",
              "    <tr>\n",
              "      <th>50%</th>\n",
              "      <td>6.247372e+04</td>\n",
              "    </tr>\n",
              "    <tr>\n",
              "      <th>75%</th>\n",
              "      <td>9.000000e+04</td>\n",
              "    </tr>\n",
              "    <tr>\n",
              "      <th>max</th>\n",
              "      <td>7.500000e+06</td>\n",
              "    </tr>\n",
              "  </tbody>\n",
              "</table>\n",
              "</div>\n",
              "      <button class=\"colab-df-convert\" onclick=\"convertToInteractive('df-43e716c7-5423-49f4-937d-804c381289a9')\"\n",
              "              title=\"Convert this dataframe to an interactive table.\"\n",
              "              style=\"display:none;\">\n",
              "        \n",
              "  <svg xmlns=\"http://www.w3.org/2000/svg\" height=\"24px\"viewBox=\"0 0 24 24\"\n",
              "       width=\"24px\">\n",
              "    <path d=\"M0 0h24v24H0V0z\" fill=\"none\"/>\n",
              "    <path d=\"M18.56 5.44l.94 2.06.94-2.06 2.06-.94-2.06-.94-.94-2.06-.94 2.06-2.06.94zm-11 1L8.5 8.5l.94-2.06 2.06-.94-2.06-.94L8.5 2.5l-.94 2.06-2.06.94zm10 10l.94 2.06.94-2.06 2.06-.94-2.06-.94-.94-2.06-.94 2.06-2.06.94z\"/><path d=\"M17.41 7.96l-1.37-1.37c-.4-.4-.92-.59-1.43-.59-.52 0-1.04.2-1.43.59L10.3 9.45l-7.72 7.72c-.78.78-.78 2.05 0 2.83L4 21.41c.39.39.9.59 1.41.59.51 0 1.02-.2 1.41-.59l7.78-7.78 2.81-2.81c.8-.78.8-2.07 0-2.86zM5.41 20L4 18.59l7.72-7.72 1.47 1.35L5.41 20z\"/>\n",
              "  </svg>\n",
              "      </button>\n",
              "      \n",
              "  <style>\n",
              "    .colab-df-container {\n",
              "      display:flex;\n",
              "      flex-wrap:wrap;\n",
              "      gap: 12px;\n",
              "    }\n",
              "\n",
              "    .colab-df-convert {\n",
              "      background-color: #E8F0FE;\n",
              "      border: none;\n",
              "      border-radius: 50%;\n",
              "      cursor: pointer;\n",
              "      display: none;\n",
              "      fill: #1967D2;\n",
              "      height: 32px;\n",
              "      padding: 0 0 0 0;\n",
              "      width: 32px;\n",
              "    }\n",
              "\n",
              "    .colab-df-convert:hover {\n",
              "      background-color: #E2EBFA;\n",
              "      box-shadow: 0px 1px 2px rgba(60, 64, 67, 0.3), 0px 1px 3px 1px rgba(60, 64, 67, 0.15);\n",
              "      fill: #174EA6;\n",
              "    }\n",
              "\n",
              "    [theme=dark] .colab-df-convert {\n",
              "      background-color: #3B4455;\n",
              "      fill: #D2E3FC;\n",
              "    }\n",
              "\n",
              "    [theme=dark] .colab-df-convert:hover {\n",
              "      background-color: #434B5C;\n",
              "      box-shadow: 0px 1px 3px 1px rgba(0, 0, 0, 0.15);\n",
              "      filter: drop-shadow(0px 1px 2px rgba(0, 0, 0, 0.3));\n",
              "      fill: #FFFFFF;\n",
              "    }\n",
              "  </style>\n",
              "\n",
              "      <script>\n",
              "        const buttonEl =\n",
              "          document.querySelector('#df-43e716c7-5423-49f4-937d-804c381289a9 button.colab-df-convert');\n",
              "        buttonEl.style.display =\n",
              "          google.colab.kernel.accessAllowed ? 'block' : 'none';\n",
              "\n",
              "        async function convertToInteractive(key) {\n",
              "          const element = document.querySelector('#df-43e716c7-5423-49f4-937d-804c381289a9');\n",
              "          const dataTable =\n",
              "            await google.colab.kernel.invokeFunction('convertToInteractive',\n",
              "                                                     [key], {});\n",
              "          if (!dataTable) return;\n",
              "\n",
              "          const docLinkHtml = 'Like what you see? Visit the ' +\n",
              "            '<a target=\"_blank\" href=https://colab.research.google.com/notebooks/data_table.ipynb>data table notebook</a>'\n",
              "            + ' to learn more about interactive tables.';\n",
              "          element.innerHTML = '';\n",
              "          dataTable['output_type'] = 'display_data';\n",
              "          await google.colab.output.renderOutput(dataTable, element);\n",
              "          const docLink = document.createElement('div');\n",
              "          docLink.innerHTML = docLinkHtml;\n",
              "          element.appendChild(docLink);\n",
              "        }\n",
              "      </script>\n",
              "    </div>\n",
              "  </div>\n",
              "  "
            ]
          },
          "metadata": {},
          "execution_count": 98
        }
      ]
    },
    {
      "cell_type": "code",
      "source": [
        "dataset['log_annual_inc'] = dataset['annual_inc'].apply(lambda x: np.log10(x+1))\n",
        "dataset.drop('annual_inc', axis=1, inplace=True)"
      ],
      "metadata": {
        "id": "5kcsI6M9Ps08"
      },
      "execution_count": 100,
      "outputs": []
    },
    {
      "cell_type": "code",
      "source": [
        "dataset['log_annual_inc'].hist();"
      ],
      "metadata": {
        "colab": {
          "base_uri": "https://localhost:8080/",
          "height": 264
        },
        "id": "Xk7LpJWMQI38",
        "outputId": "fe5e1cae-1931-4639-a45a-52c2e2b9aff3"
      },
      "execution_count": 103,
      "outputs": [
        {
          "output_type": "display_data",
          "data": {
            "text/plain": [
              "<Figure size 432x288 with 1 Axes>"
            ],
            "image/png": "[encoded data removed]"
          },
          "metadata": {
            "needs_background": "light"
          }
        }
      ]
    },
    {
      "cell_type": "markdown",
      "source": [
        "#### FIFO Scores"
      ],
      "metadata": {
        "id": "bxlQaVtLQ4_i"
      }
    },
    {
      "cell_type": "code",
      "source": [
        ""
      ],
      "metadata": {
        "id": "XXmu0NLIQ7MM"
      },
      "execution_count": null,
      "outputs": []
    }
  ]
}