{
  "nbformat": 4,
  "nbformat_minor": 0,
  "metadata": {
    "colab": {
      "name": "loan_default_probability.ipynb",
      "provenance": [],
      "authorship_tag": "ABX9TyMMhKdftLNjnIXbLaffDIMI",
      "include_colab_link": true
    },
    "kernelspec": {
      "name": "python3",
      "display_name": "Python 3"
    },
    "language_info": {
      "name": "python"
    }
  },
  "cells": [
    {
      "cell_type": "markdown",
      "metadata": {
        "id": "view-in-github",
        "colab_type": "text"
      },
      "source": [
        "<a href=\"https://colab.research.google.com/github/dkomlen/finance-ml/blob/main/loan_default_probability.ipynb\" target=\"_parent\"><img src=\"https://colab.research.google.com/assets/colab-badge.svg\" alt=\"Open In Colab\"/></a>"
      ]
    },
    {
      "cell_type": "code",
      "execution_count": 1,
      "metadata": {
        "id": "pj8EU1_o3v_F"
      },
      "outputs": [],
      "source": [
        "# Load libraries\n",
        "import numpy as np\n",
        "import pandas as pd\n",
        "from matplotlib import pyplot\n",
        "from pandas import read_csv, set_option\n",
        "from pandas.plotting import scatter_matrix\n",
        "import seaborn as sns\n",
        "from sklearn.preprocessing import StandardScaler\n",
        "from sklearn.model_selection import train_test_split, KFold, cross_val_score, GridSearchCV\n",
        "from sklearn.linear_model import LogisticRegression\n",
        "from sklearn.tree import DecisionTreeClassifier\n",
        "from sklearn.neighbors import KNeighborsClassifier\n",
        "from sklearn.discriminant_analysis import LinearDiscriminantAnalysis\n",
        "from sklearn.naive_bayes import GaussianNB\n",
        "from sklearn.svm import SVC\n",
        "from sklearn.neural_network import MLPClassifier\n",
        "from sklearn.pipeline import Pipeline\n",
        "from sklearn.ensemble import AdaBoostClassifier, GradientBoostingClassifier, RandomForestClassifier, ExtraTreesClassifier\n",
        "from sklearn.metrics import classification_report, confusion_matrix, accuracy_score\n",
        "\n",
        "#Libraries for Deep Learning Models\n",
        "from keras.models import Sequential\n",
        "from keras.layers import Dense\n",
        "from keras.wrappers.scikit_learn import KerasClassifier\n",
        "from tensorflow.keras.optimizers import SGD\n",
        "\n",
        "# XGB\n",
        "from sklearn.model_selection import cross_val_score\n",
        "from xgboost import XGBClassifier, XGBRFClassifier\n",
        "from sklearn.ensemble import RandomForestClassifier, StackingClassifier\n",
        "from sklearn.linear_model import LogisticRegression\n",
        "from sklearn.model_selection import train_test_split, StratifiedKFold\n",
        "from sklearn.metrics import accuracy_score\n",
        "from sklearn.ensemble import VotingClassifier\n",
        "\n",
        "#Libraries for Saving the Model\n",
        "from pickle import dump\n",
        "from pickle import load"
      ]
    },
    {
      "cell_type": "markdown",
      "source": [
        "#### 2.2 Loading the data"
      ],
      "metadata": {
        "id": "8xgKXIF95UDk"
      }
    },
    {
      "cell_type": "code",
      "source": [
        "loans = pd.read_csv('https://github.com/tatsath/fin-ml/raw/master/Chapter%206%20-%20Sup.%20Learning%20-%20Classification%20models/CaseStudy2%20-%20Loan%20Default%20Probability/LoansData_sample.csv.gz', compression='gzip', encoding='utf-8')"
      ],
      "metadata": {
        "colab": {
          "base_uri": "https://localhost:8080/"
        },
        "id": "0oOP1dpo30Q0",
        "outputId": "d79f98e7-8a64-4d26-9d16-1b5ba55d3864"
      },
      "execution_count": 2,
      "outputs": [
        {
          "output_type": "stream",
          "name": "stderr",
          "text": [
            "/usr/local/lib/python3.7/dist-packages/IPython/core/interactiveshell.py:2882: DtypeWarning: Columns (19) have mixed types.Specify dtype option on import or set low_memory=False.\n",
            "  exec(code_obj, self.user_global_ns, self.user_ns)\n"
          ]
        }
      ]
    },
    {
      "cell_type": "code",
      "source": [
        "dataset = loans"
      ],
      "metadata": {
        "id": "6LAl_25i4kdc"
      },
      "execution_count": 3,
      "outputs": []
    },
    {
      "cell_type": "code",
      "source": [
        "#Disable the warnings\n",
        "import warnings\n",
        "warnings.filterwarnings('ignore')"
      ],
      "metadata": {
        "id": "8PsZUSrE4nlP"
      },
      "execution_count": 4,
      "outputs": []
    },
    {
      "cell_type": "code",
      "source": [
        "type(dataset)"
      ],
      "metadata": {
        "colab": {
          "base_uri": "https://localhost:8080/"
        },
        "id": "7wh17mel4yW5",
        "outputId": "3acf3df9-f51b-4353-9cac-4c8ab28e230a"
      },
      "execution_count": 5,
      "outputs": [
        {
          "output_type": "execute_result",
          "data": {
            "text/plain": [
              "pandas.core.frame.DataFrame"
            ]
          },
          "metadata": {},
          "execution_count": 5
        }
      ]
    },
    {
      "cell_type": "code",
      "source": [
        "dataset.head()"
      ],
      "metadata": {
        "colab": {
          "base_uri": "https://localhost:8080/",
          "height": 404
        },
        "id": "40Ap2ZoH42f6",
        "outputId": "8b09caf4-893b-4037-c5d2-ddbbfe285ff4"
      },
      "execution_count": 6,
      "outputs": [
        {
          "output_type": "execute_result",
          "data": {
            "text/plain": [
              "   Unnamed: 0        id  member_id  loan_amnt  funded_amnt  funded_amnt_inv  \\\n",
              "0           0  38098114        NaN    15000.0      15000.0          15000.0   \n",
              "1           1  36805548        NaN    10400.0      10400.0          10400.0   \n",
              "2           2  37842129        NaN    21425.0      21425.0          21425.0   \n",
              "3           3  37612354        NaN    12800.0      12800.0          12800.0   \n",
              "4           4  37662224        NaN     7650.0       7650.0           7650.0   \n",
              "\n",
              "         term  int_rate  installment grade  ...  \\\n",
              "0   60 months     12.39       336.64     C  ...   \n",
              "1   36 months      6.99       321.08     A  ...   \n",
              "2   60 months     15.59       516.36     D  ...   \n",
              "3   60 months     17.14       319.08     D  ...   \n",
              "4   36 months     13.66       260.20     C  ...   \n",
              "\n",
              "  hardship_payoff_balance_amount hardship_last_payment_amount  \\\n",
              "0                            NaN                          NaN   \n",
              "1                            NaN                          NaN   \n",
              "2                            NaN                          NaN   \n",
              "3                            NaN                          NaN   \n",
              "4                            NaN                          NaN   \n",
              "\n",
              "  disbursement_method debt_settlement_flag  debt_settlement_flag_date  \\\n",
              "0                Cash                    N                        NaN   \n",
              "1                Cash                    N                        NaN   \n",
              "2                Cash                    N                        NaN   \n",
              "3                Cash                    N                        NaN   \n",
              "4                Cash                    N                        NaN   \n",
              "\n",
              "  settlement_status settlement_date settlement_amount settlement_percentage  \\\n",
              "0               NaN             NaN               NaN                   NaN   \n",
              "1               NaN             NaN               NaN                   NaN   \n",
              "2               NaN             NaN               NaN                   NaN   \n",
              "3               NaN             NaN               NaN                   NaN   \n",
              "4               NaN             NaN               NaN                   NaN   \n",
              "\n",
              "  settlement_term  \n",
              "0             NaN  \n",
              "1             NaN  \n",
              "2             NaN  \n",
              "3             NaN  \n",
              "4             NaN  \n",
              "\n",
              "[5 rows x 151 columns]"
            ],
            "text/html": [
              "\n",
              "  <div id=\"df-e37fcea5-cb65-4bdd-a2dd-b3f85ad17b7e\">\n",
              "    <div class=\"colab-df-container\">\n",
              "      <div>\n",
              "<style scoped>\n",
              "    .dataframe tbody tr th:only-of-type {\n",
              "        vertical-align: middle;\n",
              "    }\n",
              "\n",
              "    .dataframe tbody tr th {\n",
              "        vertical-align: top;\n",
              "    }\n",
              "\n",
              "    .dataframe thead th {\n",
              "        text-align: right;\n",
              "    }\n",
              "</style>\n",
              "<table border=\"1\" class=\"dataframe\">\n",
              "  <thead>\n",
              "    <tr style=\"text-align: right;\">\n",
              "      <th></th>\n",
              "      <th>Unnamed: 0</th>\n",
              "      <th>id</th>\n",
              "      <th>member_id</th>\n",
              "      <th>loan_amnt</th>\n",
              "      <th>funded_amnt</th>\n",
              "      <th>funded_amnt_inv</th>\n",
              "      <th>term</th>\n",
              "      <th>int_rate</th>\n",
              "      <th>installment</th>\n",
              "      <th>grade</th>\n",
              "      <th>...</th>\n",
              "      <th>hardship_payoff_balance_amount</th>\n",
              "      <th>hardship_last_payment_amount</th>\n",
              "      <th>disbursement_method</th>\n",
              "      <th>debt_settlement_flag</th>\n",
              "      <th>debt_settlement_flag_date</th>\n",
              "      <th>settlement_status</th>\n",
              "      <th>settlement_date</th>\n",
              "      <th>settlement_amount</th>\n",
              "      <th>settlement_percentage</th>\n",
              "      <th>settlement_term</th>\n",
              "    </tr>\n",
              "  </thead>\n",
              "  <tbody>\n",
              "    <tr>\n",
              "      <th>0</th>\n",
              "      <td>0</td>\n",
              "      <td>38098114</td>\n",
              "      <td>NaN</td>\n",
              "      <td>15000.0</td>\n",
              "      <td>15000.0</td>\n",
              "      <td>15000.0</td>\n",
              "      <td>60 months</td>\n",
              "      <td>12.39</td>\n",
              "      <td>336.64</td>\n",
              "      <td>C</td>\n",
              "      <td>...</td>\n",
              "      <td>NaN</td>\n",
              "      <td>NaN</td>\n",
              "      <td>Cash</td>\n",
              "      <td>N</td>\n",
              "      <td>NaN</td>\n",
              "      <td>NaN</td>\n",
              "      <td>NaN</td>\n",
              "      <td>NaN</td>\n",
              "      <td>NaN</td>\n",
              "      <td>NaN</td>\n",
              "    </tr>\n",
              "    <tr>\n",
              "      <th>1</th>\n",
              "      <td>1</td>\n",
              "      <td>36805548</td>\n",
              "      <td>NaN</td>\n",
              "      <td>10400.0</td>\n",
              "      <td>10400.0</td>\n",
              "      <td>10400.0</td>\n",
              "      <td>36 months</td>\n",
              "      <td>6.99</td>\n",
              "      <td>321.08</td>\n",
              "      <td>A</td>\n",
              "      <td>...</td>\n",
              "      <td>NaN</td>\n",
              "      <td>NaN</td>\n",
              "      <td>Cash</td>\n",
              "      <td>N</td>\n",
              "      <td>NaN</td>\n",
              "      <td>NaN</td>\n",
              "      <td>NaN</td>\n",
              "      <td>NaN</td>\n",
              "      <td>NaN</td>\n",
              "      <td>NaN</td>\n",
              "    </tr>\n",
              "    <tr>\n",
              "      <th>2</th>\n",
              "      <td>2</td>\n",
              "      <td>37842129</td>\n",
              "      <td>NaN</td>\n",
              "      <td>21425.0</td>\n",
              "      <td>21425.0</td>\n",
              "      <td>21425.0</td>\n",
              "      <td>60 months</td>\n",
              "      <td>15.59</td>\n",
              "      <td>516.36</td>\n",
              "      <td>D</td>\n",
              "      <td>...</td>\n",
              "      <td>NaN</td>\n",
              "      <td>NaN</td>\n",
              "      <td>Cash</td>\n",
              "      <td>N</td>\n",
              "      <td>NaN</td>\n",
              "      <td>NaN</td>\n",
              "      <td>NaN</td>\n",
              "      <td>NaN</td>\n",
              "      <td>NaN</td>\n",
              "      <td>NaN</td>\n",
              "    </tr>\n",
              "    <tr>\n",
              "      <th>3</th>\n",
              "      <td>3</td>\n",
              "      <td>37612354</td>\n",
              "      <td>NaN</td>\n",
              "      <td>12800.0</td>\n",
              "      <td>12800.0</td>\n",
              "      <td>12800.0</td>\n",
              "      <td>60 months</td>\n",
              "      <td>17.14</td>\n",
              "      <td>319.08</td>\n",
              "      <td>D</td>\n",
              "      <td>...</td>\n",
              "      <td>NaN</td>\n",
              "      <td>NaN</td>\n",
              "      <td>Cash</td>\n",
              "      <td>N</td>\n",
              "      <td>NaN</td>\n",
              "      <td>NaN</td>\n",
              "      <td>NaN</td>\n",
              "      <td>NaN</td>\n",
              "      <td>NaN</td>\n",
              "      <td>NaN</td>\n",
              "    </tr>\n",
              "    <tr>\n",
              "      <th>4</th>\n",
              "      <td>4</td>\n",
              "      <td>37662224</td>\n",
              "      <td>NaN</td>\n",
              "      <td>7650.0</td>\n",
              "      <td>7650.0</td>\n",
              "      <td>7650.0</td>\n",
              "      <td>36 months</td>\n",
              "      <td>13.66</td>\n",
              "      <td>260.20</td>\n",
              "      <td>C</td>\n",
              "      <td>...</td>\n",
              "      <td>NaN</td>\n",
              "      <td>NaN</td>\n",
              "      <td>Cash</td>\n",
              "      <td>N</td>\n",
              "      <td>NaN</td>\n",
              "      <td>NaN</td>\n",
              "      <td>NaN</td>\n",
              "      <td>NaN</td>\n",
              "      <td>NaN</td>\n",
              "      <td>NaN</td>\n",
              "    </tr>\n",
              "  </tbody>\n",
              "</table>\n",
              "<p>5 rows × 151 columns</p>\n",
              "</div>\n",
              "      <button class=\"colab-df-convert\" onclick=\"convertToInteractive('df-e37fcea5-cb65-4bdd-a2dd-b3f85ad17b7e')\"\n",
              "              title=\"Convert this dataframe to an interactive table.\"\n",
              "              style=\"display:none;\">\n",
              "        \n",
              "  <svg xmlns=\"http://www.w3.org/2000/svg\" height=\"24px\"viewBox=\"0 0 24 24\"\n",
              "       width=\"24px\">\n",
              "    <path d=\"M0 0h24v24H0V0z\" fill=\"none\"/>\n",
              "    <path d=\"M18.56 5.44l.94 2.06.94-2.06 2.06-.94-2.06-.94-.94-2.06-.94 2.06-2.06.94zm-11 1L8.5 8.5l.94-2.06 2.06-.94-2.06-.94L8.5 2.5l-.94 2.06-2.06.94zm10 10l.94 2.06.94-2.06 2.06-.94-2.06-.94-.94-2.06-.94 2.06-2.06.94z\"/><path d=\"M17.41 7.96l-1.37-1.37c-.4-.4-.92-.59-1.43-.59-.52 0-1.04.2-1.43.59L10.3 9.45l-7.72 7.72c-.78.78-.78 2.05 0 2.83L4 21.41c.39.39.9.59 1.41.59.51 0 1.02-.2 1.41-.59l7.78-7.78 2.81-2.81c.8-.78.8-2.07 0-2.86zM5.41 20L4 18.59l7.72-7.72 1.47 1.35L5.41 20z\"/>\n",
              "  </svg>\n",
              "      </button>\n",
              "      \n",
              "  <style>\n",
              "    .colab-df-container {\n",
              "      display:flex;\n",
              "      flex-wrap:wrap;\n",
              "      gap: 12px;\n",
              "    }\n",
              "\n",
              "    .colab-df-convert {\n",
              "      background-color: #E8F0FE;\n",
              "      border: none;\n",
              "      border-radius: 50%;\n",
              "      cursor: pointer;\n",
              "      display: none;\n",
              "      fill: #1967D2;\n",
              "      height: 32px;\n",
              "      padding: 0 0 0 0;\n",
              "      width: 32px;\n",
              "    }\n",
              "\n",
              "    .colab-df-convert:hover {\n",
              "      background-color: #E2EBFA;\n",
              "      box-shadow: 0px 1px 2px rgba(60, 64, 67, 0.3), 0px 1px 3px 1px rgba(60, 64, 67, 0.15);\n",
              "      fill: #174EA6;\n",
              "    }\n",
              "\n",
              "    [theme=dark] .colab-df-convert {\n",
              "      background-color: #3B4455;\n",
              "      fill: #D2E3FC;\n",
              "    }\n",
              "\n",
              "    [theme=dark] .colab-df-convert:hover {\n",
              "      background-color: #434B5C;\n",
              "      box-shadow: 0px 1px 3px 1px rgba(0, 0, 0, 0.15);\n",
              "      filter: drop-shadow(0px 1px 2px rgba(0, 0, 0, 0.3));\n",
              "      fill: #FFFFFF;\n",
              "    }\n",
              "  </style>\n",
              "\n",
              "      <script>\n",
              "        const buttonEl =\n",
              "          document.querySelector('#df-e37fcea5-cb65-4bdd-a2dd-b3f85ad17b7e button.colab-df-convert');\n",
              "        buttonEl.style.display =\n",
              "          google.colab.kernel.accessAllowed ? 'block' : 'none';\n",
              "\n",
              "        async function convertToInteractive(key) {\n",
              "          const element = document.querySelector('#df-e37fcea5-cb65-4bdd-a2dd-b3f85ad17b7e');\n",
              "          const dataTable =\n",
              "            await google.colab.kernel.invokeFunction('convertToInteractive',\n",
              "                                                     [key], {});\n",
              "          if (!dataTable) return;\n",
              "\n",
              "          const docLinkHtml = 'Like what you see? Visit the ' +\n",
              "            '<a target=\"_blank\" href=https://colab.research.google.com/notebooks/data_table.ipynb>data table notebook</a>'\n",
              "            + ' to learn more about interactive tables.';\n",
              "          element.innerHTML = '';\n",
              "          dataTable['output_type'] = 'display_data';\n",
              "          await google.colab.output.renderOutput(dataTable, element);\n",
              "          const docLink = document.createElement('div');\n",
              "          docLink.innerHTML = docLinkHtml;\n",
              "          element.appendChild(docLink);\n",
              "        }\n",
              "      </script>\n",
              "    </div>\n",
              "  </div>\n",
              "  "
            ]
          },
          "metadata": {},
          "execution_count": 6
        }
      ]
    },
    {
      "cell_type": "code",
      "source": [
        "dataset.columns"
      ],
      "metadata": {
        "colab": {
          "base_uri": "https://localhost:8080/"
        },
        "id": "pOZjvN7b4_3-",
        "outputId": "df525f58-7e53-435d-f98f-dd1915b61f30"
      },
      "execution_count": 7,
      "outputs": [
        {
          "output_type": "execute_result",
          "data": {
            "text/plain": [
              "Index(['Unnamed: 0', 'id', 'member_id', 'loan_amnt', 'funded_amnt',\n",
              "       'funded_amnt_inv', 'term', 'int_rate', 'installment', 'grade',\n",
              "       ...\n",
              "       'hardship_payoff_balance_amount', 'hardship_last_payment_amount',\n",
              "       'disbursement_method', 'debt_settlement_flag',\n",
              "       'debt_settlement_flag_date', 'settlement_status', 'settlement_date',\n",
              "       'settlement_amount', 'settlement_percentage', 'settlement_term'],\n",
              "      dtype='object', length=151)"
            ]
          },
          "metadata": {},
          "execution_count": 7
        }
      ]
    },
    {
      "cell_type": "code",
      "source": [
        "dataset.describe()"
      ],
      "metadata": {
        "colab": {
          "base_uri": "https://localhost:8080/",
          "height": 393
        },
        "id": "ljcgUorA5ICV",
        "outputId": "4e5d9095-b606-4da3-d799-5770ea283164"
      },
      "execution_count": 8,
      "outputs": [
        {
          "output_type": "execute_result",
          "data": {
            "text/plain": [
              "          Unnamed: 0            id  member_id      loan_amnt    funded_amnt  \\\n",
              "count  100000.000000  1.000000e+05        0.0  100000.000000  100000.000000   \n",
              "mean    49999.500000  3.029995e+07        NaN   14886.930000   14886.930000   \n",
              "std     28867.657797  4.763500e+06        NaN    8504.432514    8504.432514   \n",
              "min         0.000000  5.716700e+04        NaN    1000.000000    1000.000000   \n",
              "25%     24999.750000  2.737015e+07        NaN    8000.000000    8000.000000   \n",
              "50%     49999.500000  3.052556e+07        NaN   13050.000000   13050.000000   \n",
              "75%     74999.250000  3.438201e+07        NaN   20000.000000   20000.000000   \n",
              "max     99999.000000  3.809811e+07        NaN   35000.000000   35000.000000   \n",
              "\n",
              "       funded_amnt_inv       int_rate    installment    annual_inc  \\\n",
              "count    100000.000000  100000.000000  100000.000000  1.000000e+05   \n",
              "mean      14883.910500      13.278073     437.331824  7.468924e+04   \n",
              "std        8502.519174       4.390210     244.317648  5.809527e+04   \n",
              "min        1000.000000       6.000000      30.420000  4.000000e+03   \n",
              "25%        8000.000000      10.150000     261.640000  4.500000e+04   \n",
              "50%       13050.000000      12.990000     380.180000  6.400000e+04   \n",
              "75%       20000.000000      15.610000     573.320000  9.000000e+04   \n",
              "max       35000.000000      26.060000    1408.130000  7.500000e+06   \n",
              "\n",
              "                 dti  ...  deferral_term  hardship_amount  hardship_length  \\\n",
              "count  100000.000000  ...          185.0       185.000000            185.0   \n",
              "mean       18.769787  ...            3.0       110.335568              3.0   \n",
              "std         8.539769  ...            0.0        89.266601              0.0   \n",
              "min         0.000000  ...            3.0         1.470000              3.0   \n",
              "25%        12.320000  ...            3.0        23.760000              3.0   \n",
              "50%        18.210000  ...            3.0        96.580000              3.0   \n",
              "75%        24.760000  ...            3.0       164.750000              3.0   \n",
              "max        39.990000  ...            3.0       382.340000              3.0   \n",
              "\n",
              "       hardship_dpd  orig_projected_additional_accrued_interest  \\\n",
              "count    185.000000                                  152.000000   \n",
              "mean      14.037838                                  323.495132   \n",
              "std        9.657374                                  267.627244   \n",
              "min        0.000000                                    4.410000   \n",
              "25%        7.000000                                   63.885000   \n",
              "50%       15.000000                                  281.580000   \n",
              "75%       22.000000                                  481.492500   \n",
              "max       32.000000                                 1147.020000   \n",
              "\n",
              "       hardship_payoff_balance_amount  hardship_last_payment_amount  \\\n",
              "count                      185.000000                    185.000000   \n",
              "mean                      8046.616541                    186.563135   \n",
              "std                       5585.653253                    168.552986   \n",
              "min                        174.150000                      0.040000   \n",
              "25%                       2465.360000                     27.610000   \n",
              "50%                       8049.850000                    172.460000   \n",
              "75%                      11968.940000                    285.890000   \n",
              "max                      21750.750000                    757.420000   \n",
              "\n",
              "       settlement_amount  settlement_percentage  settlement_term  \n",
              "count        1290.000000            1290.000000      1290.000000  \n",
              "mean         4768.376357              47.720519         8.265116  \n",
              "std          3703.963945               7.046587         8.263566  \n",
              "min           233.160000               0.550000         0.000000  \n",
              "25%          1951.125000              45.000000         0.000000  \n",
              "50%          3881.120000              45.040000         6.000000  \n",
              "75%          6503.000000              50.000000        14.000000  \n",
              "max         26751.740000             100.000000        36.000000  \n",
              "\n",
              "[8 rows x 117 columns]"
            ],
            "text/html": [
              "\n",
              "  <div id=\"df-48a4403a-45ce-4dfd-abb7-036fd62a39f6\">\n",
              "    <div class=\"colab-df-container\">\n",
              "      <div>\n",
              "<style scoped>\n",
              "    .dataframe tbody tr th:only-of-type {\n",
              "        vertical-align: middle;\n",
              "    }\n",
              "\n",
              "    .dataframe tbody tr th {\n",
              "        vertical-align: top;\n",
              "    }\n",
              "\n",
              "    .dataframe thead th {\n",
              "        text-align: right;\n",
              "    }\n",
              "</style>\n",
              "<table border=\"1\" class=\"dataframe\">\n",
              "  <thead>\n",
              "    <tr style=\"text-align: right;\">\n",
              "      <th></th>\n",
              "      <th>Unnamed: 0</th>\n",
              "      <th>id</th>\n",
              "      <th>member_id</th>\n",
              "      <th>loan_amnt</th>\n",
              "      <th>funded_amnt</th>\n",
              "      <th>funded_amnt_inv</th>\n",
              "      <th>int_rate</th>\n",
              "      <th>installment</th>\n",
              "      <th>annual_inc</th>\n",
              "      <th>dti</th>\n",
              "      <th>...</th>\n",
              "      <th>deferral_term</th>\n",
              "      <th>hardship_amount</th>\n",
              "      <th>hardship_length</th>\n",
              "      <th>hardship_dpd</th>\n",
              "      <th>orig_projected_additional_accrued_interest</th>\n",
              "      <th>hardship_payoff_balance_amount</th>\n",
              "      <th>hardship_last_payment_amount</th>\n",
              "      <th>settlement_amount</th>\n",
              "      <th>settlement_percentage</th>\n",
              "      <th>settlement_term</th>\n",
              "    </tr>\n",
              "  </thead>\n",
              "  <tbody>\n",
              "    <tr>\n",
              "      <th>count</th>\n",
              "      <td>100000.000000</td>\n",
              "      <td>1.000000e+05</td>\n",
              "      <td>0.0</td>\n",
              "      <td>100000.000000</td>\n",
              "      <td>100000.000000</td>\n",
              "      <td>100000.000000</td>\n",
              "      <td>100000.000000</td>\n",
              "      <td>100000.000000</td>\n",
              "      <td>1.000000e+05</td>\n",
              "      <td>100000.000000</td>\n",
              "      <td>...</td>\n",
              "      <td>185.0</td>\n",
              "      <td>185.000000</td>\n",
              "      <td>185.0</td>\n",
              "      <td>185.000000</td>\n",
              "      <td>152.000000</td>\n",
              "      <td>185.000000</td>\n",
              "      <td>185.000000</td>\n",
              "      <td>1290.000000</td>\n",
              "      <td>1290.000000</td>\n",
              "      <td>1290.000000</td>\n",
              "    </tr>\n",
              "    <tr>\n",
              "      <th>mean</th>\n",
              "      <td>49999.500000</td>\n",
              "      <td>3.029995e+07</td>\n",
              "      <td>NaN</td>\n",
              "      <td>14886.930000</td>\n",
              "      <td>14886.930000</td>\n",
              "      <td>14883.910500</td>\n",
              "      <td>13.278073</td>\n",
              "      <td>437.331824</td>\n",
              "      <td>7.468924e+04</td>\n",
              "      <td>18.769787</td>\n",
              "      <td>...</td>\n",
              "      <td>3.0</td>\n",
              "      <td>110.335568</td>\n",
              "      <td>3.0</td>\n",
              "      <td>14.037838</td>\n",
              "      <td>323.495132</td>\n",
              "      <td>8046.616541</td>\n",
              "      <td>186.563135</td>\n",
              "      <td>4768.376357</td>\n",
              "      <td>47.720519</td>\n",
              "      <td>8.265116</td>\n",
              "    </tr>\n",
              "    <tr>\n",
              "      <th>std</th>\n",
              "      <td>28867.657797</td>\n",
              "      <td>4.763500e+06</td>\n",
              "      <td>NaN</td>\n",
              "      <td>8504.432514</td>\n",
              "      <td>8504.432514</td>\n",
              "      <td>8502.519174</td>\n",
              "      <td>4.390210</td>\n",
              "      <td>244.317648</td>\n",
              "      <td>5.809527e+04</td>\n",
              "      <td>8.539769</td>\n",
              "      <td>...</td>\n",
              "      <td>0.0</td>\n",
              "      <td>89.266601</td>\n",
              "      <td>0.0</td>\n",
              "      <td>9.657374</td>\n",
              "      <td>267.627244</td>\n",
              "      <td>5585.653253</td>\n",
              "      <td>168.552986</td>\n",
              "      <td>3703.963945</td>\n",
              "      <td>7.046587</td>\n",
              "      <td>8.263566</td>\n",
              "    </tr>\n",
              "    <tr>\n",
              "      <th>min</th>\n",
              "      <td>0.000000</td>\n",
              "      <td>5.716700e+04</td>\n",
              "      <td>NaN</td>\n",
              "      <td>1000.000000</td>\n",
              "      <td>1000.000000</td>\n",
              "      <td>1000.000000</td>\n",
              "      <td>6.000000</td>\n",
              "      <td>30.420000</td>\n",
              "      <td>4.000000e+03</td>\n",
              "      <td>0.000000</td>\n",
              "      <td>...</td>\n",
              "      <td>3.0</td>\n",
              "      <td>1.470000</td>\n",
              "      <td>3.0</td>\n",
              "      <td>0.000000</td>\n",
              "      <td>4.410000</td>\n",
              "      <td>174.150000</td>\n",
              "      <td>0.040000</td>\n",
              "      <td>233.160000</td>\n",
              "      <td>0.550000</td>\n",
              "      <td>0.000000</td>\n",
              "    </tr>\n",
              "    <tr>\n",
              "      <th>25%</th>\n",
              "      <td>24999.750000</td>\n",
              "      <td>2.737015e+07</td>\n",
              "      <td>NaN</td>\n",
              "      <td>8000.000000</td>\n",
              "      <td>8000.000000</td>\n",
              "      <td>8000.000000</td>\n",
              "      <td>10.150000</td>\n",
              "      <td>261.640000</td>\n",
              "      <td>4.500000e+04</td>\n",
              "      <td>12.320000</td>\n",
              "      <td>...</td>\n",
              "      <td>3.0</td>\n",
              "      <td>23.760000</td>\n",
              "      <td>3.0</td>\n",
              "      <td>7.000000</td>\n",
              "      <td>63.885000</td>\n",
              "      <td>2465.360000</td>\n",
              "      <td>27.610000</td>\n",
              "      <td>1951.125000</td>\n",
              "      <td>45.000000</td>\n",
              "      <td>0.000000</td>\n",
              "    </tr>\n",
              "    <tr>\n",
              "      <th>50%</th>\n",
              "      <td>49999.500000</td>\n",
              "      <td>3.052556e+07</td>\n",
              "      <td>NaN</td>\n",
              "      <td>13050.000000</td>\n",
              "      <td>13050.000000</td>\n",
              "      <td>13050.000000</td>\n",
              "      <td>12.990000</td>\n",
              "      <td>380.180000</td>\n",
              "      <td>6.400000e+04</td>\n",
              "      <td>18.210000</td>\n",
              "      <td>...</td>\n",
              "      <td>3.0</td>\n",
              "      <td>96.580000</td>\n",
              "      <td>3.0</td>\n",
              "      <td>15.000000</td>\n",
              "      <td>281.580000</td>\n",
              "      <td>8049.850000</td>\n",
              "      <td>172.460000</td>\n",
              "      <td>3881.120000</td>\n",
              "      <td>45.040000</td>\n",
              "      <td>6.000000</td>\n",
              "    </tr>\n",
              "    <tr>\n",
              "      <th>75%</th>\n",
              "      <td>74999.250000</td>\n",
              "      <td>3.438201e+07</td>\n",
              "      <td>NaN</td>\n",
              "      <td>20000.000000</td>\n",
              "      <td>20000.000000</td>\n",
              "      <td>20000.000000</td>\n",
              "      <td>15.610000</td>\n",
              "      <td>573.320000</td>\n",
              "      <td>9.000000e+04</td>\n",
              "      <td>24.760000</td>\n",
              "      <td>...</td>\n",
              "      <td>3.0</td>\n",
              "      <td>164.750000</td>\n",
              "      <td>3.0</td>\n",
              "      <td>22.000000</td>\n",
              "      <td>481.492500</td>\n",
              "      <td>11968.940000</td>\n",
              "      <td>285.890000</td>\n",
              "      <td>6503.000000</td>\n",
              "      <td>50.000000</td>\n",
              "      <td>14.000000</td>\n",
              "    </tr>\n",
              "    <tr>\n",
              "      <th>max</th>\n",
              "      <td>99999.000000</td>\n",
              "      <td>3.809811e+07</td>\n",
              "      <td>NaN</td>\n",
              "      <td>35000.000000</td>\n",
              "      <td>35000.000000</td>\n",
              "      <td>35000.000000</td>\n",
              "      <td>26.060000</td>\n",
              "      <td>1408.130000</td>\n",
              "      <td>7.500000e+06</td>\n",
              "      <td>39.990000</td>\n",
              "      <td>...</td>\n",
              "      <td>3.0</td>\n",
              "      <td>382.340000</td>\n",
              "      <td>3.0</td>\n",
              "      <td>32.000000</td>\n",
              "      <td>1147.020000</td>\n",
              "      <td>21750.750000</td>\n",
              "      <td>757.420000</td>\n",
              "      <td>26751.740000</td>\n",
              "      <td>100.000000</td>\n",
              "      <td>36.000000</td>\n",
              "    </tr>\n",
              "  </tbody>\n",
              "</table>\n",
              "<p>8 rows × 117 columns</p>\n",
              "</div>\n",
              "      <button class=\"colab-df-convert\" onclick=\"convertToInteractive('df-48a4403a-45ce-4dfd-abb7-036fd62a39f6')\"\n",
              "              title=\"Convert this dataframe to an interactive table.\"\n",
              "              style=\"display:none;\">\n",
              "        \n",
              "  <svg xmlns=\"http://www.w3.org/2000/svg\" height=\"24px\"viewBox=\"0 0 24 24\"\n",
              "       width=\"24px\">\n",
              "    <path d=\"M0 0h24v24H0V0z\" fill=\"none\"/>\n",
              "    <path d=\"M18.56 5.44l.94 2.06.94-2.06 2.06-.94-2.06-.94-.94-2.06-.94 2.06-2.06.94zm-11 1L8.5 8.5l.94-2.06 2.06-.94-2.06-.94L8.5 2.5l-.94 2.06-2.06.94zm10 10l.94 2.06.94-2.06 2.06-.94-2.06-.94-.94-2.06-.94 2.06-2.06.94z\"/><path d=\"M17.41 7.96l-1.37-1.37c-.4-.4-.92-.59-1.43-.59-.52 0-1.04.2-1.43.59L10.3 9.45l-7.72 7.72c-.78.78-.78 2.05 0 2.83L4 21.41c.39.39.9.59 1.41.59.51 0 1.02-.2 1.41-.59l7.78-7.78 2.81-2.81c.8-.78.8-2.07 0-2.86zM5.41 20L4 18.59l7.72-7.72 1.47 1.35L5.41 20z\"/>\n",
              "  </svg>\n",
              "      </button>\n",
              "      \n",
              "  <style>\n",
              "    .colab-df-container {\n",
              "      display:flex;\n",
              "      flex-wrap:wrap;\n",
              "      gap: 12px;\n",
              "    }\n",
              "\n",
              "    .colab-df-convert {\n",
              "      background-color: #E8F0FE;\n",
              "      border: none;\n",
              "      border-radius: 50%;\n",
              "      cursor: pointer;\n",
              "      display: none;\n",
              "      fill: #1967D2;\n",
              "      height: 32px;\n",
              "      padding: 0 0 0 0;\n",
              "      width: 32px;\n",
              "    }\n",
              "\n",
              "    .colab-df-convert:hover {\n",
              "      background-color: #E2EBFA;\n",
              "      box-shadow: 0px 1px 2px rgba(60, 64, 67, 0.3), 0px 1px 3px 1px rgba(60, 64, 67, 0.15);\n",
              "      fill: #174EA6;\n",
              "    }\n",
              "\n",
              "    [theme=dark] .colab-df-convert {\n",
              "      background-color: #3B4455;\n",
              "      fill: #D2E3FC;\n",
              "    }\n",
              "\n",
              "    [theme=dark] .colab-df-convert:hover {\n",
              "      background-color: #434B5C;\n",
              "      box-shadow: 0px 1px 3px 1px rgba(0, 0, 0, 0.15);\n",
              "      filter: drop-shadow(0px 1px 2px rgba(0, 0, 0, 0.3));\n",
              "      fill: #FFFFFF;\n",
              "    }\n",
              "  </style>\n",
              "\n",
              "      <script>\n",
              "        const buttonEl =\n",
              "          document.querySelector('#df-48a4403a-45ce-4dfd-abb7-036fd62a39f6 button.colab-df-convert');\n",
              "        buttonEl.style.display =\n",
              "          google.colab.kernel.accessAllowed ? 'block' : 'none';\n",
              "\n",
              "        async function convertToInteractive(key) {\n",
              "          const element = document.querySelector('#df-48a4403a-45ce-4dfd-abb7-036fd62a39f6');\n",
              "          const dataTable =\n",
              "            await google.colab.kernel.invokeFunction('convertToInteractive',\n",
              "                                                     [key], {});\n",
              "          if (!dataTable) return;\n",
              "\n",
              "          const docLinkHtml = 'Like what you see? Visit the ' +\n",
              "            '<a target=\"_blank\" href=https://colab.research.google.com/notebooks/data_table.ipynb>data table notebook</a>'\n",
              "            + ' to learn more about interactive tables.';\n",
              "          element.innerHTML = '';\n",
              "          dataTable['output_type'] = 'display_data';\n",
              "          await google.colab.output.renderOutput(dataTable, element);\n",
              "          const docLink = document.createElement('div');\n",
              "          docLink.innerHTML = docLinkHtml;\n",
              "          element.appendChild(docLink);\n",
              "        }\n",
              "      </script>\n",
              "    </div>\n",
              "  </div>\n",
              "  "
            ]
          },
          "metadata": {},
          "execution_count": 8
        }
      ]
    },
    {
      "cell_type": "markdown",
      "source": [
        "### 3. Data Preparation and Feature Selection\n",
        "\n",
        "##### 3.1 Preparing the predicted variable"
      ],
      "metadata": {
        "id": "i4r0tJGH5Z7V"
      }
    },
    {
      "cell_type": "code",
      "source": [
        "dataset['loan_status'].value_counts(dropna=False)"
      ],
      "metadata": {
        "colab": {
          "base_uri": "https://localhost:8080/"
        },
        "id": "DQWqz0bm5jvP",
        "outputId": "94bdafa1-0b47-48e1-b29a-93e84ba27abc"
      },
      "execution_count": 9,
      "outputs": [
        {
          "output_type": "execute_result",
          "data": {
            "text/plain": [
              "Fully Paid            69982\n",
              "Charged Off           16156\n",
              "Current               12726\n",
              "Late (31-120 days)      730\n",
              "In Grace Period         264\n",
              "Late (16-30 days)       139\n",
              "Default                   3\n",
              "Name: loan_status, dtype: int64"
            ]
          },
          "metadata": {},
          "execution_count": 9
        }
      ]
    },
    {
      "cell_type": "code",
      "source": [
        "dataset = dataset.loc[dataset['loan_status'].isin(['Fully Paid', 'Charged Off'])]"
      ],
      "metadata": {
        "id": "oKEY2VRt5yWq"
      },
      "execution_count": 10,
      "outputs": []
    },
    {
      "cell_type": "code",
      "source": [
        "dataset['loan_status'].value_counts(dropna=False)"
      ],
      "metadata": {
        "colab": {
          "base_uri": "https://localhost:8080/"
        },
        "id": "fwjPEQT46sN-",
        "outputId": "24bbb011-d247-4552-bdf9-e3b211f47435"
      },
      "execution_count": 11,
      "outputs": [
        {
          "output_type": "execute_result",
          "data": {
            "text/plain": [
              "Fully Paid     69982\n",
              "Charged Off    16156\n",
              "Name: loan_status, dtype: int64"
            ]
          },
          "metadata": {},
          "execution_count": 11
        }
      ]
    },
    {
      "cell_type": "code",
      "source": [
        "dataset['loan_status'].value_counts(normalize=True, dropna=False)"
      ],
      "metadata": {
        "colab": {
          "base_uri": "https://localhost:8080/"
        },
        "id": "DqiH5Y9i6422",
        "outputId": "4f463f58-b47f-4446-aded-d2794bef6d5b"
      },
      "execution_count": 12,
      "outputs": [
        {
          "output_type": "execute_result",
          "data": {
            "text/plain": [
              "Fully Paid     0.812441\n",
              "Charged Off    0.187559\n",
              "Name: loan_status, dtype: float64"
            ]
          },
          "metadata": {},
          "execution_count": 12
        }
      ]
    },
    {
      "cell_type": "code",
      "source": [
        "dataset['charged_off'] = (dataset['loan_status'] == 'Charged Off').apply(np.uint8)\n",
        "dataset.drop('loan_status', axis=1, inplace=True)"
      ],
      "metadata": {
        "id": "i_0BDCEV7PGd"
      },
      "execution_count": 13,
      "outputs": []
    },
    {
      "cell_type": "code",
      "source": [
        "dataset['charged_off'].value_counts(normalize=True, dropna=False)"
      ],
      "metadata": {
        "colab": {
          "base_uri": "https://localhost:8080/"
        },
        "id": "yuY3Lwdf9HFv",
        "outputId": "bdd6ea5a-106e-4461-c02d-e2a75c4ab773"
      },
      "execution_count": 14,
      "outputs": [
        {
          "output_type": "execute_result",
          "data": {
            "text/plain": [
              "0    0.812441\n",
              "1    0.187559\n",
              "Name: charged_off, dtype: float64"
            ]
          },
          "metadata": {},
          "execution_count": 14
        }
      ]
    },
    {
      "cell_type": "markdown",
      "source": [
        "### 3.2.1 Features elimination by significant mising values"
      ],
      "metadata": {
        "id": "InLrmlci-VBd"
      }
    },
    {
      "cell_type": "code",
      "source": [
        "missing_fractions = dataset.isnull().mean().sort_values(ascending=False)"
      ],
      "metadata": {
        "id": "IJ4PB-fQ-aqK"
      },
      "execution_count": 15,
      "outputs": []
    },
    {
      "cell_type": "code",
      "source": [
        "missing_fractions.head(10)"
      ],
      "metadata": {
        "colab": {
          "base_uri": "https://localhost:8080/"
        },
        "id": "BVM85cHq-lbi",
        "outputId": "66b629d4-a055-4e10-c2be-1572dddd2389"
      },
      "execution_count": 16,
      "outputs": [
        {
          "output_type": "execute_result",
          "data": {
            "text/plain": [
              "total_cu_tl                            1.0\n",
              "annual_inc_joint                       1.0\n",
              "sec_app_mths_since_last_major_derog    1.0\n",
              "sec_app_collections_12_mths_ex_med     1.0\n",
              "sec_app_chargeoff_within_12_mths       1.0\n",
              "open_rv_12m                            1.0\n",
              "sec_app_num_rev_accts                  1.0\n",
              "sec_app_open_act_il                    1.0\n",
              "sec_app_revol_util                     1.0\n",
              "sec_app_open_acc                       1.0\n",
              "dtype: float64"
            ]
          },
          "metadata": {},
          "execution_count": 16
        }
      ]
    },
    {
      "cell_type": "code",
      "source": [
        "drop_list = sorted(list(missing_fractions[missing_fractions > 0.3].index))"
      ],
      "metadata": {
        "id": "8IdbljwJ_Dld"
      },
      "execution_count": 17,
      "outputs": []
    },
    {
      "cell_type": "code",
      "source": [
        "drop_list"
      ],
      "metadata": {
        "colab": {
          "base_uri": "https://localhost:8080/"
        },
        "id": "RDPguHoM_b-B",
        "outputId": "1d8b4f3a-164b-440e-dfad-25b51740c832"
      },
      "execution_count": 18,
      "outputs": [
        {
          "output_type": "execute_result",
          "data": {
            "text/plain": [
              "['all_util',\n",
              " 'annual_inc_joint',\n",
              " 'debt_settlement_flag_date',\n",
              " 'deferral_term',\n",
              " 'desc',\n",
              " 'dti_joint',\n",
              " 'hardship_amount',\n",
              " 'hardship_dpd',\n",
              " 'hardship_end_date',\n",
              " 'hardship_last_payment_amount',\n",
              " 'hardship_length',\n",
              " 'hardship_loan_status',\n",
              " 'hardship_payoff_balance_amount',\n",
              " 'hardship_reason',\n",
              " 'hardship_start_date',\n",
              " 'hardship_status',\n",
              " 'hardship_type',\n",
              " 'il_util',\n",
              " 'inq_fi',\n",
              " 'inq_last_12m',\n",
              " 'max_bal_bc',\n",
              " 'member_id',\n",
              " 'mths_since_last_delinq',\n",
              " 'mths_since_last_major_derog',\n",
              " 'mths_since_last_record',\n",
              " 'mths_since_rcnt_il',\n",
              " 'mths_since_recent_bc_dlq',\n",
              " 'mths_since_recent_revol_delinq',\n",
              " 'next_pymnt_d',\n",
              " 'open_acc_6m',\n",
              " 'open_act_il',\n",
              " 'open_il_12m',\n",
              " 'open_il_24m',\n",
              " 'open_rv_12m',\n",
              " 'open_rv_24m',\n",
              " 'orig_projected_additional_accrued_interest',\n",
              " 'payment_plan_start_date',\n",
              " 'revol_bal_joint',\n",
              " 'sec_app_chargeoff_within_12_mths',\n",
              " 'sec_app_collections_12_mths_ex_med',\n",
              " 'sec_app_earliest_cr_line',\n",
              " 'sec_app_fico_range_high',\n",
              " 'sec_app_fico_range_low',\n",
              " 'sec_app_inq_last_6mths',\n",
              " 'sec_app_mort_acc',\n",
              " 'sec_app_mths_since_last_major_derog',\n",
              " 'sec_app_num_rev_accts',\n",
              " 'sec_app_open_acc',\n",
              " 'sec_app_open_act_il',\n",
              " 'sec_app_revol_util',\n",
              " 'settlement_amount',\n",
              " 'settlement_date',\n",
              " 'settlement_percentage',\n",
              " 'settlement_status',\n",
              " 'settlement_term',\n",
              " 'total_bal_il',\n",
              " 'total_cu_tl',\n",
              " 'verification_status_joint']"
            ]
          },
          "metadata": {},
          "execution_count": 18
        }
      ]
    },
    {
      "cell_type": "code",
      "source": [
        "len(drop_list)"
      ],
      "metadata": {
        "colab": {
          "base_uri": "https://localhost:8080/"
        },
        "id": "fD9ogIoD_c63",
        "outputId": "b0e39180-0a6c-492a-bb46-cc826d66c839"
      },
      "execution_count": 19,
      "outputs": [
        {
          "output_type": "execute_result",
          "data": {
            "text/plain": [
              "58"
            ]
          },
          "metadata": {},
          "execution_count": 19
        }
      ]
    },
    {
      "cell_type": "code",
      "source": [
        "dataset.drop(labels=drop_list, axis=1, inplace=True)"
      ],
      "metadata": {
        "id": "mhffTDwj_kqE"
      },
      "execution_count": 20,
      "outputs": []
    },
    {
      "cell_type": "code",
      "source": [
        "dataset.shape"
      ],
      "metadata": {
        "colab": {
          "base_uri": "https://localhost:8080/"
        },
        "id": "dmOx79_I_tsT",
        "outputId": "fabd4d6e-57be-4d24-b156-06efcf79174e"
      },
      "execution_count": 21,
      "outputs": [
        {
          "output_type": "execute_result",
          "data": {
            "text/plain": [
              "(86138, 93)"
            ]
          },
          "metadata": {},
          "execution_count": 21
        }
      ]
    },
    {
      "cell_type": "markdown",
      "source": [
        "### 3.2.2. Features elimination based on the intuitiveness"
      ],
      "metadata": {
        "id": "3743g0eG_OkJ"
      }
    },
    {
      "cell_type": "code",
      "source": [
        "sorted(dataset.columns)"
      ],
      "metadata": {
        "id": "wQCakVz-_aFq",
        "outputId": "c2877149-deaf-4530-c2af-335eafdeb1f5",
        "colab": {
          "base_uri": "https://localhost:8080/"
        }
      },
      "execution_count": 22,
      "outputs": [
        {
          "output_type": "execute_result",
          "data": {
            "text/plain": [
              "['Unnamed: 0',\n",
              " 'acc_now_delinq',\n",
              " 'acc_open_past_24mths',\n",
              " 'addr_state',\n",
              " 'annual_inc',\n",
              " 'application_type',\n",
              " 'avg_cur_bal',\n",
              " 'bc_open_to_buy',\n",
              " 'bc_util',\n",
              " 'charged_off',\n",
              " 'chargeoff_within_12_mths',\n",
              " 'collection_recovery_fee',\n",
              " 'collections_12_mths_ex_med',\n",
              " 'debt_settlement_flag',\n",
              " 'delinq_2yrs',\n",
              " 'delinq_amnt',\n",
              " 'disbursement_method',\n",
              " 'dti',\n",
              " 'earliest_cr_line',\n",
              " 'emp_length',\n",
              " 'emp_title',\n",
              " 'fico_range_high',\n",
              " 'fico_range_low',\n",
              " 'funded_amnt',\n",
              " 'funded_amnt_inv',\n",
              " 'grade',\n",
              " 'hardship_flag',\n",
              " 'home_ownership',\n",
              " 'id',\n",
              " 'initial_list_status',\n",
              " 'inq_last_6mths',\n",
              " 'installment',\n",
              " 'int_rate',\n",
              " 'issue_d',\n",
              " 'last_credit_pull_d',\n",
              " 'last_fico_range_high',\n",
              " 'last_fico_range_low',\n",
              " 'last_pymnt_amnt',\n",
              " 'last_pymnt_d',\n",
              " 'loan_amnt',\n",
              " 'mo_sin_old_il_acct',\n",
              " 'mo_sin_old_rev_tl_op',\n",
              " 'mo_sin_rcnt_rev_tl_op',\n",
              " 'mo_sin_rcnt_tl',\n",
              " 'mort_acc',\n",
              " 'mths_since_recent_bc',\n",
              " 'mths_since_recent_inq',\n",
              " 'num_accts_ever_120_pd',\n",
              " 'num_actv_bc_tl',\n",
              " 'num_actv_rev_tl',\n",
              " 'num_bc_sats',\n",
              " 'num_bc_tl',\n",
              " 'num_il_tl',\n",
              " 'num_op_rev_tl',\n",
              " 'num_rev_accts',\n",
              " 'num_rev_tl_bal_gt_0',\n",
              " 'num_sats',\n",
              " 'num_tl_120dpd_2m',\n",
              " 'num_tl_30dpd',\n",
              " 'num_tl_90g_dpd_24m',\n",
              " 'num_tl_op_past_12m',\n",
              " 'open_acc',\n",
              " 'out_prncp',\n",
              " 'out_prncp_inv',\n",
              " 'pct_tl_nvr_dlq',\n",
              " 'percent_bc_gt_75',\n",
              " 'policy_code',\n",
              " 'pub_rec',\n",
              " 'pub_rec_bankruptcies',\n",
              " 'purpose',\n",
              " 'pymnt_plan',\n",
              " 'recoveries',\n",
              " 'revol_bal',\n",
              " 'revol_util',\n",
              " 'sub_grade',\n",
              " 'tax_liens',\n",
              " 'term',\n",
              " 'title',\n",
              " 'tot_coll_amt',\n",
              " 'tot_cur_bal',\n",
              " 'tot_hi_cred_lim',\n",
              " 'total_acc',\n",
              " 'total_bal_ex_mort',\n",
              " 'total_bc_limit',\n",
              " 'total_il_high_credit_limit',\n",
              " 'total_pymnt',\n",
              " 'total_pymnt_inv',\n",
              " 'total_rec_int',\n",
              " 'total_rec_late_fee',\n",
              " 'total_rec_prncp',\n",
              " 'total_rev_hi_lim',\n",
              " 'verification_status',\n",
              " 'zip_code']"
            ]
          },
          "metadata": {},
          "execution_count": 22
        }
      ]
    },
    {
      "cell_type": "code",
      "source": [
        "keep_list = ['charged_off','funded_amnt','addr_state', 'annual_inc', 'application_type', 'dti', 'earliest_cr_line', 'emp_length', 'emp_title', 'fico_range_high', 'fico_range_low', 'grade', 'home_ownership', 'id', 'initial_list_status', 'installment', 'int_rate', 'loan_amnt', 'loan_status', 'mort_acc', 'open_acc', 'pub_rec', 'pub_rec_bankruptcies', 'purpose', 'revol_bal', 'revol_util', 'sub_grade', 'term', 'title', 'total_acc', 'verification_status', 'zip_code','last_pymnt_amnt','num_actv_rev_tl', 'mo_sin_rcnt_rev_tl_op','mo_sin_old_rev_tl_op',\"bc_util\",\"bc_open_to_buy\",\"avg_cur_bal\",\"acc_open_past_24mths\" ]\n",
        "\n",
        "len(keep_list)"
      ],
      "metadata": {
        "colab": {
          "base_uri": "https://localhost:8080/"
        },
        "id": "Vro0tGBf_rFK",
        "outputId": "aedd576a-fab3-4ea1-cb17-3e7817fa247c"
      },
      "execution_count": 23,
      "outputs": [
        {
          "output_type": "execute_result",
          "data": {
            "text/plain": [
              "40"
            ]
          },
          "metadata": {},
          "execution_count": 23
        }
      ]
    },
    {
      "cell_type": "code",
      "source": [
        "drop_list = [col for col in dataset.columns if col not in keep_list]\n",
        "\n",
        "dataset.drop(labels=drop_list, axis=1, inplace=True)"
      ],
      "metadata": {
        "id": "O3HuM3TDAYJB"
      },
      "execution_count": 24,
      "outputs": []
    },
    {
      "cell_type": "code",
      "source": [
        "dataset.shape"
      ],
      "metadata": {
        "colab": {
          "base_uri": "https://localhost:8080/"
        },
        "id": "Ihj8DCxQAtnW",
        "outputId": "21dd2470-b430-4b6d-ad85-7a0735783684"
      },
      "execution_count": 25,
      "outputs": [
        {
          "output_type": "execute_result",
          "data": {
            "text/plain": [
              "(86138, 39)"
            ]
          },
          "metadata": {},
          "execution_count": 25
        }
      ]
    },
    {
      "cell_type": "markdown",
      "source": [
        "### 3.2.2. Features elimination based on correlation"
      ],
      "metadata": {
        "id": "j-SWDQgBB5bd"
      }
    },
    {
      "cell_type": "code",
      "source": [
        "correlation = dataset.corr()\n",
        "correlation_chargeOff = abs(correlation['charged_off'])"
      ],
      "metadata": {
        "id": "utibqM27B7O9"
      },
      "execution_count": 26,
      "outputs": []
    },
    {
      "cell_type": "code",
      "source": [
        "correlation_chargeOff.sort_values(ascending=False)"
      ],
      "metadata": {
        "colab": {
          "base_uri": "https://localhost:8080/"
        },
        "id": "mNKUoTMtCYSU",
        "outputId": "d468541e-bbbb-460d-d3e8-23fa25539360"
      },
      "execution_count": 27,
      "outputs": [
        {
          "output_type": "execute_result",
          "data": {
            "text/plain": [
              "charged_off              1.000000\n",
              "last_pymnt_amnt          0.319081\n",
              "int_rate                 0.282825\n",
              "dti                      0.123108\n",
              "fico_range_low           0.121892\n",
              "fico_range_high          0.121891\n",
              "acc_open_past_24mths     0.105989\n",
              "bc_open_to_buy           0.080077\n",
              "bc_util                  0.077744\n",
              "avg_cur_bal              0.071977\n",
              "num_actv_rev_tl          0.071185\n",
              "revol_util               0.066188\n",
              "loan_amnt                0.060818\n",
              "funded_amnt              0.060818\n",
              "mort_acc                 0.057858\n",
              "annual_inc               0.050349\n",
              "mo_sin_old_rev_tl_op     0.049426\n",
              "mo_sin_rcnt_rev_tl_op    0.048839\n",
              "open_acc                 0.039430\n",
              "installment              0.032847\n",
              "revol_bal                0.021714\n",
              "pub_rec                  0.016023\n",
              "pub_rec_bankruptcies     0.015815\n",
              "total_acc                0.005804\n",
              "id                       0.002221\n",
              "Name: charged_off, dtype: float64"
            ]
          },
          "metadata": {},
          "execution_count": 27
        }
      ]
    },
    {
      "cell_type": "code",
      "source": [
        "drop_list_corr = sorted(list(correlation_chargeOff[correlation_chargeOff < 0.03].index))"
      ],
      "metadata": {
        "id": "vfayK_O9CcCr"
      },
      "execution_count": 28,
      "outputs": []
    },
    {
      "cell_type": "code",
      "source": [
        "drop_list_corr"
      ],
      "metadata": {
        "colab": {
          "base_uri": "https://localhost:8080/"
        },
        "id": "YHaqvdIUDFsu",
        "outputId": "8dcae899-5d81-49e0-d86d-ecc2465c870a"
      },
      "execution_count": 29,
      "outputs": [
        {
          "output_type": "execute_result",
          "data": {
            "text/plain": [
              "['id', 'pub_rec', 'pub_rec_bankruptcies', 'revol_bal', 'total_acc']"
            ]
          },
          "metadata": {},
          "execution_count": 29
        }
      ]
    },
    {
      "cell_type": "code",
      "source": [
        "dataset.drop(labels=drop_list_corr, axis=1, inplace=True)\n",
        "dataset.shape"
      ],
      "metadata": {
        "colab": {
          "base_uri": "https://localhost:8080/"
        },
        "id": "9h1hkgxkDHh_",
        "outputId": "025966fd-7375-4fe4-d88c-2a8e4b448b06"
      },
      "execution_count": 30,
      "outputs": [
        {
          "output_type": "execute_result",
          "data": {
            "text/plain": [
              "(86138, 34)"
            ]
          },
          "metadata": {},
          "execution_count": 30
        }
      ]
    },
    {
      "cell_type": "markdown",
      "source": [
        "### 4. Feature Engineering and Exploratory Analysis"
      ],
      "metadata": {
        "id": "atEYqOYLDxsD"
      }
    },
    {
      "cell_type": "code",
      "source": [
        "dataset.describe()"
      ],
      "metadata": {
        "colab": {
          "base_uri": "https://localhost:8080/",
          "height": 0
        },
        "id": "1VdfVCOID348",
        "outputId": "1422b627-25fb-4956-8dd8-80670461a6df"
      },
      "execution_count": 31,
      "outputs": [
        {
          "output_type": "execute_result",
          "data": {
            "text/plain": [
              "          loan_amnt   funded_amnt      int_rate   installment    annual_inc  \\\n",
              "count  86138.000000  86138.000000  86138.000000  86138.000000  8.613800e+04   \n",
              "mean   14106.526446  14106.526446     13.002360    430.737187  7.384311e+04   \n",
              "std     8391.139221   8391.139221      4.397419    251.653139  5.929352e+04   \n",
              "min     1000.000000   1000.000000      6.000000     30.420000  4.000000e+03   \n",
              "25%     7800.000000   7800.000000      9.490000    248.480000  4.500000e+04   \n",
              "50%    12000.000000  12000.000000     12.990000    370.480000  6.247372e+04   \n",
              "75%    20000.000000  20000.000000     15.610000    568.005000  9.000000e+04   \n",
              "max    35000.000000  35000.000000     26.060000   1408.130000  7.500000e+06   \n",
              "\n",
              "                dti  fico_range_low  fico_range_high      open_acc  \\\n",
              "count  86138.000000    86138.000000     86138.000000  86138.000000   \n",
              "mean      18.532747      692.462966       696.463024     11.746453   \n",
              "std        8.538247       29.731549        29.731848      5.433122   \n",
              "min        0.000000      660.000000       664.000000      1.000000   \n",
              "25%       12.070000      670.000000       674.000000      8.000000   \n",
              "50%       17.950000      685.000000       689.000000     11.000000   \n",
              "75%       24.500000      705.000000       709.000000     14.000000   \n",
              "max       39.990000      845.000000       850.000000     84.000000   \n",
              "\n",
              "         revol_util  last_pymnt_amnt  acc_open_past_24mths    avg_cur_bal  \\\n",
              "count  86094.000000     86138.000000          86138.000000   86138.000000   \n",
              "mean      54.582777      4757.453184              4.594732   13066.638371   \n",
              "std       23.515901      6466.767327              3.070996   16232.739293   \n",
              "min        0.000000         0.000000              0.000000       0.000000   \n",
              "25%       37.200000       358.522500              2.000000    3010.000000   \n",
              "50%       54.900000      1241.230000              4.000000    6994.500000   \n",
              "75%       72.500000      7303.205000              6.000000   17905.000000   \n",
              "max      180.300000     36234.440000             53.000000  447433.000000   \n",
              "\n",
              "       bc_open_to_buy       bc_util  mo_sin_old_rev_tl_op  \\\n",
              "count    85142.000000  85089.000000          86138.000000   \n",
              "mean      8942.506507     63.808959            183.524333   \n",
              "std      14100.186250     27.051347             93.266430   \n",
              "min          0.000000      0.000000              3.000000   \n",
              "25%       1087.000000     44.100000            118.000000   \n",
              "50%       3823.000000     67.700000            167.000000   \n",
              "75%      10588.000000     87.500000            232.000000   \n",
              "max     249625.000000    255.200000            718.000000   \n",
              "\n",
              "       mo_sin_rcnt_rev_tl_op      mort_acc  num_actv_rev_tl   charged_off  \n",
              "count           86138.000000  86138.000000     86138.000000  86138.000000  \n",
              "mean               12.796896      1.748880         5.762358      0.187559  \n",
              "std                16.224586      2.091488         3.224598      0.390362  \n",
              "min                 0.000000      0.000000         0.000000      0.000000  \n",
              "25%                 3.000000      0.000000         3.000000      0.000000  \n",
              "50%                 8.000000      1.000000         5.000000      0.000000  \n",
              "75%                15.000000      3.000000         7.000000      0.000000  \n",
              "max               372.000000     34.000000        38.000000      1.000000  "
            ],
            "text/html": [
              "\n",
              "  <div id=\"df-9114813a-8bb5-4a44-856b-b64e117b6543\">\n",
              "    <div class=\"colab-df-container\">\n",
              "      <div>\n",
              "<style scoped>\n",
              "    .dataframe tbody tr th:only-of-type {\n",
              "        vertical-align: middle;\n",
              "    }\n",
              "\n",
              "    .dataframe tbody tr th {\n",
              "        vertical-align: top;\n",
              "    }\n",
              "\n",
              "    .dataframe thead th {\n",
              "        text-align: right;\n",
              "    }\n",
              "</style>\n",
              "<table border=\"1\" class=\"dataframe\">\n",
              "  <thead>\n",
              "    <tr style=\"text-align: right;\">\n",
              "      <th></th>\n",
              "      <th>loan_amnt</th>\n",
              "      <th>funded_amnt</th>\n",
              "      <th>int_rate</th>\n",
              "      <th>installment</th>\n",
              "      <th>annual_inc</th>\n",
              "      <th>dti</th>\n",
              "      <th>fico_range_low</th>\n",
              "      <th>fico_range_high</th>\n",
              "      <th>open_acc</th>\n",
              "      <th>revol_util</th>\n",
              "      <th>last_pymnt_amnt</th>\n",
              "      <th>acc_open_past_24mths</th>\n",
              "      <th>avg_cur_bal</th>\n",
              "      <th>bc_open_to_buy</th>\n",
              "      <th>bc_util</th>\n",
              "      <th>mo_sin_old_rev_tl_op</th>\n",
              "      <th>mo_sin_rcnt_rev_tl_op</th>\n",
              "      <th>mort_acc</th>\n",
              "      <th>num_actv_rev_tl</th>\n",
              "      <th>charged_off</th>\n",
              "    </tr>\n",
              "  </thead>\n",
              "  <tbody>\n",
              "    <tr>\n",
              "      <th>count</th>\n",
              "      <td>86138.000000</td>\n",
              "      <td>86138.000000</td>\n",
              "      <td>86138.000000</td>\n",
              "      <td>86138.000000</td>\n",
              "      <td>8.613800e+04</td>\n",
              "      <td>86138.000000</td>\n",
              "      <td>86138.000000</td>\n",
              "      <td>86138.000000</td>\n",
              "      <td>86138.000000</td>\n",
              "      <td>86094.000000</td>\n",
              "      <td>86138.000000</td>\n",
              "      <td>86138.000000</td>\n",
              "      <td>86138.000000</td>\n",
              "      <td>85142.000000</td>\n",
              "      <td>85089.000000</td>\n",
              "      <td>86138.000000</td>\n",
              "      <td>86138.000000</td>\n",
              "      <td>86138.000000</td>\n",
              "      <td>86138.000000</td>\n",
              "      <td>86138.000000</td>\n",
              "    </tr>\n",
              "    <tr>\n",
              "      <th>mean</th>\n",
              "      <td>14106.526446</td>\n",
              "      <td>14106.526446</td>\n",
              "      <td>13.002360</td>\n",
              "      <td>430.737187</td>\n",
              "      <td>7.384311e+04</td>\n",
              "      <td>18.532747</td>\n",
              "      <td>692.462966</td>\n",
              "      <td>696.463024</td>\n",
              "      <td>11.746453</td>\n",
              "      <td>54.582777</td>\n",
              "      <td>4757.453184</td>\n",
              "      <td>4.594732</td>\n",
              "      <td>13066.638371</td>\n",
              "      <td>8942.506507</td>\n",
              "      <td>63.808959</td>\n",
              "      <td>183.524333</td>\n",
              "      <td>12.796896</td>\n",
              "      <td>1.748880</td>\n",
              "      <td>5.762358</td>\n",
              "      <td>0.187559</td>\n",
              "    </tr>\n",
              "    <tr>\n",
              "      <th>std</th>\n",
              "      <td>8391.139221</td>\n",
              "      <td>8391.139221</td>\n",
              "      <td>4.397419</td>\n",
              "      <td>251.653139</td>\n",
              "      <td>5.929352e+04</td>\n",
              "      <td>8.538247</td>\n",
              "      <td>29.731549</td>\n",
              "      <td>29.731848</td>\n",
              "      <td>5.433122</td>\n",
              "      <td>23.515901</td>\n",
              "      <td>6466.767327</td>\n",
              "      <td>3.070996</td>\n",
              "      <td>16232.739293</td>\n",
              "      <td>14100.186250</td>\n",
              "      <td>27.051347</td>\n",
              "      <td>93.266430</td>\n",
              "      <td>16.224586</td>\n",
              "      <td>2.091488</td>\n",
              "      <td>3.224598</td>\n",
              "      <td>0.390362</td>\n",
              "    </tr>\n",
              "    <tr>\n",
              "      <th>min</th>\n",
              "      <td>1000.000000</td>\n",
              "      <td>1000.000000</td>\n",
              "      <td>6.000000</td>\n",
              "      <td>30.420000</td>\n",
              "      <td>4.000000e+03</td>\n",
              "      <td>0.000000</td>\n",
              "      <td>660.000000</td>\n",
              "      <td>664.000000</td>\n",
              "      <td>1.000000</td>\n",
              "      <td>0.000000</td>\n",
              "      <td>0.000000</td>\n",
              "      <td>0.000000</td>\n",
              "      <td>0.000000</td>\n",
              "      <td>0.000000</td>\n",
              "      <td>0.000000</td>\n",
              "      <td>3.000000</td>\n",
              "      <td>0.000000</td>\n",
              "      <td>0.000000</td>\n",
              "      <td>0.000000</td>\n",
              "      <td>0.000000</td>\n",
              "    </tr>\n",
              "    <tr>\n",
              "      <th>25%</th>\n",
              "      <td>7800.000000</td>\n",
              "      <td>7800.000000</td>\n",
              "      <td>9.490000</td>\n",
              "      <td>248.480000</td>\n",
              "      <td>4.500000e+04</td>\n",
              "      <td>12.070000</td>\n",
              "      <td>670.000000</td>\n",
              "      <td>674.000000</td>\n",
              "      <td>8.000000</td>\n",
              "      <td>37.200000</td>\n",
              "      <td>358.522500</td>\n",
              "      <td>2.000000</td>\n",
              "      <td>3010.000000</td>\n",
              "      <td>1087.000000</td>\n",
              "      <td>44.100000</td>\n",
              "      <td>118.000000</td>\n",
              "      <td>3.000000</td>\n",
              "      <td>0.000000</td>\n",
              "      <td>3.000000</td>\n",
              "      <td>0.000000</td>\n",
              "    </tr>\n",
              "    <tr>\n",
              "      <th>50%</th>\n",
              "      <td>12000.000000</td>\n",
              "      <td>12000.000000</td>\n",
              "      <td>12.990000</td>\n",
              "      <td>370.480000</td>\n",
              "      <td>6.247372e+04</td>\n",
              "      <td>17.950000</td>\n",
              "      <td>685.000000</td>\n",
              "      <td>689.000000</td>\n",
              "      <td>11.000000</td>\n",
              "      <td>54.900000</td>\n",
              "      <td>1241.230000</td>\n",
              "      <td>4.000000</td>\n",
              "      <td>6994.500000</td>\n",
              "      <td>3823.000000</td>\n",
              "      <td>67.700000</td>\n",
              "      <td>167.000000</td>\n",
              "      <td>8.000000</td>\n",
              "      <td>1.000000</td>\n",
              "      <td>5.000000</td>\n",
              "      <td>0.000000</td>\n",
              "    </tr>\n",
              "    <tr>\n",
              "      <th>75%</th>\n",
              "      <td>20000.000000</td>\n",
              "      <td>20000.000000</td>\n",
              "      <td>15.610000</td>\n",
              "      <td>568.005000</td>\n",
              "      <td>9.000000e+04</td>\n",
              "      <td>24.500000</td>\n",
              "      <td>705.000000</td>\n",
              "      <td>709.000000</td>\n",
              "      <td>14.000000</td>\n",
              "      <td>72.500000</td>\n",
              "      <td>7303.205000</td>\n",
              "      <td>6.000000</td>\n",
              "      <td>17905.000000</td>\n",
              "      <td>10588.000000</td>\n",
              "      <td>87.500000</td>\n",
              "      <td>232.000000</td>\n",
              "      <td>15.000000</td>\n",
              "      <td>3.000000</td>\n",
              "      <td>7.000000</td>\n",
              "      <td>0.000000</td>\n",
              "    </tr>\n",
              "    <tr>\n",
              "      <th>max</th>\n",
              "      <td>35000.000000</td>\n",
              "      <td>35000.000000</td>\n",
              "      <td>26.060000</td>\n",
              "      <td>1408.130000</td>\n",
              "      <td>7.500000e+06</td>\n",
              "      <td>39.990000</td>\n",
              "      <td>845.000000</td>\n",
              "      <td>850.000000</td>\n",
              "      <td>84.000000</td>\n",
              "      <td>180.300000</td>\n",
              "      <td>36234.440000</td>\n",
              "      <td>53.000000</td>\n",
              "      <td>447433.000000</td>\n",
              "      <td>249625.000000</td>\n",
              "      <td>255.200000</td>\n",
              "      <td>718.000000</td>\n",
              "      <td>372.000000</td>\n",
              "      <td>34.000000</td>\n",
              "      <td>38.000000</td>\n",
              "      <td>1.000000</td>\n",
              "    </tr>\n",
              "  </tbody>\n",
              "</table>\n",
              "</div>\n",
              "      <button class=\"colab-df-convert\" onclick=\"convertToInteractive('df-9114813a-8bb5-4a44-856b-b64e117b6543')\"\n",
              "              title=\"Convert this dataframe to an interactive table.\"\n",
              "              style=\"display:none;\">\n",
              "        \n",
              "  <svg xmlns=\"http://www.w3.org/2000/svg\" height=\"24px\"viewBox=\"0 0 24 24\"\n",
              "       width=\"24px\">\n",
              "    <path d=\"M0 0h24v24H0V0z\" fill=\"none\"/>\n",
              "    <path d=\"M18.56 5.44l.94 2.06.94-2.06 2.06-.94-2.06-.94-.94-2.06-.94 2.06-2.06.94zm-11 1L8.5 8.5l.94-2.06 2.06-.94-2.06-.94L8.5 2.5l-.94 2.06-2.06.94zm10 10l.94 2.06.94-2.06 2.06-.94-2.06-.94-.94-2.06-.94 2.06-2.06.94z\"/><path d=\"M17.41 7.96l-1.37-1.37c-.4-.4-.92-.59-1.43-.59-.52 0-1.04.2-1.43.59L10.3 9.45l-7.72 7.72c-.78.78-.78 2.05 0 2.83L4 21.41c.39.39.9.59 1.41.59.51 0 1.02-.2 1.41-.59l7.78-7.78 2.81-2.81c.8-.78.8-2.07 0-2.86zM5.41 20L4 18.59l7.72-7.72 1.47 1.35L5.41 20z\"/>\n",
              "  </svg>\n",
              "      </button>\n",
              "      \n",
              "  <style>\n",
              "    .colab-df-container {\n",
              "      display:flex;\n",
              "      flex-wrap:wrap;\n",
              "      gap: 12px;\n",
              "    }\n",
              "\n",
              "    .colab-df-convert {\n",
              "      background-color: #E8F0FE;\n",
              "      border: none;\n",
              "      border-radius: 50%;\n",
              "      cursor: pointer;\n",
              "      display: none;\n",
              "      fill: #1967D2;\n",
              "      height: 32px;\n",
              "      padding: 0 0 0 0;\n",
              "      width: 32px;\n",
              "    }\n",
              "\n",
              "    .colab-df-convert:hover {\n",
              "      background-color: #E2EBFA;\n",
              "      box-shadow: 0px 1px 2px rgba(60, 64, 67, 0.3), 0px 1px 3px 1px rgba(60, 64, 67, 0.15);\n",
              "      fill: #174EA6;\n",
              "    }\n",
              "\n",
              "    [theme=dark] .colab-df-convert {\n",
              "      background-color: #3B4455;\n",
              "      fill: #D2E3FC;\n",
              "    }\n",
              "\n",
              "    [theme=dark] .colab-df-convert:hover {\n",
              "      background-color: #434B5C;\n",
              "      box-shadow: 0px 1px 3px 1px rgba(0, 0, 0, 0.15);\n",
              "      filter: drop-shadow(0px 1px 2px rgba(0, 0, 0, 0.3));\n",
              "      fill: #FFFFFF;\n",
              "    }\n",
              "  </style>\n",
              "\n",
              "      <script>\n",
              "        const buttonEl =\n",
              "          document.querySelector('#df-9114813a-8bb5-4a44-856b-b64e117b6543 button.colab-df-convert');\n",
              "        buttonEl.style.display =\n",
              "          google.colab.kernel.accessAllowed ? 'block' : 'none';\n",
              "\n",
              "        async function convertToInteractive(key) {\n",
              "          const element = document.querySelector('#df-9114813a-8bb5-4a44-856b-b64e117b6543');\n",
              "          const dataTable =\n",
              "            await google.colab.kernel.invokeFunction('convertToInteractive',\n",
              "                                                     [key], {});\n",
              "          if (!dataTable) return;\n",
              "\n",
              "          const docLinkHtml = 'Like what you see? Visit the ' +\n",
              "            '<a target=\"_blank\" href=https://colab.research.google.com/notebooks/data_table.ipynb>data table notebook</a>'\n",
              "            + ' to learn more about interactive tables.';\n",
              "          element.innerHTML = '';\n",
              "          dataTable['output_type'] = 'display_data';\n",
              "          await google.colab.output.renderOutput(dataTable, element);\n",
              "          const docLink = document.createElement('div');\n",
              "          docLink.innerHTML = docLinkHtml;\n",
              "          element.appendChild(docLink);\n",
              "        }\n",
              "      </script>\n",
              "    </div>\n",
              "  </div>\n",
              "  "
            ]
          },
          "metadata": {},
          "execution_count": 31
        }
      ]
    },
    {
      "cell_type": "markdown",
      "source": [
        ""
      ],
      "metadata": {
        "id": "-z2HpmWoEXzz"
      }
    },
    {
      "cell_type": "code",
      "source": [
        ""
      ],
      "metadata": {
        "id": "aDvg6Qe2EIRX"
      },
      "execution_count": 31,
      "outputs": []
    },
    {
      "cell_type": "markdown",
      "source": [
        "### 4.1 Feature Analysis and Exploration\n",
        "\n",
        "#### 4.1.1. Analysing the categorical features"
      ],
      "metadata": {
        "id": "i3-pqcXZEjEB"
      }
    },
    {
      "cell_type": "code",
      "source": [
        "dataset[['emp_title','title','zip_code']].describe()"
      ],
      "metadata": {
        "colab": {
          "base_uri": "https://localhost:8080/",
          "height": 0
        },
        "id": "rBvtNT5REg-I",
        "outputId": "5e054a6c-8715-4cde-e39d-5b8b158db3be"
      },
      "execution_count": 32,
      "outputs": [
        {
          "output_type": "execute_result",
          "data": {
            "text/plain": [
              "       emp_title               title zip_code\n",
              "count      81416               86138    86138\n",
              "unique     32987                  20      846\n",
              "top      Teacher  Debt consolidation    750xx\n",
              "freq        1576               52990      954"
            ],
            "text/html": [
              "\n",
              "  <div id=\"df-04af63f7-8f3d-4d01-9d75-08b5be98a8fe\">\n",
              "    <div class=\"colab-df-container\">\n",
              "      <div>\n",
              "<style scoped>\n",
              "    .dataframe tbody tr th:only-of-type {\n",
              "        vertical-align: middle;\n",
              "    }\n",
              "\n",
              "    .dataframe tbody tr th {\n",
              "        vertical-align: top;\n",
              "    }\n",
              "\n",
              "    .dataframe thead th {\n",
              "        text-align: right;\n",
              "    }\n",
              "</style>\n",
              "<table border=\"1\" class=\"dataframe\">\n",
              "  <thead>\n",
              "    <tr style=\"text-align: right;\">\n",
              "      <th></th>\n",
              "      <th>emp_title</th>\n",
              "      <th>title</th>\n",
              "      <th>zip_code</th>\n",
              "    </tr>\n",
              "  </thead>\n",
              "  <tbody>\n",
              "    <tr>\n",
              "      <th>count</th>\n",
              "      <td>81416</td>\n",
              "      <td>86138</td>\n",
              "      <td>86138</td>\n",
              "    </tr>\n",
              "    <tr>\n",
              "      <th>unique</th>\n",
              "      <td>32987</td>\n",
              "      <td>20</td>\n",
              "      <td>846</td>\n",
              "    </tr>\n",
              "    <tr>\n",
              "      <th>top</th>\n",
              "      <td>Teacher</td>\n",
              "      <td>Debt consolidation</td>\n",
              "      <td>750xx</td>\n",
              "    </tr>\n",
              "    <tr>\n",
              "      <th>freq</th>\n",
              "      <td>1576</td>\n",
              "      <td>52990</td>\n",
              "      <td>954</td>\n",
              "    </tr>\n",
              "  </tbody>\n",
              "</table>\n",
              "</div>\n",
              "      <button class=\"colab-df-convert\" onclick=\"convertToInteractive('df-04af63f7-8f3d-4d01-9d75-08b5be98a8fe')\"\n",
              "              title=\"Convert this dataframe to an interactive table.\"\n",
              "              style=\"display:none;\">\n",
              "        \n",
              "  <svg xmlns=\"http://www.w3.org/2000/svg\" height=\"24px\"viewBox=\"0 0 24 24\"\n",
              "       width=\"24px\">\n",
              "    <path d=\"M0 0h24v24H0V0z\" fill=\"none\"/>\n",
              "    <path d=\"M18.56 5.44l.94 2.06.94-2.06 2.06-.94-2.06-.94-.94-2.06-.94 2.06-2.06.94zm-11 1L8.5 8.5l.94-2.06 2.06-.94-2.06-.94L8.5 2.5l-.94 2.06-2.06.94zm10 10l.94 2.06.94-2.06 2.06-.94-2.06-.94-.94-2.06-.94 2.06-2.06.94z\"/><path d=\"M17.41 7.96l-1.37-1.37c-.4-.4-.92-.59-1.43-.59-.52 0-1.04.2-1.43.59L10.3 9.45l-7.72 7.72c-.78.78-.78 2.05 0 2.83L4 21.41c.39.39.9.59 1.41.59.51 0 1.02-.2 1.41-.59l7.78-7.78 2.81-2.81c.8-.78.8-2.07 0-2.86zM5.41 20L4 18.59l7.72-7.72 1.47 1.35L5.41 20z\"/>\n",
              "  </svg>\n",
              "      </button>\n",
              "      \n",
              "  <style>\n",
              "    .colab-df-container {\n",
              "      display:flex;\n",
              "      flex-wrap:wrap;\n",
              "      gap: 12px;\n",
              "    }\n",
              "\n",
              "    .colab-df-convert {\n",
              "      background-color: #E8F0FE;\n",
              "      border: none;\n",
              "      border-radius: 50%;\n",
              "      cursor: pointer;\n",
              "      display: none;\n",
              "      fill: #1967D2;\n",
              "      height: 32px;\n",
              "      padding: 0 0 0 0;\n",
              "      width: 32px;\n",
              "    }\n",
              "\n",
              "    .colab-df-convert:hover {\n",
              "      background-color: #E2EBFA;\n",
              "      box-shadow: 0px 1px 2px rgba(60, 64, 67, 0.3), 0px 1px 3px 1px rgba(60, 64, 67, 0.15);\n",
              "      fill: #174EA6;\n",
              "    }\n",
              "\n",
              "    [theme=dark] .colab-df-convert {\n",
              "      background-color: #3B4455;\n",
              "      fill: #D2E3FC;\n",
              "    }\n",
              "\n",
              "    [theme=dark] .colab-df-convert:hover {\n",
              "      background-color: #434B5C;\n",
              "      box-shadow: 0px 1px 3px 1px rgba(0, 0, 0, 0.15);\n",
              "      filter: drop-shadow(0px 1px 2px rgba(0, 0, 0, 0.3));\n",
              "      fill: #FFFFFF;\n",
              "    }\n",
              "  </style>\n",
              "\n",
              "      <script>\n",
              "        const buttonEl =\n",
              "          document.querySelector('#df-04af63f7-8f3d-4d01-9d75-08b5be98a8fe button.colab-df-convert');\n",
              "        buttonEl.style.display =\n",
              "          google.colab.kernel.accessAllowed ? 'block' : 'none';\n",
              "\n",
              "        async function convertToInteractive(key) {\n",
              "          const element = document.querySelector('#df-04af63f7-8f3d-4d01-9d75-08b5be98a8fe');\n",
              "          const dataTable =\n",
              "            await google.colab.kernel.invokeFunction('convertToInteractive',\n",
              "                                                     [key], {});\n",
              "          if (!dataTable) return;\n",
              "\n",
              "          const docLinkHtml = 'Like what you see? Visit the ' +\n",
              "            '<a target=\"_blank\" href=https://colab.research.google.com/notebooks/data_table.ipynb>data table notebook</a>'\n",
              "            + ' to learn more about interactive tables.';\n",
              "          element.innerHTML = '';\n",
              "          dataTable['output_type'] = 'display_data';\n",
              "          await google.colab.output.renderOutput(dataTable, element);\n",
              "          const docLink = document.createElement('div');\n",
              "          docLink.innerHTML = docLinkHtml;\n",
              "          element.appendChild(docLink);\n",
              "        }\n",
              "      </script>\n",
              "    </div>\n",
              "  </div>\n",
              "  "
            ]
          },
          "metadata": {},
          "execution_count": 32
        }
      ]
    },
    {
      "cell_type": "code",
      "source": [
        "dataset.drop(['emp_title','title','zip_code'], axis=1, inplace=True)"
      ],
      "metadata": {
        "id": "sSpmVT75Fh9J"
      },
      "execution_count": 33,
      "outputs": []
    },
    {
      "cell_type": "code",
      "source": [
        "dataset.shape"
      ],
      "metadata": {
        "colab": {
          "base_uri": "https://localhost:8080/"
        },
        "id": "pmjsqL1vF1EQ",
        "outputId": "61d38082-6f01-40e6-c873-3ff193c5a786"
      },
      "execution_count": 34,
      "outputs": [
        {
          "output_type": "execute_result",
          "data": {
            "text/plain": [
              "(86138, 31)"
            ]
          },
          "metadata": {},
          "execution_count": 34
        }
      ]
    },
    {
      "cell_type": "code",
      "source": [
        ""
      ],
      "metadata": {
        "id": "IHblYkhJF4D3"
      },
      "execution_count": 34,
      "outputs": []
    },
    {
      "cell_type": "markdown",
      "source": [
        "#### Feature Term"
      ],
      "metadata": {
        "id": "u6-ZDXYeGJBY"
      }
    },
    {
      "cell_type": "code",
      "source": [
        "dataset['term'] = dataset['term'].apply(lambda s: np.int8(s.split()[0]))"
      ],
      "metadata": {
        "id": "1EKcjOQpGM4C"
      },
      "execution_count": 35,
      "outputs": []
    },
    {
      "cell_type": "code",
      "source": [
        "dataset.groupby('term')['charged_off'].value_counts(normalize=True).loc[:,1]"
      ],
      "metadata": {
        "colab": {
          "base_uri": "https://localhost:8080/"
        },
        "id": "qbq9O6gqGSlf",
        "outputId": "4a28d4aa-e8d3-46f9-aad1-cbc3bfeebdf2"
      },
      "execution_count": 36,
      "outputs": [
        {
          "output_type": "execute_result",
          "data": {
            "text/plain": [
              "term\n",
              "36    0.141526\n",
              "60    0.354356\n",
              "Name: charged_off, dtype: float64"
            ]
          },
          "metadata": {},
          "execution_count": 36
        }
      ]
    },
    {
      "cell_type": "code",
      "source": [
        ""
      ],
      "metadata": {
        "id": "kH63egE-GzPV"
      },
      "execution_count": 36,
      "outputs": []
    },
    {
      "cell_type": "markdown",
      "source": [
        "#### Feature Employment Length"
      ],
      "metadata": {
        "id": "u7saw_r9HajK"
      }
    },
    {
      "cell_type": "code",
      "source": [
        "dataset['emp_length'].value_counts()"
      ],
      "metadata": {
        "colab": {
          "base_uri": "https://localhost:8080/"
        },
        "id": "YOmz52jpHdem",
        "outputId": "8d1eb5cc-c719-415b-d1a0-09ddc50223a9"
      },
      "execution_count": 37,
      "outputs": [
        {
          "output_type": "execute_result",
          "data": {
            "text/plain": [
              "10+ years    28177\n",
              "2 years       7699\n",
              "< 1 year      7060\n",
              "3 years       6784\n",
              "1 year        5482\n",
              "4 years       5255\n",
              "7 years       4582\n",
              "5 years       4519\n",
              "8 years       4319\n",
              "6 years       4103\n",
              "9 years       3441\n",
              "Name: emp_length, dtype: int64"
            ]
          },
          "metadata": {},
          "execution_count": 37
        }
      ]
    },
    {
      "cell_type": "code",
      "source": [
        "dataset['emp_length'].replace(to_replace='10+ years', value='10 years', inplace=True)\n",
        "dataset['emp_length'].replace('< 1 year', '0 years', inplace=True)"
      ],
      "metadata": {
        "id": "LZMhzWQhHj21"
      },
      "execution_count": 38,
      "outputs": []
    },
    {
      "cell_type": "code",
      "source": [
        "dataset['emp_length'].value_counts(dropna = False)"
      ],
      "metadata": {
        "colab": {
          "base_uri": "https://localhost:8080/"
        },
        "id": "_g0s5hFoHt25",
        "outputId": "4ee81499-6f85-4e1c-fd95-d305b35c0c62"
      },
      "execution_count": 39,
      "outputs": [
        {
          "output_type": "execute_result",
          "data": {
            "text/plain": [
              "10 years    28177\n",
              "2 years      7699\n",
              "0 years      7060\n",
              "3 years      6784\n",
              "1 year       5482\n",
              "4 years      5255\n",
              "NaN          4717\n",
              "7 years      4582\n",
              "5 years      4519\n",
              "8 years      4319\n",
              "6 years      4103\n",
              "9 years      3441\n",
              "Name: emp_length, dtype: int64"
            ]
          },
          "metadata": {},
          "execution_count": 39
        }
      ]
    },
    {
      "cell_type": "code",
      "source": [
        "dataset['emp_length'] = dataset['emp_length'].apply(lambda s: s if pd.isnull(s) else np.int8(s.split()[0]))"
      ],
      "metadata": {
        "id": "dDJS6RysHvEp"
      },
      "execution_count": 40,
      "outputs": []
    },
    {
      "cell_type": "code",
      "source": [
        "dataset['emp_length'].value_counts(dropna = False)"
      ],
      "metadata": {
        "colab": {
          "base_uri": "https://localhost:8080/"
        },
        "id": "9l4uGZaGIDZi",
        "outputId": "777a9e8e-a2de-4772-e1c1-b59c46edfe26"
      },
      "execution_count": 41,
      "outputs": [
        {
          "output_type": "execute_result",
          "data": {
            "text/plain": [
              "10.0    28177\n",
              "2.0      7699\n",
              "0.0      7060\n",
              "3.0      6784\n",
              "1.0      5482\n",
              "4.0      5255\n",
              "NaN      4717\n",
              "7.0      4582\n",
              "5.0      4519\n",
              "8.0      4319\n",
              "6.0      4103\n",
              "9.0      3441\n",
              "Name: emp_length, dtype: int64"
            ]
          },
          "metadata": {},
          "execution_count": 41
        }
      ]
    },
    {
      "cell_type": "code",
      "source": [
        "charge_off_rates = dataset.groupby('emp_length')['charged_off'].value_counts(normalize=True).loc[:,1]\n",
        "charge_off_rates.plot(kind='bar');"
      ],
      "metadata": {
        "colab": {
          "base_uri": "https://localhost:8080/",
          "height": 0
        },
        "id": "gqZMuMI2JmBE",
        "outputId": "6acfc84b-25a2-44ed-c93c-fe8eda068b15"
      },
      "execution_count": 42,
      "outputs": [
        {
          "output_type": "display_data",
          "data": {
            "text/plain": [
              "<Figure size 432x288 with 1 Axes>"
            ],
            "image/png": "[encoded data removed]"
          },
          "metadata": {
            "needs_background": "light"
          }
        }
      ]
    },
    {
      "cell_type": "code",
      "source": [
        "sns.barplot(x=charge_off_rates.index, y=charge_off_rates.values, color='#5975A4', saturation=1)"
      ],
      "metadata": {
        "colab": {
          "base_uri": "https://localhost:8080/",
          "height": 0
        },
        "id": "DwmV0bfhJ8--",
        "outputId": "e677e6ac-eab5-44cc-e60f-715f9fe44bf3"
      },
      "execution_count": 43,
      "outputs": [
        {
          "output_type": "execute_result",
          "data": {
            "text/plain": [
              "<matplotlib.axes._subplots.AxesSubplot at 0x7f335effc710>"
            ]
          },
          "metadata": {},
          "execution_count": 43
        },
        {
          "output_type": "display_data",
          "data": {
            "text/plain": [
              "<Figure size 432x288 with 1 Axes>"
            ],
            "image/png": "[encoded data removed]"
          },
          "metadata": {
            "needs_background": "light"
          }
        }
      ]
    },
    {
      "cell_type": "code",
      "source": [
        "dataset.drop(['emp_length'], axis=1, inplace=True)"
      ],
      "metadata": {
        "id": "2nYi3LALKKt1"
      },
      "execution_count": 44,
      "outputs": []
    },
    {
      "cell_type": "markdown",
      "source": [
        "### Feature : Subgrade"
      ],
      "metadata": {
        "id": "g8Eo1mKTL92Y"
      }
    },
    {
      "cell_type": "code",
      "source": [
        "charge_off_rates = dataset.groupby('sub_grade')['charged_off'].value_counts(normalize=True).loc[:,1]\n",
        "charge_off_rates.plot(kind='bar', figsize=(12,6));"
      ],
      "metadata": {
        "colab": {
          "base_uri": "https://localhost:8080/",
          "height": 393
        },
        "id": "e5s-4vcBL_cL",
        "outputId": "cc1d4950-b345-4804-c668-0652442d743a"
      },
      "execution_count": 45,
      "outputs": [
        {
          "output_type": "display_data",
          "data": {
            "text/plain": [
              "<Figure size 864x432 with 1 Axes>"
            ],
            "image/png": "[encoded data removed]"
          },
          "metadata": {
            "needs_background": "light"
          }
        }
      ]
    },
    {
      "cell_type": "code",
      "source": [
        "dataset['earliest_cr_line'] = dataset['earliest_cr_line'].apply(lambda s: int(s[-4:]))"
      ],
      "metadata": {
        "id": "P8pQ-OFNMTir"
      },
      "execution_count": 46,
      "outputs": []
    },
    {
      "cell_type": "markdown",
      "source": [
        "#### 4.1.2. Analysing the continuous features\n",
        "\n",
        "##### Feature : Annual Income"
      ],
      "metadata": {
        "id": "zfg5DQHDNsJ9"
      }
    },
    {
      "cell_type": "code",
      "source": [
        "dataset[['annual_inc']].describe()"
      ],
      "metadata": {
        "colab": {
          "base_uri": "https://localhost:8080/",
          "height": 0
        },
        "id": "CwWkC60tNc9p",
        "outputId": "003ac262-8778-4adc-8159-66ae5bad9d91"
      },
      "execution_count": 47,
      "outputs": [
        {
          "output_type": "execute_result",
          "data": {
            "text/plain": [
              "         annual_inc\n",
              "count  8.613800e+04\n",
              "mean   7.384311e+04\n",
              "std    5.929352e+04\n",
              "min    4.000000e+03\n",
              "25%    4.500000e+04\n",
              "50%    6.247372e+04\n",
              "75%    9.000000e+04\n",
              "max    7.500000e+06"
            ],
            "text/html": [
              "\n",
              "  <div id=\"df-f121acf0-445f-4030-9123-3f609a824c78\">\n",
              "    <div class=\"colab-df-container\">\n",
              "      <div>\n",
              "<style scoped>\n",
              "    .dataframe tbody tr th:only-of-type {\n",
              "        vertical-align: middle;\n",
              "    }\n",
              "\n",
              "    .dataframe tbody tr th {\n",
              "        vertical-align: top;\n",
              "    }\n",
              "\n",
              "    .dataframe thead th {\n",
              "        text-align: right;\n",
              "    }\n",
              "</style>\n",
              "<table border=\"1\" class=\"dataframe\">\n",
              "  <thead>\n",
              "    <tr style=\"text-align: right;\">\n",
              "      <th></th>\n",
              "      <th>annual_inc</th>\n",
              "    </tr>\n",
              "  </thead>\n",
              "  <tbody>\n",
              "    <tr>\n",
              "      <th>count</th>\n",
              "      <td>8.613800e+04</td>\n",
              "    </tr>\n",
              "    <tr>\n",
              "      <th>mean</th>\n",
              "      <td>7.384311e+04</td>\n",
              "    </tr>\n",
              "    <tr>\n",
              "      <th>std</th>\n",
              "      <td>5.929352e+04</td>\n",
              "    </tr>\n",
              "    <tr>\n",
              "      <th>min</th>\n",
              "      <td>4.000000e+03</td>\n",
              "    </tr>\n",
              "    <tr>\n",
              "      <th>25%</th>\n",
              "      <td>4.500000e+04</td>\n",
              "    </tr>\n",
              "    <tr>\n",
              "      <th>50%</th>\n",
              "      <td>6.247372e+04</td>\n",
              "    </tr>\n",
              "    <tr>\n",
              "      <th>75%</th>\n",
              "      <td>9.000000e+04</td>\n",
              "    </tr>\n",
              "    <tr>\n",
              "      <th>max</th>\n",
              "      <td>7.500000e+06</td>\n",
              "    </tr>\n",
              "  </tbody>\n",
              "</table>\n",
              "</div>\n",
              "      <button class=\"colab-df-convert\" onclick=\"convertToInteractive('df-f121acf0-445f-4030-9123-3f609a824c78')\"\n",
              "              title=\"Convert this dataframe to an interactive table.\"\n",
              "              style=\"display:none;\">\n",
              "        \n",
              "  <svg xmlns=\"http://www.w3.org/2000/svg\" height=\"24px\"viewBox=\"0 0 24 24\"\n",
              "       width=\"24px\">\n",
              "    <path d=\"M0 0h24v24H0V0z\" fill=\"none\"/>\n",
              "    <path d=\"M18.56 5.44l.94 2.06.94-2.06 2.06-.94-2.06-.94-.94-2.06-.94 2.06-2.06.94zm-11 1L8.5 8.5l.94-2.06 2.06-.94-2.06-.94L8.5 2.5l-.94 2.06-2.06.94zm10 10l.94 2.06.94-2.06 2.06-.94-2.06-.94-.94-2.06-.94 2.06-2.06.94z\"/><path d=\"M17.41 7.96l-1.37-1.37c-.4-.4-.92-.59-1.43-.59-.52 0-1.04.2-1.43.59L10.3 9.45l-7.72 7.72c-.78.78-.78 2.05 0 2.83L4 21.41c.39.39.9.59 1.41.59.51 0 1.02-.2 1.41-.59l7.78-7.78 2.81-2.81c.8-.78.8-2.07 0-2.86zM5.41 20L4 18.59l7.72-7.72 1.47 1.35L5.41 20z\"/>\n",
              "  </svg>\n",
              "      </button>\n",
              "      \n",
              "  <style>\n",
              "    .colab-df-container {\n",
              "      display:flex;\n",
              "      flex-wrap:wrap;\n",
              "      gap: 12px;\n",
              "    }\n",
              "\n",
              "    .colab-df-convert {\n",
              "      background-color: #E8F0FE;\n",
              "      border: none;\n",
              "      border-radius: 50%;\n",
              "      cursor: pointer;\n",
              "      display: none;\n",
              "      fill: #1967D2;\n",
              "      height: 32px;\n",
              "      padding: 0 0 0 0;\n",
              "      width: 32px;\n",
              "    }\n",
              "\n",
              "    .colab-df-convert:hover {\n",
              "      background-color: #E2EBFA;\n",
              "      box-shadow: 0px 1px 2px rgba(60, 64, 67, 0.3), 0px 1px 3px 1px rgba(60, 64, 67, 0.15);\n",
              "      fill: #174EA6;\n",
              "    }\n",
              "\n",
              "    [theme=dark] .colab-df-convert {\n",
              "      background-color: #3B4455;\n",
              "      fill: #D2E3FC;\n",
              "    }\n",
              "\n",
              "    [theme=dark] .colab-df-convert:hover {\n",
              "      background-color: #434B5C;\n",
              "      box-shadow: 0px 1px 3px 1px rgba(0, 0, 0, 0.15);\n",
              "      filter: drop-shadow(0px 1px 2px rgba(0, 0, 0, 0.3));\n",
              "      fill: #FFFFFF;\n",
              "    }\n",
              "  </style>\n",
              "\n",
              "      <script>\n",
              "        const buttonEl =\n",
              "          document.querySelector('#df-f121acf0-445f-4030-9123-3f609a824c78 button.colab-df-convert');\n",
              "        buttonEl.style.display =\n",
              "          google.colab.kernel.accessAllowed ? 'block' : 'none';\n",
              "\n",
              "        async function convertToInteractive(key) {\n",
              "          const element = document.querySelector('#df-f121acf0-445f-4030-9123-3f609a824c78');\n",
              "          const dataTable =\n",
              "            await google.colab.kernel.invokeFunction('convertToInteractive',\n",
              "                                                     [key], {});\n",
              "          if (!dataTable) return;\n",
              "\n",
              "          const docLinkHtml = 'Like what you see? Visit the ' +\n",
              "            '<a target=\"_blank\" href=https://colab.research.google.com/notebooks/data_table.ipynb>data table notebook</a>'\n",
              "            + ' to learn more about interactive tables.';\n",
              "          element.innerHTML = '';\n",
              "          dataTable['output_type'] = 'display_data';\n",
              "          await google.colab.output.renderOutput(dataTable, element);\n",
              "          const docLink = document.createElement('div');\n",
              "          docLink.innerHTML = docLinkHtml;\n",
              "          element.appendChild(docLink);\n",
              "        }\n",
              "      </script>\n",
              "    </div>\n",
              "  </div>\n",
              "  "
            ]
          },
          "metadata": {},
          "execution_count": 47
        }
      ]
    },
    {
      "cell_type": "code",
      "source": [
        "dataset['log_annual_inc'] = dataset['annual_inc'].apply(lambda x: np.log10(x+1))\n",
        "dataset.drop('annual_inc', axis=1, inplace=True)"
      ],
      "metadata": {
        "id": "5kcsI6M9Ps08"
      },
      "execution_count": 48,
      "outputs": []
    },
    {
      "cell_type": "code",
      "source": [
        "dataset['log_annual_inc'].hist();"
      ],
      "metadata": {
        "colab": {
          "base_uri": "https://localhost:8080/",
          "height": 0
        },
        "id": "Xk7LpJWMQI38",
        "outputId": "2b491133-23b6-4a89-c7ea-03ce1600d965"
      },
      "execution_count": 49,
      "outputs": [
        {
          "output_type": "display_data",
          "data": {
            "text/plain": [
              "<Figure size 432x288 with 1 Axes>"
            ],
            "image/png": "[encoded data removed]"
          },
          "metadata": {
            "needs_background": "light"
          }
        }
      ]
    },
    {
      "cell_type": "markdown",
      "source": [
        "#### FICO Scores"
      ],
      "metadata": {
        "id": "bxlQaVtLQ4_i"
      }
    },
    {
      "cell_type": "code",
      "source": [
        "dataset[['fico_range_low', 'fico_range_high']].corr()"
      ],
      "metadata": {
        "id": "XXmu0NLIQ7MM",
        "outputId": "42ec911b-caa5-4cb1-ff4e-598989b629a1",
        "colab": {
          "base_uri": "https://localhost:8080/",
          "height": 0
        }
      },
      "execution_count": 50,
      "outputs": [
        {
          "output_type": "execute_result",
          "data": {
            "text/plain": [
              "                 fico_range_low  fico_range_high\n",
              "fico_range_low              1.0              1.0\n",
              "fico_range_high             1.0              1.0"
            ],
            "text/html": [
              "\n",
              "  <div id=\"df-7999d570-1139-4f1d-b74e-163b347adb92\">\n",
              "    <div class=\"colab-df-container\">\n",
              "      <div>\n",
              "<style scoped>\n",
              "    .dataframe tbody tr th:only-of-type {\n",
              "        vertical-align: middle;\n",
              "    }\n",
              "\n",
              "    .dataframe tbody tr th {\n",
              "        vertical-align: top;\n",
              "    }\n",
              "\n",
              "    .dataframe thead th {\n",
              "        text-align: right;\n",
              "    }\n",
              "</style>\n",
              "<table border=\"1\" class=\"dataframe\">\n",
              "  <thead>\n",
              "    <tr style=\"text-align: right;\">\n",
              "      <th></th>\n",
              "      <th>fico_range_low</th>\n",
              "      <th>fico_range_high</th>\n",
              "    </tr>\n",
              "  </thead>\n",
              "  <tbody>\n",
              "    <tr>\n",
              "      <th>fico_range_low</th>\n",
              "      <td>1.0</td>\n",
              "      <td>1.0</td>\n",
              "    </tr>\n",
              "    <tr>\n",
              "      <th>fico_range_high</th>\n",
              "      <td>1.0</td>\n",
              "      <td>1.0</td>\n",
              "    </tr>\n",
              "  </tbody>\n",
              "</table>\n",
              "</div>\n",
              "      <button class=\"colab-df-convert\" onclick=\"convertToInteractive('df-7999d570-1139-4f1d-b74e-163b347adb92')\"\n",
              "              title=\"Convert this dataframe to an interactive table.\"\n",
              "              style=\"display:none;\">\n",
              "        \n",
              "  <svg xmlns=\"http://www.w3.org/2000/svg\" height=\"24px\"viewBox=\"0 0 24 24\"\n",
              "       width=\"24px\">\n",
              "    <path d=\"M0 0h24v24H0V0z\" fill=\"none\"/>\n",
              "    <path d=\"M18.56 5.44l.94 2.06.94-2.06 2.06-.94-2.06-.94-.94-2.06-.94 2.06-2.06.94zm-11 1L8.5 8.5l.94-2.06 2.06-.94-2.06-.94L8.5 2.5l-.94 2.06-2.06.94zm10 10l.94 2.06.94-2.06 2.06-.94-2.06-.94-.94-2.06-.94 2.06-2.06.94z\"/><path d=\"M17.41 7.96l-1.37-1.37c-.4-.4-.92-.59-1.43-.59-.52 0-1.04.2-1.43.59L10.3 9.45l-7.72 7.72c-.78.78-.78 2.05 0 2.83L4 21.41c.39.39.9.59 1.41.59.51 0 1.02-.2 1.41-.59l7.78-7.78 2.81-2.81c.8-.78.8-2.07 0-2.86zM5.41 20L4 18.59l7.72-7.72 1.47 1.35L5.41 20z\"/>\n",
              "  </svg>\n",
              "      </button>\n",
              "      \n",
              "  <style>\n",
              "    .colab-df-container {\n",
              "      display:flex;\n",
              "      flex-wrap:wrap;\n",
              "      gap: 12px;\n",
              "    }\n",
              "\n",
              "    .colab-df-convert {\n",
              "      background-color: #E8F0FE;\n",
              "      border: none;\n",
              "      border-radius: 50%;\n",
              "      cursor: pointer;\n",
              "      display: none;\n",
              "      fill: #1967D2;\n",
              "      height: 32px;\n",
              "      padding: 0 0 0 0;\n",
              "      width: 32px;\n",
              "    }\n",
              "\n",
              "    .colab-df-convert:hover {\n",
              "      background-color: #E2EBFA;\n",
              "      box-shadow: 0px 1px 2px rgba(60, 64, 67, 0.3), 0px 1px 3px 1px rgba(60, 64, 67, 0.15);\n",
              "      fill: #174EA6;\n",
              "    }\n",
              "\n",
              "    [theme=dark] .colab-df-convert {\n",
              "      background-color: #3B4455;\n",
              "      fill: #D2E3FC;\n",
              "    }\n",
              "\n",
              "    [theme=dark] .colab-df-convert:hover {\n",
              "      background-color: #434B5C;\n",
              "      box-shadow: 0px 1px 3px 1px rgba(0, 0, 0, 0.15);\n",
              "      filter: drop-shadow(0px 1px 2px rgba(0, 0, 0, 0.3));\n",
              "      fill: #FFFFFF;\n",
              "    }\n",
              "  </style>\n",
              "\n",
              "      <script>\n",
              "        const buttonEl =\n",
              "          document.querySelector('#df-7999d570-1139-4f1d-b74e-163b347adb92 button.colab-df-convert');\n",
              "        buttonEl.style.display =\n",
              "          google.colab.kernel.accessAllowed ? 'block' : 'none';\n",
              "\n",
              "        async function convertToInteractive(key) {\n",
              "          const element = document.querySelector('#df-7999d570-1139-4f1d-b74e-163b347adb92');\n",
              "          const dataTable =\n",
              "            await google.colab.kernel.invokeFunction('convertToInteractive',\n",
              "                                                     [key], {});\n",
              "          if (!dataTable) return;\n",
              "\n",
              "          const docLinkHtml = 'Like what you see? Visit the ' +\n",
              "            '<a target=\"_blank\" href=https://colab.research.google.com/notebooks/data_table.ipynb>data table notebook</a>'\n",
              "            + ' to learn more about interactive tables.';\n",
              "          element.innerHTML = '';\n",
              "          dataTable['output_type'] = 'display_data';\n",
              "          await google.colab.output.renderOutput(dataTable, element);\n",
              "          const docLink = document.createElement('div');\n",
              "          docLink.innerHTML = docLinkHtml;\n",
              "          element.appendChild(docLink);\n",
              "        }\n",
              "      </script>\n",
              "    </div>\n",
              "  </div>\n",
              "  "
            ]
          },
          "metadata": {},
          "execution_count": 50
        }
      ]
    },
    {
      "cell_type": "code",
      "source": [
        "dataset['fico_score'] = (dataset['fico_range_low'] + dataset['fico_range_high']) / 2\n",
        "dataset.drop(['fico_range_low', 'fico_range_high'], axis=1, inplace=True)"
      ],
      "metadata": {
        "id": "c3RkC5_puXtE"
      },
      "execution_count": 51,
      "outputs": []
    },
    {
      "cell_type": "code",
      "source": [
        "dataset['charged_off'].value_counts()"
      ],
      "metadata": {
        "id": "Yv3p2aaju1n1",
        "outputId": "9b37436b-ee0f-44c2-ae7d-55a5d19cab6a",
        "colab": {
          "base_uri": "https://localhost:8080/"
        }
      },
      "execution_count": 52,
      "outputs": [
        {
          "output_type": "execute_result",
          "data": {
            "text/plain": [
              "0    69982\n",
              "1    16156\n",
              "Name: charged_off, dtype: int64"
            ]
          },
          "metadata": {},
          "execution_count": 52
        }
      ]
    },
    {
      "cell_type": "code",
      "source": [
        "dataset.dtypes"
      ],
      "metadata": {
        "id": "llZ3V-WNu4bo",
        "outputId": "66207d9d-98a2-48ff-897d-2f9158e13ec7",
        "colab": {
          "base_uri": "https://localhost:8080/"
        }
      },
      "execution_count": 53,
      "outputs": [
        {
          "output_type": "execute_result",
          "data": {
            "text/plain": [
              "loan_amnt                float64\n",
              "funded_amnt              float64\n",
              "term                        int8\n",
              "int_rate                 float64\n",
              "installment              float64\n",
              "grade                     object\n",
              "sub_grade                 object\n",
              "home_ownership            object\n",
              "verification_status       object\n",
              "purpose                   object\n",
              "addr_state                object\n",
              "dti                      float64\n",
              "earliest_cr_line           int64\n",
              "open_acc                 float64\n",
              "revol_util               float64\n",
              "initial_list_status       object\n",
              "last_pymnt_amnt          float64\n",
              "application_type          object\n",
              "acc_open_past_24mths     float64\n",
              "avg_cur_bal              float64\n",
              "bc_open_to_buy           float64\n",
              "bc_util                  float64\n",
              "mo_sin_old_rev_tl_op     float64\n",
              "mo_sin_rcnt_rev_tl_op    float64\n",
              "mort_acc                 float64\n",
              "num_actv_rev_tl          float64\n",
              "charged_off                 int8\n",
              "log_annual_inc           float64\n",
              "fico_score               float64\n",
              "dtype: object"
            ]
          },
          "metadata": {},
          "execution_count": 53
        }
      ]
    },
    {
      "cell_type": "markdown",
      "source": [
        "### 4.2. Encoding Categorical Data"
      ],
      "metadata": {
        "id": "IjVG4ycev0SN"
      }
    },
    {
      "cell_type": "code",
      "source": [
        "from sklearn.preprocessing import LabelEncoder"
      ],
      "metadata": {
        "id": "BX4Be_kmv5Sd"
      },
      "execution_count": 54,
      "outputs": []
    },
    {
      "cell_type": "code",
      "source": [
        "categorical_cols = dataset.columns[dataset.dtypes == object].tolist()"
      ],
      "metadata": {
        "id": "j_kpt_z0wK-f"
      },
      "execution_count": 55,
      "outputs": []
    },
    {
      "cell_type": "code",
      "source": [
        "le = LabelEncoder()\n",
        "dataset[categorical_cols] = dataset[categorical_cols].apply(le.fit_transform)\n",
        "dataset[categorical_cols].head(10)"
      ],
      "metadata": {
        "id": "Hqtj4mdswjxo",
        "outputId": "6b0375a9-2c0c-49d9-810f-e467017bc385",
        "colab": {
          "base_uri": "https://localhost:8080/",
          "height": 363
        }
      },
      "execution_count": 56,
      "outputs": [
        {
          "output_type": "execute_result",
          "data": {
            "text/plain": [
              "    grade  sub_grade  home_ownership  verification_status  purpose  \\\n",
              "0       2         10               3                    1        2   \n",
              "1       0          2               1                    0        1   \n",
              "2       3         15               3                    1        1   \n",
              "4       2         12               3                    1        2   \n",
              "5       2         12               3                    1        2   \n",
              "6       1          9               1                    1        3   \n",
              "7       1          8               2                    2        2   \n",
              "8       2         13               3                    1        1   \n",
              "9       1          8               3                    0        2   \n",
              "10      1          9               3                    2        2   \n",
              "\n",
              "    addr_state  initial_list_status  application_type  \n",
              "0           40                    1                 0  \n",
              "1            4                    1                 0  \n",
              "2           21                    1                 0  \n",
              "4            3                    0                 0  \n",
              "5           26                    0                 0  \n",
              "6           20                    0                 0  \n",
              "7           40                    1                 0  \n",
              "8           42                    0                 0  \n",
              "9           18                    0                 0  \n",
              "10          19                    0                 0  "
            ],
            "text/html": [
              "\n",
              "  <div id=\"df-c206059f-ccf5-45ae-972c-dff8f664df95\">\n",
              "    <div class=\"colab-df-container\">\n",
              "      <div>\n",
              "<style scoped>\n",
              "    .dataframe tbody tr th:only-of-type {\n",
              "        vertical-align: middle;\n",
              "    }\n",
              "\n",
              "    .dataframe tbody tr th {\n",
              "        vertical-align: top;\n",
              "    }\n",
              "\n",
              "    .dataframe thead th {\n",
              "        text-align: right;\n",
              "    }\n",
              "</style>\n",
              "<table border=\"1\" class=\"dataframe\">\n",
              "  <thead>\n",
              "    <tr style=\"text-align: right;\">\n",
              "      <th></th>\n",
              "      <th>grade</th>\n",
              "      <th>sub_grade</th>\n",
              "      <th>home_ownership</th>\n",
              "      <th>verification_status</th>\n",
              "      <th>purpose</th>\n",
              "      <th>addr_state</th>\n",
              "      <th>initial_list_status</th>\n",
              "      <th>application_type</th>\n",
              "    </tr>\n",
              "  </thead>\n",
              "  <tbody>\n",
              "    <tr>\n",
              "      <th>0</th>\n",
              "      <td>2</td>\n",
              "      <td>10</td>\n",
              "      <td>3</td>\n",
              "      <td>1</td>\n",
              "      <td>2</td>\n",
              "      <td>40</td>\n",
              "      <td>1</td>\n",
              "      <td>0</td>\n",
              "    </tr>\n",
              "    <tr>\n",
              "      <th>1</th>\n",
              "      <td>0</td>\n",
              "      <td>2</td>\n",
              "      <td>1</td>\n",
              "      <td>0</td>\n",
              "      <td>1</td>\n",
              "      <td>4</td>\n",
              "      <td>1</td>\n",
              "      <td>0</td>\n",
              "    </tr>\n",
              "    <tr>\n",
              "      <th>2</th>\n",
              "      <td>3</td>\n",
              "      <td>15</td>\n",
              "      <td>3</td>\n",
              "      <td>1</td>\n",
              "      <td>1</td>\n",
              "      <td>21</td>\n",
              "      <td>1</td>\n",
              "      <td>0</td>\n",
              "    </tr>\n",
              "    <tr>\n",
              "      <th>4</th>\n",
              "      <td>2</td>\n",
              "      <td>12</td>\n",
              "      <td>3</td>\n",
              "      <td>1</td>\n",
              "      <td>2</td>\n",
              "      <td>3</td>\n",
              "      <td>0</td>\n",
              "      <td>0</td>\n",
              "    </tr>\n",
              "    <tr>\n",
              "      <th>5</th>\n",
              "      <td>2</td>\n",
              "      <td>12</td>\n",
              "      <td>3</td>\n",
              "      <td>1</td>\n",
              "      <td>2</td>\n",
              "      <td>26</td>\n",
              "      <td>0</td>\n",
              "      <td>0</td>\n",
              "    </tr>\n",
              "    <tr>\n",
              "      <th>6</th>\n",
              "      <td>1</td>\n",
              "      <td>9</td>\n",
              "      <td>1</td>\n",
              "      <td>1</td>\n",
              "      <td>3</td>\n",
              "      <td>20</td>\n",
              "      <td>0</td>\n",
              "      <td>0</td>\n",
              "    </tr>\n",
              "    <tr>\n",
              "      <th>7</th>\n",
              "      <td>1</td>\n",
              "      <td>8</td>\n",
              "      <td>2</td>\n",
              "      <td>2</td>\n",
              "      <td>2</td>\n",
              "      <td>40</td>\n",
              "      <td>1</td>\n",
              "      <td>0</td>\n",
              "    </tr>\n",
              "    <tr>\n",
              "      <th>8</th>\n",
              "      <td>2</td>\n",
              "      <td>13</td>\n",
              "      <td>3</td>\n",
              "      <td>1</td>\n",
              "      <td>1</td>\n",
              "      <td>42</td>\n",
              "      <td>0</td>\n",
              "      <td>0</td>\n",
              "    </tr>\n",
              "    <tr>\n",
              "      <th>9</th>\n",
              "      <td>1</td>\n",
              "      <td>8</td>\n",
              "      <td>3</td>\n",
              "      <td>0</td>\n",
              "      <td>2</td>\n",
              "      <td>18</td>\n",
              "      <td>0</td>\n",
              "      <td>0</td>\n",
              "    </tr>\n",
              "    <tr>\n",
              "      <th>10</th>\n",
              "      <td>1</td>\n",
              "      <td>9</td>\n",
              "      <td>3</td>\n",
              "      <td>2</td>\n",
              "      <td>2</td>\n",
              "      <td>19</td>\n",
              "      <td>0</td>\n",
              "      <td>0</td>\n",
              "    </tr>\n",
              "  </tbody>\n",
              "</table>\n",
              "</div>\n",
              "      <button class=\"colab-df-convert\" onclick=\"convertToInteractive('df-c206059f-ccf5-45ae-972c-dff8f664df95')\"\n",
              "              title=\"Convert this dataframe to an interactive table.\"\n",
              "              style=\"display:none;\">\n",
              "        \n",
              "  <svg xmlns=\"http://www.w3.org/2000/svg\" height=\"24px\"viewBox=\"0 0 24 24\"\n",
              "       width=\"24px\">\n",
              "    <path d=\"M0 0h24v24H0V0z\" fill=\"none\"/>\n",
              "    <path d=\"M18.56 5.44l.94 2.06.94-2.06 2.06-.94-2.06-.94-.94-2.06-.94 2.06-2.06.94zm-11 1L8.5 8.5l.94-2.06 2.06-.94-2.06-.94L8.5 2.5l-.94 2.06-2.06.94zm10 10l.94 2.06.94-2.06 2.06-.94-2.06-.94-.94-2.06-.94 2.06-2.06.94z\"/><path d=\"M17.41 7.96l-1.37-1.37c-.4-.4-.92-.59-1.43-.59-.52 0-1.04.2-1.43.59L10.3 9.45l-7.72 7.72c-.78.78-.78 2.05 0 2.83L4 21.41c.39.39.9.59 1.41.59.51 0 1.02-.2 1.41-.59l7.78-7.78 2.81-2.81c.8-.78.8-2.07 0-2.86zM5.41 20L4 18.59l7.72-7.72 1.47 1.35L5.41 20z\"/>\n",
              "  </svg>\n",
              "      </button>\n",
              "      \n",
              "  <style>\n",
              "    .colab-df-container {\n",
              "      display:flex;\n",
              "      flex-wrap:wrap;\n",
              "      gap: 12px;\n",
              "    }\n",
              "\n",
              "    .colab-df-convert {\n",
              "      background-color: #E8F0FE;\n",
              "      border: none;\n",
              "      border-radius: 50%;\n",
              "      cursor: pointer;\n",
              "      display: none;\n",
              "      fill: #1967D2;\n",
              "      height: 32px;\n",
              "      padding: 0 0 0 0;\n",
              "      width: 32px;\n",
              "    }\n",
              "\n",
              "    .colab-df-convert:hover {\n",
              "      background-color: #E2EBFA;\n",
              "      box-shadow: 0px 1px 2px rgba(60, 64, 67, 0.3), 0px 1px 3px 1px rgba(60, 64, 67, 0.15);\n",
              "      fill: #174EA6;\n",
              "    }\n",
              "\n",
              "    [theme=dark] .colab-df-convert {\n",
              "      background-color: #3B4455;\n",
              "      fill: #D2E3FC;\n",
              "    }\n",
              "\n",
              "    [theme=dark] .colab-df-convert:hover {\n",
              "      background-color: #434B5C;\n",
              "      box-shadow: 0px 1px 3px 1px rgba(0, 0, 0, 0.15);\n",
              "      filter: drop-shadow(0px 1px 2px rgba(0, 0, 0, 0.3));\n",
              "      fill: #FFFFFF;\n",
              "    }\n",
              "  </style>\n",
              "\n",
              "      <script>\n",
              "        const buttonEl =\n",
              "          document.querySelector('#df-c206059f-ccf5-45ae-972c-dff8f664df95 button.colab-df-convert');\n",
              "        buttonEl.style.display =\n",
              "          google.colab.kernel.accessAllowed ? 'block' : 'none';\n",
              "\n",
              "        async function convertToInteractive(key) {\n",
              "          const element = document.querySelector('#df-c206059f-ccf5-45ae-972c-dff8f664df95');\n",
              "          const dataTable =\n",
              "            await google.colab.kernel.invokeFunction('convertToInteractive',\n",
              "                                                     [key], {});\n",
              "          if (!dataTable) return;\n",
              "\n",
              "          const docLinkHtml = 'Like what you see? Visit the ' +\n",
              "            '<a target=\"_blank\" href=https://colab.research.google.com/notebooks/data_table.ipynb>data table notebook</a>'\n",
              "            + ' to learn more about interactive tables.';\n",
              "          element.innerHTML = '';\n",
              "          dataTable['output_type'] = 'display_data';\n",
              "          await google.colab.output.renderOutput(dataTable, element);\n",
              "          const docLink = document.createElement('div');\n",
              "          docLink.innerHTML = docLinkHtml;\n",
              "          element.appendChild(docLink);\n",
              "        }\n",
              "      </script>\n",
              "    </div>\n",
              "  </div>\n",
              "  "
            ]
          },
          "metadata": {},
          "execution_count": 56
        }
      ]
    },
    {
      "cell_type": "code",
      "source": [
        "dataset[categorical_cols].nunique()"
      ],
      "metadata": {
        "id": "aqzr0-xkxTLo",
        "outputId": "b78fb16a-3118-4fff-f7e5-14198499836c",
        "colab": {
          "base_uri": "https://localhost:8080/"
        }
      },
      "execution_count": 57,
      "outputs": [
        {
          "output_type": "execute_result",
          "data": {
            "text/plain": [
              "grade                   7\n",
              "sub_grade              35\n",
              "home_ownership          4\n",
              "verification_status     3\n",
              "purpose                13\n",
              "addr_state             46\n",
              "initial_list_status     2\n",
              "application_type        1\n",
              "dtype: int64"
            ]
          },
          "metadata": {},
          "execution_count": 57
        }
      ]
    },
    {
      "cell_type": "code",
      "source": [
        "dataset.head()"
      ],
      "metadata": {
        "id": "rsXqafJ_y3NN",
        "outputId": "3605d2fa-7ea2-4ef1-f214-ea0245fd6b91",
        "colab": {
          "base_uri": "https://localhost:8080/",
          "height": 299
        }
      },
      "execution_count": 58,
      "outputs": [
        {
          "output_type": "execute_result",
          "data": {
            "text/plain": [
              "   loan_amnt  funded_amnt  term  int_rate  installment  grade  sub_grade  \\\n",
              "0    15000.0      15000.0    60     12.39       336.64      2         10   \n",
              "1    10400.0      10400.0    36      6.99       321.08      0          2   \n",
              "2    21425.0      21425.0    60     15.59       516.36      3         15   \n",
              "4     7650.0       7650.0    36     13.66       260.20      2         12   \n",
              "5     9600.0       9600.0    36     13.66       326.53      2         12   \n",
              "\n",
              "   home_ownership  verification_status  purpose  ...  avg_cur_bal  \\\n",
              "0               3                    1        2  ...      29828.0   \n",
              "1               1                    0        1  ...       9536.0   \n",
              "2               3                    1        1  ...       4232.0   \n",
              "4               3                    1        2  ...       5857.0   \n",
              "5               3                    1        2  ...       3214.0   \n",
              "\n",
              "   bc_open_to_buy  bc_util  mo_sin_old_rev_tl_op  mo_sin_rcnt_rev_tl_op  \\\n",
              "0          9525.0      4.7                 244.0                    1.0   \n",
              "1          7599.0     41.5                 290.0                    1.0   \n",
              "2           324.0     97.8                 136.0                    7.0   \n",
              "4           332.0     93.2                 148.0                    8.0   \n",
              "5          6494.0     69.2                 265.0                   23.0   \n",
              "\n",
              "   mort_acc  num_actv_rev_tl  charged_off  log_annual_inc  fico_score  \n",
              "0       0.0              4.0            0        4.892100       752.0  \n",
              "1       1.0              9.0            1        4.763435       712.0  \n",
              "2       0.0              4.0            0        4.804827       687.0  \n",
              "4       0.0              4.0            1        4.698979       687.0  \n",
              "5       0.0              7.0            0        4.838855       682.0  \n",
              "\n",
              "[5 rows x 29 columns]"
            ],
            "text/html": [
              "\n",
              "  <div id=\"df-ef89f6eb-dac9-49e3-9a50-9d31716e1a36\">\n",
              "    <div class=\"colab-df-container\">\n",
              "      <div>\n",
              "<style scoped>\n",
              "    .dataframe tbody tr th:only-of-type {\n",
              "        vertical-align: middle;\n",
              "    }\n",
              "\n",
              "    .dataframe tbody tr th {\n",
              "        vertical-align: top;\n",
              "    }\n",
              "\n",
              "    .dataframe thead th {\n",
              "        text-align: right;\n",
              "    }\n",
              "</style>\n",
              "<table border=\"1\" class=\"dataframe\">\n",
              "  <thead>\n",
              "    <tr style=\"text-align: right;\">\n",
              "      <th></th>\n",
              "      <th>loan_amnt</th>\n",
              "      <th>funded_amnt</th>\n",
              "      <th>term</th>\n",
              "      <th>int_rate</th>\n",
              "      <th>installment</th>\n",
              "      <th>grade</th>\n",
              "      <th>sub_grade</th>\n",
              "      <th>home_ownership</th>\n",
              "      <th>verification_status</th>\n",
              "      <th>purpose</th>\n",
              "      <th>...</th>\n",
              "      <th>avg_cur_bal</th>\n",
              "      <th>bc_open_to_buy</th>\n",
              "      <th>bc_util</th>\n",
              "      <th>mo_sin_old_rev_tl_op</th>\n",
              "      <th>mo_sin_rcnt_rev_tl_op</th>\n",
              "      <th>mort_acc</th>\n",
              "      <th>num_actv_rev_tl</th>\n",
              "      <th>charged_off</th>\n",
              "      <th>log_annual_inc</th>\n",
              "      <th>fico_score</th>\n",
              "    </tr>\n",
              "  </thead>\n",
              "  <tbody>\n",
              "    <tr>\n",
              "      <th>0</th>\n",
              "      <td>15000.0</td>\n",
              "      <td>15000.0</td>\n",
              "      <td>60</td>\n",
              "      <td>12.39</td>\n",
              "      <td>336.64</td>\n",
              "      <td>2</td>\n",
              "      <td>10</td>\n",
              "      <td>3</td>\n",
              "      <td>1</td>\n",
              "      <td>2</td>\n",
              "      <td>...</td>\n",
              "      <td>29828.0</td>\n",
              "      <td>9525.0</td>\n",
              "      <td>4.7</td>\n",
              "      <td>244.0</td>\n",
              "      <td>1.0</td>\n",
              "      <td>0.0</td>\n",
              "      <td>4.0</td>\n",
              "      <td>0</td>\n",
              "      <td>4.892100</td>\n",
              "      <td>752.0</td>\n",
              "    </tr>\n",
              "    <tr>\n",
              "      <th>1</th>\n",
              "      <td>10400.0</td>\n",
              "      <td>10400.0</td>\n",
              "      <td>36</td>\n",
              "      <td>6.99</td>\n",
              "      <td>321.08</td>\n",
              "      <td>0</td>\n",
              "      <td>2</td>\n",
              "      <td>1</td>\n",
              "      <td>0</td>\n",
              "      <td>1</td>\n",
              "      <td>...</td>\n",
              "      <td>9536.0</td>\n",
              "      <td>7599.0</td>\n",
              "      <td>41.5</td>\n",
              "      <td>290.0</td>\n",
              "      <td>1.0</td>\n",
              "      <td>1.0</td>\n",
              "      <td>9.0</td>\n",
              "      <td>1</td>\n",
              "      <td>4.763435</td>\n",
              "      <td>712.0</td>\n",
              "    </tr>\n",
              "    <tr>\n",
              "      <th>2</th>\n",
              "      <td>21425.0</td>\n",
              "      <td>21425.0</td>\n",
              "      <td>60</td>\n",
              "      <td>15.59</td>\n",
              "      <td>516.36</td>\n",
              "      <td>3</td>\n",
              "      <td>15</td>\n",
              "      <td>3</td>\n",
              "      <td>1</td>\n",
              "      <td>1</td>\n",
              "      <td>...</td>\n",
              "      <td>4232.0</td>\n",
              "      <td>324.0</td>\n",
              "      <td>97.8</td>\n",
              "      <td>136.0</td>\n",
              "      <td>7.0</td>\n",
              "      <td>0.0</td>\n",
              "      <td>4.0</td>\n",
              "      <td>0</td>\n",
              "      <td>4.804827</td>\n",
              "      <td>687.0</td>\n",
              "    </tr>\n",
              "    <tr>\n",
              "      <th>4</th>\n",
              "      <td>7650.0</td>\n",
              "      <td>7650.0</td>\n",
              "      <td>36</td>\n",
              "      <td>13.66</td>\n",
              "      <td>260.20</td>\n",
              "      <td>2</td>\n",
              "      <td>12</td>\n",
              "      <td>3</td>\n",
              "      <td>1</td>\n",
              "      <td>2</td>\n",
              "      <td>...</td>\n",
              "      <td>5857.0</td>\n",
              "      <td>332.0</td>\n",
              "      <td>93.2</td>\n",
              "      <td>148.0</td>\n",
              "      <td>8.0</td>\n",
              "      <td>0.0</td>\n",
              "      <td>4.0</td>\n",
              "      <td>1</td>\n",
              "      <td>4.698979</td>\n",
              "      <td>687.0</td>\n",
              "    </tr>\n",
              "    <tr>\n",
              "      <th>5</th>\n",
              "      <td>9600.0</td>\n",
              "      <td>9600.0</td>\n",
              "      <td>36</td>\n",
              "      <td>13.66</td>\n",
              "      <td>326.53</td>\n",
              "      <td>2</td>\n",
              "      <td>12</td>\n",
              "      <td>3</td>\n",
              "      <td>1</td>\n",
              "      <td>2</td>\n",
              "      <td>...</td>\n",
              "      <td>3214.0</td>\n",
              "      <td>6494.0</td>\n",
              "      <td>69.2</td>\n",
              "      <td>265.0</td>\n",
              "      <td>23.0</td>\n",
              "      <td>0.0</td>\n",
              "      <td>7.0</td>\n",
              "      <td>0</td>\n",
              "      <td>4.838855</td>\n",
              "      <td>682.0</td>\n",
              "    </tr>\n",
              "  </tbody>\n",
              "</table>\n",
              "<p>5 rows × 29 columns</p>\n",
              "</div>\n",
              "      <button class=\"colab-df-convert\" onclick=\"convertToInteractive('df-ef89f6eb-dac9-49e3-9a50-9d31716e1a36')\"\n",
              "              title=\"Convert this dataframe to an interactive table.\"\n",
              "              style=\"display:none;\">\n",
              "        \n",
              "  <svg xmlns=\"http://www.w3.org/2000/svg\" height=\"24px\"viewBox=\"0 0 24 24\"\n",
              "       width=\"24px\">\n",
              "    <path d=\"M0 0h24v24H0V0z\" fill=\"none\"/>\n",
              "    <path d=\"M18.56 5.44l.94 2.06.94-2.06 2.06-.94-2.06-.94-.94-2.06-.94 2.06-2.06.94zm-11 1L8.5 8.5l.94-2.06 2.06-.94-2.06-.94L8.5 2.5l-.94 2.06-2.06.94zm10 10l.94 2.06.94-2.06 2.06-.94-2.06-.94-.94-2.06-.94 2.06-2.06.94z\"/><path d=\"M17.41 7.96l-1.37-1.37c-.4-.4-.92-.59-1.43-.59-.52 0-1.04.2-1.43.59L10.3 9.45l-7.72 7.72c-.78.78-.78 2.05 0 2.83L4 21.41c.39.39.9.59 1.41.59.51 0 1.02-.2 1.41-.59l7.78-7.78 2.81-2.81c.8-.78.8-2.07 0-2.86zM5.41 20L4 18.59l7.72-7.72 1.47 1.35L5.41 20z\"/>\n",
              "  </svg>\n",
              "      </button>\n",
              "      \n",
              "  <style>\n",
              "    .colab-df-container {\n",
              "      display:flex;\n",
              "      flex-wrap:wrap;\n",
              "      gap: 12px;\n",
              "    }\n",
              "\n",
              "    .colab-df-convert {\n",
              "      background-color: #E8F0FE;\n",
              "      border: none;\n",
              "      border-radius: 50%;\n",
              "      cursor: pointer;\n",
              "      display: none;\n",
              "      fill: #1967D2;\n",
              "      height: 32px;\n",
              "      padding: 0 0 0 0;\n",
              "      width: 32px;\n",
              "    }\n",
              "\n",
              "    .colab-df-convert:hover {\n",
              "      background-color: #E2EBFA;\n",
              "      box-shadow: 0px 1px 2px rgba(60, 64, 67, 0.3), 0px 1px 3px 1px rgba(60, 64, 67, 0.15);\n",
              "      fill: #174EA6;\n",
              "    }\n",
              "\n",
              "    [theme=dark] .colab-df-convert {\n",
              "      background-color: #3B4455;\n",
              "      fill: #D2E3FC;\n",
              "    }\n",
              "\n",
              "    [theme=dark] .colab-df-convert:hover {\n",
              "      background-color: #434B5C;\n",
              "      box-shadow: 0px 1px 3px 1px rgba(0, 0, 0, 0.15);\n",
              "      filter: drop-shadow(0px 1px 2px rgba(0, 0, 0, 0.3));\n",
              "      fill: #FFFFFF;\n",
              "    }\n",
              "  </style>\n",
              "\n",
              "      <script>\n",
              "        const buttonEl =\n",
              "          document.querySelector('#df-ef89f6eb-dac9-49e3-9a50-9d31716e1a36 button.colab-df-convert');\n",
              "        buttonEl.style.display =\n",
              "          google.colab.kernel.accessAllowed ? 'block' : 'none';\n",
              "\n",
              "        async function convertToInteractive(key) {\n",
              "          const element = document.querySelector('#df-ef89f6eb-dac9-49e3-9a50-9d31716e1a36');\n",
              "          const dataTable =\n",
              "            await google.colab.kernel.invokeFunction('convertToInteractive',\n",
              "                                                     [key], {});\n",
              "          if (!dataTable) return;\n",
              "\n",
              "          const docLinkHtml = 'Like what you see? Visit the ' +\n",
              "            '<a target=\"_blank\" href=https://colab.research.google.com/notebooks/data_table.ipynb>data table notebook</a>'\n",
              "            + ' to learn more about interactive tables.';\n",
              "          element.innerHTML = '';\n",
              "          dataTable['output_type'] = 'display_data';\n",
              "          await google.colab.output.renderOutput(dataTable, element);\n",
              "          const docLink = document.createElement('div');\n",
              "          docLink.innerHTML = docLinkHtml;\n",
              "          element.appendChild(docLink);\n",
              "        }\n",
              "      </script>\n",
              "    </div>\n",
              "  </div>\n",
              "  "
            ]
          },
          "metadata": {},
          "execution_count": 58
        }
      ]
    },
    {
      "cell_type": "code",
      "source": [
        "dataset.dtypes"
      ],
      "metadata": {
        "id": "r4QERanAzlAW",
        "outputId": "35b0c17e-1d77-49dd-a5dc-32591d801074",
        "colab": {
          "base_uri": "https://localhost:8080/"
        }
      },
      "execution_count": 59,
      "outputs": [
        {
          "output_type": "execute_result",
          "data": {
            "text/plain": [
              "loan_amnt                float64\n",
              "funded_amnt              float64\n",
              "term                        int8\n",
              "int_rate                 float64\n",
              "installment              float64\n",
              "grade                      int64\n",
              "sub_grade                  int64\n",
              "home_ownership             int64\n",
              "verification_status        int64\n",
              "purpose                    int64\n",
              "addr_state                 int64\n",
              "dti                      float64\n",
              "earliest_cr_line           int64\n",
              "open_acc                 float64\n",
              "revol_util               float64\n",
              "initial_list_status        int64\n",
              "last_pymnt_amnt          float64\n",
              "application_type           int64\n",
              "acc_open_past_24mths     float64\n",
              "avg_cur_bal              float64\n",
              "bc_open_to_buy           float64\n",
              "bc_util                  float64\n",
              "mo_sin_old_rev_tl_op     float64\n",
              "mo_sin_rcnt_rev_tl_op    float64\n",
              "mort_acc                 float64\n",
              "num_actv_rev_tl          float64\n",
              "charged_off                 int8\n",
              "log_annual_inc           float64\n",
              "fico_score               float64\n",
              "dtype: object"
            ]
          },
          "metadata": {},
          "execution_count": 59
        }
      ]
    },
    {
      "cell_type": "code",
      "source": [
        "dataset.shape"
      ],
      "metadata": {
        "id": "y9f8giGbzr4Z",
        "outputId": "a0520f76-3874-4db1-b6e4-2eca4820889c",
        "colab": {
          "base_uri": "https://localhost:8080/"
        }
      },
      "execution_count": 60,
      "outputs": [
        {
          "output_type": "execute_result",
          "data": {
            "text/plain": [
              "(86138, 29)"
            ]
          },
          "metadata": {},
          "execution_count": 60
        }
      ]
    },
    {
      "cell_type": "markdown",
      "source": [
        "#### 4.3 Sampling Data"
      ],
      "metadata": {
        "id": "SJ9p98en0alO"
      }
    },
    {
      "cell_type": "code",
      "source": [
        "dataset['charged_off'].value_counts()"
      ],
      "metadata": {
        "id": "RJM_CKyr0dcf",
        "outputId": "f724f1b2-822c-4d24-b33c-6ffc2ec1c4a2",
        "colab": {
          "base_uri": "https://localhost:8080/"
        }
      },
      "execution_count": 61,
      "outputs": [
        {
          "output_type": "execute_result",
          "data": {
            "text/plain": [
              "0    69982\n",
              "1    16156\n",
              "Name: charged_off, dtype: int64"
            ]
          },
          "metadata": {},
          "execution_count": 61
        }
      ]
    },
    {
      "cell_type": "code",
      "source": [
        "loanstatus_0 = dataset[dataset['charged_off']==0].sample(5500)\n",
        "loanstatus_1 = dataset[dataset['charged_off']==1].sample(5500)\n",
        "dataset = pd.concat([loanstatus_0, loanstatus_1])"
      ],
      "metadata": {
        "id": "dDTBdpbr0q9_"
      },
      "execution_count": 62,
      "outputs": []
    },
    {
      "cell_type": "code",
      "source": [
        "dataset = dataset.sample(frac=1)"
      ],
      "metadata": {
        "id": "ez2thGYD1MDk"
      },
      "execution_count": 63,
      "outputs": []
    },
    {
      "cell_type": "code",
      "source": [
        "dataset = dataset.reset_index(drop=True)"
      ],
      "metadata": {
        "id": "kSkfpY7B1OBk"
      },
      "execution_count": 64,
      "outputs": []
    },
    {
      "cell_type": "code",
      "source": [
        "dataset.head()"
      ],
      "metadata": {
        "id": "aavR_-CO2dYY",
        "outputId": "3955f915-24b4-48d2-f8e2-3fc1ea57e374",
        "colab": {
          "base_uri": "https://localhost:8080/",
          "height": 0
        }
      },
      "execution_count": 65,
      "outputs": [
        {
          "output_type": "execute_result",
          "data": {
            "text/plain": [
              "   loan_amnt  funded_amnt  term  int_rate  installment  grade  sub_grade  \\\n",
              "0     9100.0       9100.0    36     20.99       342.80      4         23   \n",
              "1    20000.0      20000.0    36     12.49       668.98      1          9   \n",
              "2    16000.0      16000.0    36     15.61       559.44      3         15   \n",
              "3    15000.0      15000.0    60     20.99       405.72      4         23   \n",
              "4    30000.0      30000.0    60     15.99       729.39      3         16   \n",
              "\n",
              "   home_ownership  verification_status  purpose  ...  avg_cur_bal  \\\n",
              "0               3                    1        2  ...       1253.0   \n",
              "1               1                    1        2  ...      10545.0   \n",
              "2               2                    1        8  ...       2392.0   \n",
              "3               2                    1        3  ...      21541.0   \n",
              "4               1                    2        2  ...      22979.0   \n",
              "\n",
              "   bc_open_to_buy  bc_util  mo_sin_old_rev_tl_op  mo_sin_rcnt_rev_tl_op  \\\n",
              "0          2302.0     66.1                 209.0                    3.0   \n",
              "1          1730.0     79.2                 251.0                    9.0   \n",
              "2          3429.0     82.5                 217.0                    6.0   \n",
              "3          3386.0     68.1                 131.0                    1.0   \n",
              "4         41030.0     43.6                 220.0                    2.0   \n",
              "\n",
              "   mort_acc  num_actv_rev_tl  charged_off  log_annual_inc  fico_score  \n",
              "0       0.0              6.0            1        4.698979       662.0  \n",
              "1       5.0              7.0            1        5.079185       662.0  \n",
              "2       0.0              9.0            0        4.812920       667.0  \n",
              "3       6.0              7.0            1        4.954247       692.0  \n",
              "4       2.0              6.0            1        4.963793       722.0  \n",
              "\n",
              "[5 rows x 29 columns]"
            ],
            "text/html": [
              "\n",
              "  <div id=\"df-d7958bbf-1575-408d-98d0-5d761b6c6eb1\">\n",
              "    <div class=\"colab-df-container\">\n",
              "      <div>\n",
              "<style scoped>\n",
              "    .dataframe tbody tr th:only-of-type {\n",
              "        vertical-align: middle;\n",
              "    }\n",
              "\n",
              "    .dataframe tbody tr th {\n",
              "        vertical-align: top;\n",
              "    }\n",
              "\n",
              "    .dataframe thead th {\n",
              "        text-align: right;\n",
              "    }\n",
              "</style>\n",
              "<table border=\"1\" class=\"dataframe\">\n",
              "  <thead>\n",
              "    <tr style=\"text-align: right;\">\n",
              "      <th></th>\n",
              "      <th>loan_amnt</th>\n",
              "      <th>funded_amnt</th>\n",
              "      <th>term</th>\n",
              "      <th>int_rate</th>\n",
              "      <th>installment</th>\n",
              "      <th>grade</th>\n",
              "      <th>sub_grade</th>\n",
              "      <th>home_ownership</th>\n",
              "      <th>verification_status</th>\n",
              "      <th>purpose</th>\n",
              "      <th>...</th>\n",
              "      <th>avg_cur_bal</th>\n",
              "      <th>bc_open_to_buy</th>\n",
              "      <th>bc_util</th>\n",
              "      <th>mo_sin_old_rev_tl_op</th>\n",
              "      <th>mo_sin_rcnt_rev_tl_op</th>\n",
              "      <th>mort_acc</th>\n",
              "      <th>num_actv_rev_tl</th>\n",
              "      <th>charged_off</th>\n",
              "      <th>log_annual_inc</th>\n",
              "      <th>fico_score</th>\n",
              "    </tr>\n",
              "  </thead>\n",
              "  <tbody>\n",
              "    <tr>\n",
              "      <th>0</th>\n",
              "      <td>9100.0</td>\n",
              "      <td>9100.0</td>\n",
              "      <td>36</td>\n",
              "      <td>20.99</td>\n",
              "      <td>342.80</td>\n",
              "      <td>4</td>\n",
              "      <td>23</td>\n",
              "      <td>3</td>\n",
              "      <td>1</td>\n",
              "      <td>2</td>\n",
              "      <td>...</td>\n",
              "      <td>1253.0</td>\n",
              "      <td>2302.0</td>\n",
              "      <td>66.1</td>\n",
              "      <td>209.0</td>\n",
              "      <td>3.0</td>\n",
              "      <td>0.0</td>\n",
              "      <td>6.0</td>\n",
              "      <td>1</td>\n",
              "      <td>4.698979</td>\n",
              "      <td>662.0</td>\n",
              "    </tr>\n",
              "    <tr>\n",
              "      <th>1</th>\n",
              "      <td>20000.0</td>\n",
              "      <td>20000.0</td>\n",
              "      <td>36</td>\n",
              "      <td>12.49</td>\n",
              "      <td>668.98</td>\n",
              "      <td>1</td>\n",
              "      <td>9</td>\n",
              "      <td>1</td>\n",
              "      <td>1</td>\n",
              "      <td>2</td>\n",
              "      <td>...</td>\n",
              "      <td>10545.0</td>\n",
              "      <td>1730.0</td>\n",
              "      <td>79.2</td>\n",
              "      <td>251.0</td>\n",
              "      <td>9.0</td>\n",
              "      <td>5.0</td>\n",
              "      <td>7.0</td>\n",
              "      <td>1</td>\n",
              "      <td>5.079185</td>\n",
              "      <td>662.0</td>\n",
              "    </tr>\n",
              "    <tr>\n",
              "      <th>2</th>\n",
              "      <td>16000.0</td>\n",
              "      <td>16000.0</td>\n",
              "      <td>36</td>\n",
              "      <td>15.61</td>\n",
              "      <td>559.44</td>\n",
              "      <td>3</td>\n",
              "      <td>15</td>\n",
              "      <td>2</td>\n",
              "      <td>1</td>\n",
              "      <td>8</td>\n",
              "      <td>...</td>\n",
              "      <td>2392.0</td>\n",
              "      <td>3429.0</td>\n",
              "      <td>82.5</td>\n",
              "      <td>217.0</td>\n",
              "      <td>6.0</td>\n",
              "      <td>0.0</td>\n",
              "      <td>9.0</td>\n",
              "      <td>0</td>\n",
              "      <td>4.812920</td>\n",
              "      <td>667.0</td>\n",
              "    </tr>\n",
              "    <tr>\n",
              "      <th>3</th>\n",
              "      <td>15000.0</td>\n",
              "      <td>15000.0</td>\n",
              "      <td>60</td>\n",
              "      <td>20.99</td>\n",
              "      <td>405.72</td>\n",
              "      <td>4</td>\n",
              "      <td>23</td>\n",
              "      <td>2</td>\n",
              "      <td>1</td>\n",
              "      <td>3</td>\n",
              "      <td>...</td>\n",
              "      <td>21541.0</td>\n",
              "      <td>3386.0</td>\n",
              "      <td>68.1</td>\n",
              "      <td>131.0</td>\n",
              "      <td>1.0</td>\n",
              "      <td>6.0</td>\n",
              "      <td>7.0</td>\n",
              "      <td>1</td>\n",
              "      <td>4.954247</td>\n",
              "      <td>692.0</td>\n",
              "    </tr>\n",
              "    <tr>\n",
              "      <th>4</th>\n",
              "      <td>30000.0</td>\n",
              "      <td>30000.0</td>\n",
              "      <td>60</td>\n",
              "      <td>15.99</td>\n",
              "      <td>729.39</td>\n",
              "      <td>3</td>\n",
              "      <td>16</td>\n",
              "      <td>1</td>\n",
              "      <td>2</td>\n",
              "      <td>2</td>\n",
              "      <td>...</td>\n",
              "      <td>22979.0</td>\n",
              "      <td>41030.0</td>\n",
              "      <td>43.6</td>\n",
              "      <td>220.0</td>\n",
              "      <td>2.0</td>\n",
              "      <td>2.0</td>\n",
              "      <td>6.0</td>\n",
              "      <td>1</td>\n",
              "      <td>4.963793</td>\n",
              "      <td>722.0</td>\n",
              "    </tr>\n",
              "  </tbody>\n",
              "</table>\n",
              "<p>5 rows × 29 columns</p>\n",
              "</div>\n",
              "      <button class=\"colab-df-convert\" onclick=\"convertToInteractive('df-d7958bbf-1575-408d-98d0-5d761b6c6eb1')\"\n",
              "              title=\"Convert this dataframe to an interactive table.\"\n",
              "              style=\"display:none;\">\n",
              "        \n",
              "  <svg xmlns=\"http://www.w3.org/2000/svg\" height=\"24px\"viewBox=\"0 0 24 24\"\n",
              "       width=\"24px\">\n",
              "    <path d=\"M0 0h24v24H0V0z\" fill=\"none\"/>\n",
              "    <path d=\"M18.56 5.44l.94 2.06.94-2.06 2.06-.94-2.06-.94-.94-2.06-.94 2.06-2.06.94zm-11 1L8.5 8.5l.94-2.06 2.06-.94-2.06-.94L8.5 2.5l-.94 2.06-2.06.94zm10 10l.94 2.06.94-2.06 2.06-.94-2.06-.94-.94-2.06-.94 2.06-2.06.94z\"/><path d=\"M17.41 7.96l-1.37-1.37c-.4-.4-.92-.59-1.43-.59-.52 0-1.04.2-1.43.59L10.3 9.45l-7.72 7.72c-.78.78-.78 2.05 0 2.83L4 21.41c.39.39.9.59 1.41.59.51 0 1.02-.2 1.41-.59l7.78-7.78 2.81-2.81c.8-.78.8-2.07 0-2.86zM5.41 20L4 18.59l7.72-7.72 1.47 1.35L5.41 20z\"/>\n",
              "  </svg>\n",
              "      </button>\n",
              "      \n",
              "  <style>\n",
              "    .colab-df-container {\n",
              "      display:flex;\n",
              "      flex-wrap:wrap;\n",
              "      gap: 12px;\n",
              "    }\n",
              "\n",
              "    .colab-df-convert {\n",
              "      background-color: #E8F0FE;\n",
              "      border: none;\n",
              "      border-radius: 50%;\n",
              "      cursor: pointer;\n",
              "      display: none;\n",
              "      fill: #1967D2;\n",
              "      height: 32px;\n",
              "      padding: 0 0 0 0;\n",
              "      width: 32px;\n",
              "    }\n",
              "\n",
              "    .colab-df-convert:hover {\n",
              "      background-color: #E2EBFA;\n",
              "      box-shadow: 0px 1px 2px rgba(60, 64, 67, 0.3), 0px 1px 3px 1px rgba(60, 64, 67, 0.15);\n",
              "      fill: #174EA6;\n",
              "    }\n",
              "\n",
              "    [theme=dark] .colab-df-convert {\n",
              "      background-color: #3B4455;\n",
              "      fill: #D2E3FC;\n",
              "    }\n",
              "\n",
              "    [theme=dark] .colab-df-convert:hover {\n",
              "      background-color: #434B5C;\n",
              "      box-shadow: 0px 1px 3px 1px rgba(0, 0, 0, 0.15);\n",
              "      filter: drop-shadow(0px 1px 2px rgba(0, 0, 0, 0.3));\n",
              "      fill: #FFFFFF;\n",
              "    }\n",
              "  </style>\n",
              "\n",
              "      <script>\n",
              "        const buttonEl =\n",
              "          document.querySelector('#df-d7958bbf-1575-408d-98d0-5d761b6c6eb1 button.colab-df-convert');\n",
              "        buttonEl.style.display =\n",
              "          google.colab.kernel.accessAllowed ? 'block' : 'none';\n",
              "\n",
              "        async function convertToInteractive(key) {\n",
              "          const element = document.querySelector('#df-d7958bbf-1575-408d-98d0-5d761b6c6eb1');\n",
              "          const dataTable =\n",
              "            await google.colab.kernel.invokeFunction('convertToInteractive',\n",
              "                                                     [key], {});\n",
              "          if (!dataTable) return;\n",
              "\n",
              "          const docLinkHtml = 'Like what you see? Visit the ' +\n",
              "            '<a target=\"_blank\" href=https://colab.research.google.com/notebooks/data_table.ipynb>data table notebook</a>'\n",
              "            + ' to learn more about interactive tables.';\n",
              "          element.innerHTML = '';\n",
              "          dataTable['output_type'] = 'display_data';\n",
              "          await google.colab.output.renderOutput(dataTable, element);\n",
              "          const docLink = document.createElement('div');\n",
              "          docLink.innerHTML = docLinkHtml;\n",
              "          element.appendChild(docLink);\n",
              "        }\n",
              "      </script>\n",
              "    </div>\n",
              "  </div>\n",
              "  "
            ]
          },
          "metadata": {},
          "execution_count": 65
        }
      ]
    },
    {
      "cell_type": "code",
      "source": [
        "dataset.dtypes.sort_index()"
      ],
      "metadata": {
        "id": "m0rNaLJN3BQw",
        "outputId": "aade59db-a0b4-40cd-9024-ee179ab47034",
        "colab": {
          "base_uri": "https://localhost:8080/"
        }
      },
      "execution_count": 66,
      "outputs": [
        {
          "output_type": "execute_result",
          "data": {
            "text/plain": [
              "acc_open_past_24mths     float64\n",
              "addr_state                 int64\n",
              "application_type           int64\n",
              "avg_cur_bal              float64\n",
              "bc_open_to_buy           float64\n",
              "bc_util                  float64\n",
              "charged_off                 int8\n",
              "dti                      float64\n",
              "earliest_cr_line           int64\n",
              "fico_score               float64\n",
              "funded_amnt              float64\n",
              "grade                      int64\n",
              "home_ownership             int64\n",
              "initial_list_status        int64\n",
              "installment              float64\n",
              "int_rate                 float64\n",
              "last_pymnt_amnt          float64\n",
              "loan_amnt                float64\n",
              "log_annual_inc           float64\n",
              "mo_sin_old_rev_tl_op     float64\n",
              "mo_sin_rcnt_rev_tl_op    float64\n",
              "mort_acc                 float64\n",
              "num_actv_rev_tl          float64\n",
              "open_acc                 float64\n",
              "purpose                    int64\n",
              "revol_util               float64\n",
              "sub_grade                  int64\n",
              "term                        int8\n",
              "verification_status        int64\n",
              "dtype: object"
            ]
          },
          "metadata": {},
          "execution_count": 66
        }
      ]
    },
    {
      "cell_type": "code",
      "source": [
        "test_dataset = pd.DataFrame(dataset)"
      ],
      "metadata": {
        "id": "37yUnpC63mV_"
      },
      "execution_count": 67,
      "outputs": []
    },
    {
      "cell_type": "code",
      "source": [
        "test_dataset['revol_util'] = test_dataset['revol_util'].fillna(test_dataset['revol_util'].mode()[0])"
      ],
      "metadata": {
        "id": "s19pM9uM4aaO"
      },
      "execution_count": 68,
      "outputs": []
    },
    {
      "cell_type": "code",
      "source": [
        "dataset.fillna(dataset.mean(), inplace=True)"
      ],
      "metadata": {
        "id": "4mv9OBUB56PA"
      },
      "execution_count": 69,
      "outputs": []
    },
    {
      "cell_type": "code",
      "source": [
        "dataset.isna().any()"
      ],
      "metadata": {
        "id": "fLEmcEEf5_KI",
        "outputId": "5847950b-164f-4aea-aca5-ad8c26730be1",
        "colab": {
          "base_uri": "https://localhost:8080/"
        }
      },
      "execution_count": 70,
      "outputs": [
        {
          "output_type": "execute_result",
          "data": {
            "text/plain": [
              "loan_amnt                False\n",
              "funded_amnt              False\n",
              "term                     False\n",
              "int_rate                 False\n",
              "installment              False\n",
              "grade                    False\n",
              "sub_grade                False\n",
              "home_ownership           False\n",
              "verification_status      False\n",
              "purpose                  False\n",
              "addr_state               False\n",
              "dti                      False\n",
              "earliest_cr_line         False\n",
              "open_acc                 False\n",
              "revol_util               False\n",
              "initial_list_status      False\n",
              "last_pymnt_amnt          False\n",
              "application_type         False\n",
              "acc_open_past_24mths     False\n",
              "avg_cur_bal              False\n",
              "bc_open_to_buy           False\n",
              "bc_util                  False\n",
              "mo_sin_old_rev_tl_op     False\n",
              "mo_sin_rcnt_rev_tl_op    False\n",
              "mort_acc                 False\n",
              "num_actv_rev_tl          False\n",
              "charged_off              False\n",
              "log_annual_inc           False\n",
              "fico_score               False\n",
              "dtype: bool"
            ]
          },
          "metadata": {},
          "execution_count": 70
        }
      ]
    },
    {
      "cell_type": "markdown",
      "source": [
        "#### 5. Evaluate Algorithms and Models\n",
        "\n",
        "##### 5.1. Train Test Split"
      ],
      "metadata": {
        "id": "hBpaC4uY9G0b"
      }
    },
    {
      "cell_type": "code",
      "source": [
        "Y = dataset['charged_off']\n",
        "X = dataset.loc[:, dataset.columns != 'charged_off']\n",
        "\n",
        "validation_size = 0.2\n",
        "seed = 7\n",
        "X_train, X_validation, Y_train, Y_validation = train_test_split(X, Y, test_size=validation_size, random_state=seed)"
      ],
      "metadata": {
        "id": "IpO9WW9s9Pou"
      },
      "execution_count": 82,
      "outputs": []
    },
    {
      "cell_type": "code",
      "source": [
        ""
      ],
      "metadata": {
        "id": "AYK2jXz_-dc3"
      },
      "execution_count": 71,
      "outputs": []
    },
    {
      "cell_type": "markdown",
      "source": [
        "##### 5.2. Test Options and Evaluation Metrics"
      ],
      "metadata": {
        "id": "wcKz1AiR-qB6"
      }
    },
    {
      "cell_type": "code",
      "source": [
        "# test options for classification\n",
        "num_folds = 10\n",
        "seed = 7\n",
        "#scoring = 'accuracy'\n",
        "#scoring ='precision'\n",
        "#scoring ='recall'\n",
        "scoring = 'roc_auc'"
      ],
      "metadata": {
        "id": "8QfdGm23-uCD"
      },
      "execution_count": 83,
      "outputs": []
    },
    {
      "cell_type": "code",
      "source": [
        ""
      ],
      "metadata": {
        "id": "pHnAzMj2-vns"
      },
      "execution_count": 72,
      "outputs": []
    },
    {
      "cell_type": "markdown",
      "source": [
        "#### 5.3. Compare Models and Algorithms\n",
        "\n",
        "##### Classification Models"
      ],
      "metadata": {
        "id": "USXbPuGn-6zx"
      }
    },
    {
      "cell_type": "code",
      "source": [
        "# spot check the algorithms\n",
        "models = []\n",
        "models.append(('LR', LogisticRegression()))\n",
        "models.append(('LDA', LinearDiscriminantAnalysis()))\n",
        "models.append(('KNN', KNeighborsClassifier()))\n",
        "models.append(('CART', DecisionTreeClassifier()))\n",
        "models.append(('NB', GaussianNB()))\n",
        "#Neural Network\n",
        "# models.append(('NN', MLPClassifier()))\n",
        "#Ensable Models \n",
        "# Boosting methods\n",
        "models.append(('AB', AdaBoostClassifier()))\n",
        "models.append(('GBM', GradientBoostingClassifier()))\n",
        "# Bagging methods\n",
        "models.append(('RF', RandomForestClassifier()))\n",
        "models.append(('ET', ExtraTreesClassifier()))\n",
        "\n",
        "models.append(('XGB', XGBClassifier()))"
      ],
      "metadata": {
        "id": "vhnj4YaV_Crf"
      },
      "execution_count": 84,
      "outputs": []
    },
    {
      "cell_type": "code",
      "source": [
        "models = []\n",
        "estimators = []\n",
        "estimators.append(('LOG', LogisticRegression()))\n",
        "estimators.append(('XGB', XGBClassifier()))\n",
        "estimators.append(('RF', GradientBoostingClassifier()))\n",
        "\n",
        "# models.append(('VOTE', VotingClassifier(estimators, voting='hard')))\n",
        "models.append(('STACK', StackingClassifier(estimators=estimators, final_estimator=LogisticRegression())))"
      ],
      "metadata": {
        "id": "UiIaTQj-ACa_"
      },
      "execution_count": 117,
      "outputs": []
    },
    {
      "cell_type": "markdown",
      "source": [
        "#### K-folds cross validation"
      ],
      "metadata": {
        "id": "xMqIn3N2Ap4m"
      }
    },
    {
      "cell_type": "code",
      "source": [
        "results = []\n",
        "names = []\n",
        "for name, model in models:\n",
        "    kfold = KFold(n_splits=num_folds, random_state=seed, shuffle=True)\n",
        "    cv_results = cross_val_score(model, X_train, Y_train, cv=kfold, scoring=scoring, error_score='raise', verbose=2)\n",
        "    results.append(cv_results)\n",
        "    names.append(name)\n",
        "    msg = \"%s: %f (%f)\" % (name, cv_results.mean(), cv_results.std())\n",
        "    print(msg)"
      ],
      "metadata": {
        "id": "ZsEVZXSGAsQs",
        "outputId": "adb085e9-bd8e-43d2-fda7-56b409d7a37d",
        "colab": {
          "base_uri": "https://localhost:8080/"
        }
      },
      "execution_count": 118,
      "outputs": [
        {
          "output_type": "stream",
          "name": "stderr",
          "text": [
            "[Parallel(n_jobs=1)]: Using backend SequentialBackend with 1 concurrent workers.\n"
          ]
        },
        {
          "output_type": "stream",
          "name": "stdout",
          "text": [
            "[CV] END .................................................... total time=  23.6s\n"
          ]
        },
        {
          "output_type": "stream",
          "name": "stderr",
          "text": [
            "[Parallel(n_jobs=1)]: Done   1 out of   1 | elapsed:   23.6s remaining:    0.0s\n"
          ]
        },
        {
          "output_type": "stream",
          "name": "stdout",
          "text": [
            "[CV] END .................................................... total time=  22.8s\n",
            "[CV] END .................................................... total time=  22.6s\n",
            "[CV] END .................................................... total time=  22.7s\n",
            "[CV] END .................................................... total time=  22.7s\n",
            "[CV] END .................................................... total time=  22.1s\n",
            "[CV] END .................................................... total time=  22.4s\n",
            "[CV] END .................................................... total time=  22.2s\n",
            "[CV] END .................................................... total time=  22.0s\n",
            "[CV] END .................................................... total time=  22.0s\n",
            "STACK: 0.937489 (0.011377)\n"
          ]
        },
        {
          "output_type": "stream",
          "name": "stderr",
          "text": [
            "[Parallel(n_jobs=1)]: Done  10 out of  10 | elapsed:  3.8min finished\n"
          ]
        }
      ]
    },
    {
      "cell_type": "code",
      "source": [
        "X_train.describe()"
      ],
      "metadata": {
        "id": "5Ma0aKKiAvPK",
        "outputId": "65bd227d-31d5-4312-9fea-a012288ca7d0",
        "colab": {
          "base_uri": "https://localhost:8080/",
          "height": 393
        }
      },
      "execution_count": 87,
      "outputs": [
        {
          "output_type": "execute_result",
          "data": {
            "text/plain": [
              "          loan_amnt   funded_amnt         term     int_rate  installment  \\\n",
              "count   8800.000000   8800.000000  8800.000000  8800.000000  8800.000000   \n",
              "mean   14477.093750  14477.093750    42.848182    13.968140   436.997967   \n",
              "std     8390.504272   8390.504272    10.838456     4.576789   247.958341   \n",
              "min     1000.000000   1000.000000    36.000000     6.000000    30.880000   \n",
              "25%     8000.000000   8000.000000    36.000000    10.990000   258.710000   \n",
              "50%    12075.000000  12075.000000    36.000000    13.660000   376.370000   \n",
              "75%    20000.000000  20000.000000    60.000000    16.990000   569.640000   \n",
              "max    35000.000000  35000.000000    60.000000    26.060000  1362.700000   \n",
              "\n",
              "             grade    sub_grade  home_ownership  verification_status  \\\n",
              "count  8800.000000  8800.000000     8800.000000          8800.000000   \n",
              "mean      2.047841    12.225568        1.970455             1.008750   \n",
              "std       1.406997     6.955685        0.944554             0.766998   \n",
              "min       0.000000     0.000000        1.000000             0.000000   \n",
              "25%       1.000000     7.000000        1.000000             0.000000   \n",
              "50%       2.000000    12.000000        2.000000             1.000000   \n",
              "75%       3.000000    17.000000        3.000000             2.000000   \n",
              "max       6.000000    34.000000        3.000000             2.000000   \n",
              "\n",
              "           purpose  ...  acc_open_past_24mths    avg_cur_bal  bc_open_to_buy  \\\n",
              "count  8800.000000  ...           8800.000000    8800.000000     8800.000000   \n",
              "mean      2.435114  ...              4.888636   12110.964432     8258.079295   \n",
              "std       1.928278  ...              3.202789   14744.344362    12857.816037   \n",
              "min       0.000000  ...              0.000000       5.000000        0.000000   \n",
              "25%       2.000000  ...              3.000000    2877.750000     1008.750000   \n",
              "50%       2.000000  ...              4.000000    6514.000000     3622.500000   \n",
              "75%       2.000000  ...              7.000000   16353.750000     9554.500000   \n",
              "max      11.000000  ...             50.000000  220516.000000   144865.000000   \n",
              "\n",
              "           bc_util  mo_sin_old_rev_tl_op  mo_sin_rcnt_rev_tl_op     mort_acc  \\\n",
              "count  8800.000000           8800.000000            8800.000000  8800.000000   \n",
              "mean     64.639936            181.152955              12.013409     1.641477   \n",
              "std      27.024523             94.229842              15.565524     2.038772   \n",
              "min       0.000000              5.000000               0.000000     0.000000   \n",
              "25%      45.475000            115.000000               3.000000     0.000000   \n",
              "50%      68.500000            164.000000               7.000000     1.000000   \n",
              "75%      88.200000            228.000000              14.000000     3.000000   \n",
              "max     180.300000            661.000000             372.000000    21.000000   \n",
              "\n",
              "       num_actv_rev_tl  log_annual_inc   fico_score  \n",
              "count      8800.000000     8800.000000  8800.000000  \n",
              "mean          5.987045        4.788290   691.839205  \n",
              "std           3.394515        0.230636    28.367219  \n",
              "min           0.000000        3.903144   662.000000  \n",
              "25%           4.000000        4.639810   672.000000  \n",
              "50%           5.000000        4.778158   682.000000  \n",
              "75%           8.000000        4.929424   707.000000  \n",
              "max          37.000000        6.875061   842.000000  \n",
              "\n",
              "[8 rows x 28 columns]"
            ],
            "text/html": [
              "\n",
              "  <div id=\"df-aa1f81d7-7ddf-4311-839d-aac865d2c9e8\">\n",
              "    <div class=\"colab-df-container\">\n",
              "      <div>\n",
              "<style scoped>\n",
              "    .dataframe tbody tr th:only-of-type {\n",
              "        vertical-align: middle;\n",
              "    }\n",
              "\n",
              "    .dataframe tbody tr th {\n",
              "        vertical-align: top;\n",
              "    }\n",
              "\n",
              "    .dataframe thead th {\n",
              "        text-align: right;\n",
              "    }\n",
              "</style>\n",
              "<table border=\"1\" class=\"dataframe\">\n",
              "  <thead>\n",
              "    <tr style=\"text-align: right;\">\n",
              "      <th></th>\n",
              "      <th>loan_amnt</th>\n",
              "      <th>funded_amnt</th>\n",
              "      <th>term</th>\n",
              "      <th>int_rate</th>\n",
              "      <th>installment</th>\n",
              "      <th>grade</th>\n",
              "      <th>sub_grade</th>\n",
              "      <th>home_ownership</th>\n",
              "      <th>verification_status</th>\n",
              "      <th>purpose</th>\n",
              "      <th>...</th>\n",
              "      <th>acc_open_past_24mths</th>\n",
              "      <th>avg_cur_bal</th>\n",
              "      <th>bc_open_to_buy</th>\n",
              "      <th>bc_util</th>\n",
              "      <th>mo_sin_old_rev_tl_op</th>\n",
              "      <th>mo_sin_rcnt_rev_tl_op</th>\n",
              "      <th>mort_acc</th>\n",
              "      <th>num_actv_rev_tl</th>\n",
              "      <th>log_annual_inc</th>\n",
              "      <th>fico_score</th>\n",
              "    </tr>\n",
              "  </thead>\n",
              "  <tbody>\n",
              "    <tr>\n",
              "      <th>count</th>\n",
              "      <td>8800.000000</td>\n",
              "      <td>8800.000000</td>\n",
              "      <td>8800.000000</td>\n",
              "      <td>8800.000000</td>\n",
              "      <td>8800.000000</td>\n",
              "      <td>8800.000000</td>\n",
              "      <td>8800.000000</td>\n",
              "      <td>8800.000000</td>\n",
              "      <td>8800.000000</td>\n",
              "      <td>8800.000000</td>\n",
              "      <td>...</td>\n",
              "      <td>8800.000000</td>\n",
              "      <td>8800.000000</td>\n",
              "      <td>8800.000000</td>\n",
              "      <td>8800.000000</td>\n",
              "      <td>8800.000000</td>\n",
              "      <td>8800.000000</td>\n",
              "      <td>8800.000000</td>\n",
              "      <td>8800.000000</td>\n",
              "      <td>8800.000000</td>\n",
              "      <td>8800.000000</td>\n",
              "    </tr>\n",
              "    <tr>\n",
              "      <th>mean</th>\n",
              "      <td>14477.093750</td>\n",
              "      <td>14477.093750</td>\n",
              "      <td>42.848182</td>\n",
              "      <td>13.968140</td>\n",
              "      <td>436.997967</td>\n",
              "      <td>2.047841</td>\n",
              "      <td>12.225568</td>\n",
              "      <td>1.970455</td>\n",
              "      <td>1.008750</td>\n",
              "      <td>2.435114</td>\n",
              "      <td>...</td>\n",
              "      <td>4.888636</td>\n",
              "      <td>12110.964432</td>\n",
              "      <td>8258.079295</td>\n",
              "      <td>64.639936</td>\n",
              "      <td>181.152955</td>\n",
              "      <td>12.013409</td>\n",
              "      <td>1.641477</td>\n",
              "      <td>5.987045</td>\n",
              "      <td>4.788290</td>\n",
              "      <td>691.839205</td>\n",
              "    </tr>\n",
              "    <tr>\n",
              "      <th>std</th>\n",
              "      <td>8390.504272</td>\n",
              "      <td>8390.504272</td>\n",
              "      <td>10.838456</td>\n",
              "      <td>4.576789</td>\n",
              "      <td>247.958341</td>\n",
              "      <td>1.406997</td>\n",
              "      <td>6.955685</td>\n",
              "      <td>0.944554</td>\n",
              "      <td>0.766998</td>\n",
              "      <td>1.928278</td>\n",
              "      <td>...</td>\n",
              "      <td>3.202789</td>\n",
              "      <td>14744.344362</td>\n",
              "      <td>12857.816037</td>\n",
              "      <td>27.024523</td>\n",
              "      <td>94.229842</td>\n",
              "      <td>15.565524</td>\n",
              "      <td>2.038772</td>\n",
              "      <td>3.394515</td>\n",
              "      <td>0.230636</td>\n",
              "      <td>28.367219</td>\n",
              "    </tr>\n",
              "    <tr>\n",
              "      <th>min</th>\n",
              "      <td>1000.000000</td>\n",
              "      <td>1000.000000</td>\n",
              "      <td>36.000000</td>\n",
              "      <td>6.000000</td>\n",
              "      <td>30.880000</td>\n",
              "      <td>0.000000</td>\n",
              "      <td>0.000000</td>\n",
              "      <td>1.000000</td>\n",
              "      <td>0.000000</td>\n",
              "      <td>0.000000</td>\n",
              "      <td>...</td>\n",
              "      <td>0.000000</td>\n",
              "      <td>5.000000</td>\n",
              "      <td>0.000000</td>\n",
              "      <td>0.000000</td>\n",
              "      <td>5.000000</td>\n",
              "      <td>0.000000</td>\n",
              "      <td>0.000000</td>\n",
              "      <td>0.000000</td>\n",
              "      <td>3.903144</td>\n",
              "      <td>662.000000</td>\n",
              "    </tr>\n",
              "    <tr>\n",
              "      <th>25%</th>\n",
              "      <td>8000.000000</td>\n",
              "      <td>8000.000000</td>\n",
              "      <td>36.000000</td>\n",
              "      <td>10.990000</td>\n",
              "      <td>258.710000</td>\n",
              "      <td>1.000000</td>\n",
              "      <td>7.000000</td>\n",
              "      <td>1.000000</td>\n",
              "      <td>0.000000</td>\n",
              "      <td>2.000000</td>\n",
              "      <td>...</td>\n",
              "      <td>3.000000</td>\n",
              "      <td>2877.750000</td>\n",
              "      <td>1008.750000</td>\n",
              "      <td>45.475000</td>\n",
              "      <td>115.000000</td>\n",
              "      <td>3.000000</td>\n",
              "      <td>0.000000</td>\n",
              "      <td>4.000000</td>\n",
              "      <td>4.639810</td>\n",
              "      <td>672.000000</td>\n",
              "    </tr>\n",
              "    <tr>\n",
              "      <th>50%</th>\n",
              "      <td>12075.000000</td>\n",
              "      <td>12075.000000</td>\n",
              "      <td>36.000000</td>\n",
              "      <td>13.660000</td>\n",
              "      <td>376.370000</td>\n",
              "      <td>2.000000</td>\n",
              "      <td>12.000000</td>\n",
              "      <td>2.000000</td>\n",
              "      <td>1.000000</td>\n",
              "      <td>2.000000</td>\n",
              "      <td>...</td>\n",
              "      <td>4.000000</td>\n",
              "      <td>6514.000000</td>\n",
              "      <td>3622.500000</td>\n",
              "      <td>68.500000</td>\n",
              "      <td>164.000000</td>\n",
              "      <td>7.000000</td>\n",
              "      <td>1.000000</td>\n",
              "      <td>5.000000</td>\n",
              "      <td>4.778158</td>\n",
              "      <td>682.000000</td>\n",
              "    </tr>\n",
              "    <tr>\n",
              "      <th>75%</th>\n",
              "      <td>20000.000000</td>\n",
              "      <td>20000.000000</td>\n",
              "      <td>60.000000</td>\n",
              "      <td>16.990000</td>\n",
              "      <td>569.640000</td>\n",
              "      <td>3.000000</td>\n",
              "      <td>17.000000</td>\n",
              "      <td>3.000000</td>\n",
              "      <td>2.000000</td>\n",
              "      <td>2.000000</td>\n",
              "      <td>...</td>\n",
              "      <td>7.000000</td>\n",
              "      <td>16353.750000</td>\n",
              "      <td>9554.500000</td>\n",
              "      <td>88.200000</td>\n",
              "      <td>228.000000</td>\n",
              "      <td>14.000000</td>\n",
              "      <td>3.000000</td>\n",
              "      <td>8.000000</td>\n",
              "      <td>4.929424</td>\n",
              "      <td>707.000000</td>\n",
              "    </tr>\n",
              "    <tr>\n",
              "      <th>max</th>\n",
              "      <td>35000.000000</td>\n",
              "      <td>35000.000000</td>\n",
              "      <td>60.000000</td>\n",
              "      <td>26.060000</td>\n",
              "      <td>1362.700000</td>\n",
              "      <td>6.000000</td>\n",
              "      <td>34.000000</td>\n",
              "      <td>3.000000</td>\n",
              "      <td>2.000000</td>\n",
              "      <td>11.000000</td>\n",
              "      <td>...</td>\n",
              "      <td>50.000000</td>\n",
              "      <td>220516.000000</td>\n",
              "      <td>144865.000000</td>\n",
              "      <td>180.300000</td>\n",
              "      <td>661.000000</td>\n",
              "      <td>372.000000</td>\n",
              "      <td>21.000000</td>\n",
              "      <td>37.000000</td>\n",
              "      <td>6.875061</td>\n",
              "      <td>842.000000</td>\n",
              "    </tr>\n",
              "  </tbody>\n",
              "</table>\n",
              "<p>8 rows × 28 columns</p>\n",
              "</div>\n",
              "      <button class=\"colab-df-convert\" onclick=\"convertToInteractive('df-aa1f81d7-7ddf-4311-839d-aac865d2c9e8')\"\n",
              "              title=\"Convert this dataframe to an interactive table.\"\n",
              "              style=\"display:none;\">\n",
              "        \n",
              "  <svg xmlns=\"http://www.w3.org/2000/svg\" height=\"24px\"viewBox=\"0 0 24 24\"\n",
              "       width=\"24px\">\n",
              "    <path d=\"M0 0h24v24H0V0z\" fill=\"none\"/>\n",
              "    <path d=\"M18.56 5.44l.94 2.06.94-2.06 2.06-.94-2.06-.94-.94-2.06-.94 2.06-2.06.94zm-11 1L8.5 8.5l.94-2.06 2.06-.94-2.06-.94L8.5 2.5l-.94 2.06-2.06.94zm10 10l.94 2.06.94-2.06 2.06-.94-2.06-.94-.94-2.06-.94 2.06-2.06.94z\"/><path d=\"M17.41 7.96l-1.37-1.37c-.4-.4-.92-.59-1.43-.59-.52 0-1.04.2-1.43.59L10.3 9.45l-7.72 7.72c-.78.78-.78 2.05 0 2.83L4 21.41c.39.39.9.59 1.41.59.51 0 1.02-.2 1.41-.59l7.78-7.78 2.81-2.81c.8-.78.8-2.07 0-2.86zM5.41 20L4 18.59l7.72-7.72 1.47 1.35L5.41 20z\"/>\n",
              "  </svg>\n",
              "      </button>\n",
              "      \n",
              "  <style>\n",
              "    .colab-df-container {\n",
              "      display:flex;\n",
              "      flex-wrap:wrap;\n",
              "      gap: 12px;\n",
              "    }\n",
              "\n",
              "    .colab-df-convert {\n",
              "      background-color: #E8F0FE;\n",
              "      border: none;\n",
              "      border-radius: 50%;\n",
              "      cursor: pointer;\n",
              "      display: none;\n",
              "      fill: #1967D2;\n",
              "      height: 32px;\n",
              "      padding: 0 0 0 0;\n",
              "      width: 32px;\n",
              "    }\n",
              "\n",
              "    .colab-df-convert:hover {\n",
              "      background-color: #E2EBFA;\n",
              "      box-shadow: 0px 1px 2px rgba(60, 64, 67, 0.3), 0px 1px 3px 1px rgba(60, 64, 67, 0.15);\n",
              "      fill: #174EA6;\n",
              "    }\n",
              "\n",
              "    [theme=dark] .colab-df-convert {\n",
              "      background-color: #3B4455;\n",
              "      fill: #D2E3FC;\n",
              "    }\n",
              "\n",
              "    [theme=dark] .colab-df-convert:hover {\n",
              "      background-color: #434B5C;\n",
              "      box-shadow: 0px 1px 3px 1px rgba(0, 0, 0, 0.15);\n",
              "      filter: drop-shadow(0px 1px 2px rgba(0, 0, 0, 0.3));\n",
              "      fill: #FFFFFF;\n",
              "    }\n",
              "  </style>\n",
              "\n",
              "      <script>\n",
              "        const buttonEl =\n",
              "          document.querySelector('#df-aa1f81d7-7ddf-4311-839d-aac865d2c9e8 button.colab-df-convert');\n",
              "        buttonEl.style.display =\n",
              "          google.colab.kernel.accessAllowed ? 'block' : 'none';\n",
              "\n",
              "        async function convertToInteractive(key) {\n",
              "          const element = document.querySelector('#df-aa1f81d7-7ddf-4311-839d-aac865d2c9e8');\n",
              "          const dataTable =\n",
              "            await google.colab.kernel.invokeFunction('convertToInteractive',\n",
              "                                                     [key], {});\n",
              "          if (!dataTable) return;\n",
              "\n",
              "          const docLinkHtml = 'Like what you see? Visit the ' +\n",
              "            '<a target=\"_blank\" href=https://colab.research.google.com/notebooks/data_table.ipynb>data table notebook</a>'\n",
              "            + ' to learn more about interactive tables.';\n",
              "          element.innerHTML = '';\n",
              "          dataTable['output_type'] = 'display_data';\n",
              "          await google.colab.output.renderOutput(dataTable, element);\n",
              "          const docLink = document.createElement('div');\n",
              "          docLink.innerHTML = docLinkHtml;\n",
              "          element.appendChild(docLink);\n",
              "        }\n",
              "      </script>\n",
              "    </div>\n",
              "  </div>\n",
              "  "
            ]
          },
          "metadata": {},
          "execution_count": 87
        }
      ]
    },
    {
      "cell_type": "code",
      "source": [
        "# compare algorithms\n",
        "fig = pyplot.figure()\n",
        "fig.suptitle('Algorithm Comparison')\n",
        "ax = fig.add_subplot(111)\n",
        "pyplot.boxplot(results)\n",
        "ax.set_xticklabels(names)\n",
        "fig.set_size_inches(15,8)\n",
        "pyplot.show()"
      ],
      "metadata": {
        "id": "0UDZp5vDBA3c",
        "outputId": "3da6f6db-7988-42b8-f81e-1ea0b210dce9",
        "colab": {
          "base_uri": "https://localhost:8080/",
          "height": 540
        }
      },
      "execution_count": 88,
      "outputs": [
        {
          "output_type": "display_data",
          "data": {
            "text/plain": [
              "<Figure size 1080x576 with 1 Axes>"
            ],
            "image/png": "[encoded data removed]"
          },
          "metadata": {
            "needs_background": "light"
          }
        }
      ]
    },
    {
      "cell_type": "code",
      "source": [
        ""
      ],
      "metadata": {
        "id": "cn490pT5CSFX"
      },
      "execution_count": null,
      "outputs": []
    },
    {
      "cell_type": "markdown",
      "source": [
        "#### 6. Model Tuning and Grid search"
      ],
      "metadata": {
        "id": "9T-DLr1iDsiN"
      }
    },
    {
      "cell_type": "code",
      "source": [
        "model = GradientBoostingClassifier()\n",
        "param_grid = {'n_estimators': [20, 180], 'max_depth': [3,5]}\n",
        "kfold = KFold(n_splits=num_folds, random_state=seed, shuffle=True)\n",
        "grid = GridSearchCV(estimator=model, param_grid=param_grid, scoring=scoring, cv=kfold)\n",
        "grid_result = grid.fit(X_train, Y_train)"
      ],
      "metadata": {
        "id": "hCc6GmcrDzMG"
      },
      "execution_count": 91,
      "outputs": []
    },
    {
      "cell_type": "code",
      "source": [
        "grid_result.best_params_"
      ],
      "metadata": {
        "id": "_ji6pfzVE2dA",
        "outputId": "2a51faed-25c7-43ea-db2a-84b9a67e694f",
        "colab": {
          "base_uri": "https://localhost:8080/"
        }
      },
      "execution_count": 93,
      "outputs": [
        {
          "output_type": "execute_result",
          "data": {
            "text/plain": [
              "{'max_depth': 5, 'n_estimators': 180}"
            ]
          },
          "metadata": {},
          "execution_count": 93
        }
      ]
    },
    {
      "cell_type": "markdown",
      "source": [
        "#### 7. Finalise the Model"
      ],
      "metadata": {
        "id": "pEAliMjjGSCz"
      }
    },
    {
      "cell_type": "code",
      "source": [
        "model = GradientBoostingClassifier(max_depth = 5, n_estimators = 180)\n",
        "model.fit(X_train, Y_train)"
      ],
      "metadata": {
        "id": "2gZi7z2wGYNT",
        "outputId": "1364b12e-bf45-4d84-cb49-2b851b99ffb9",
        "colab": {
          "base_uri": "https://localhost:8080/"
        }
      },
      "execution_count": 94,
      "outputs": [
        {
          "output_type": "execute_result",
          "data": {
            "text/plain": [
              "GradientBoostingClassifier(max_depth=5, n_estimators=180)"
            ]
          },
          "metadata": {},
          "execution_count": 94
        }
      ]
    },
    {
      "cell_type": "code",
      "source": [
        "result = model.predict(X_validation)\n",
        "print(accuracy_score(Y_validation, result))\n",
        "print(confusion_matrix(Y_validation, result))\n",
        "print(classification_report(Y_validation, result))"
      ],
      "metadata": {
        "id": "5dPNZHOJG0Li",
        "outputId": "463b684b-9454-4bdb-ebf5-d87e321642c4",
        "colab": {
          "base_uri": "https://localhost:8080/"
        }
      },
      "execution_count": 95,
      "outputs": [
        {
          "output_type": "stream",
          "name": "stdout",
          "text": [
            "0.8486363636363636\n",
            "[[ 864  225]\n",
            " [ 108 1003]]\n",
            "              precision    recall  f1-score   support\n",
            "\n",
            "           0       0.89      0.79      0.84      1089\n",
            "           1       0.82      0.90      0.86      1111\n",
            "\n",
            "    accuracy                           0.85      2200\n",
            "   macro avg       0.85      0.85      0.85      2200\n",
            "weighted avg       0.85      0.85      0.85      2200\n",
            "\n"
          ]
        }
      ]
    },
    {
      "cell_type": "code",
      "source": [
        "pd.DataFrame(model.feature_importances_, index=X.columns).nlargest(10, 0).plot(kind='barh', figsize=(12,12))"
      ],
      "metadata": {
        "id": "hx-7hUKYHVW0",
        "outputId": "a449e287-e995-411b-fc5a-5188b50f2c6e",
        "colab": {
          "base_uri": "https://localhost:8080/",
          "height": 718
        }
      },
      "execution_count": 104,
      "outputs": [
        {
          "output_type": "execute_result",
          "data": {
            "text/plain": [
              "<matplotlib.axes._subplots.AxesSubplot at 0x7f33581ac610>"
            ]
          },
          "metadata": {},
          "execution_count": 104
        },
        {
          "output_type": "display_data",
          "data": {
            "text/plain": [
              "<Figure size 864x864 with 1 Axes>"
            ],
            "image/png": "[encoded data removed]"
          },
          "metadata": {
            "needs_background": "light"
          }
        }
      ]
    },
    {
      "cell_type": "code",
      "source": [
        ""
      ],
      "metadata": {
        "id": "Uq4dMykmHq7f"
      },
      "execution_count": null,
      "outputs": []
    }
  ]
}