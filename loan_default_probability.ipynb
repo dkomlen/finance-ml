{
  "nbformat": 4,
  "nbformat_minor": 0,
  "metadata": {
    "colab": {
      "name": "loan_default_probability.ipynb",
      "provenance": [],
      "authorship_tag": "ABX9TyM7GD1eiu4+y3MmJr32uMzc",
      "include_colab_link": true
    },
    "kernelspec": {
      "name": "python3",
      "display_name": "Python 3"
    },
    "language_info": {
      "name": "python"
    }
  },
  "cells": [
    {
      "cell_type": "markdown",
      "metadata": {
        "id": "view-in-github",
        "colab_type": "text"
      },
      "source": [
        "<a href=\"https://colab.research.google.com/github/dkomlen/finance-ml/blob/main/loan_default_probability.ipynb\" target=\"_parent\"><img src=\"https://colab.research.google.com/assets/colab-badge.svg\" alt=\"Open In Colab\"/></a>"
      ]
    },
    {
      "cell_type": "code",
      "execution_count": 2,
      "metadata": {
        "id": "pj8EU1_o3v_F"
      },
      "outputs": [],
      "source": [
        "# Load libraries\n",
        "import numpy as np\n",
        "import pandas as pd\n",
        "from matplotlib import pyplot\n",
        "from pandas import read_csv, set_option\n",
        "from pandas.plotting import scatter_matrix\n",
        "import seaborn as sns\n",
        "from sklearn.preprocessing import StandardScaler\n",
        "from sklearn.model_selection import train_test_split, KFold, cross_val_score, GridSearchCV\n",
        "from sklearn.linear_model import LogisticRegression\n",
        "from sklearn.tree import DecisionTreeClassifier\n",
        "from sklearn.neighbors import KNeighborsClassifier\n",
        "from sklearn.discriminant_analysis import LinearDiscriminantAnalysis\n",
        "from sklearn.naive_bayes import GaussianNB\n",
        "from sklearn.svm import SVC\n",
        "from sklearn.neural_network import MLPClassifier\n",
        "from sklearn.pipeline import Pipeline\n",
        "from sklearn.ensemble import AdaBoostClassifier, GradientBoostingClassifier, RandomForestClassifier, ExtraTreesClassifier\n",
        "from sklearn.metrics import classification_report, confusion_matrix, accuracy_score\n",
        "\n",
        "#Libraries for Deep Learning Models\n",
        "from keras.models import Sequential\n",
        "from keras.layers import Dense\n",
        "from keras.wrappers.scikit_learn import KerasClassifier\n",
        "from tensorflow.keras.optimizers import SGD\n",
        "\n",
        "#Libraries for Saving the Model\n",
        "from pickle import dump\n",
        "from pickle import load"
      ]
    },
    {
      "cell_type": "markdown",
      "source": [
        "#### 2.2 Loading the data"
      ],
      "metadata": {
        "id": "8xgKXIF95UDk"
      }
    },
    {
      "cell_type": "code",
      "source": [
        "loans = pd.read_csv('https://github.com/tatsath/fin-ml/raw/master/Chapter%206%20-%20Sup.%20Learning%20-%20Classification%20models/CaseStudy2%20-%20Loan%20Default%20Probability/LoansData_sample.csv.gz', compression='gzip', encoding='utf-8')"
      ],
      "metadata": {
        "colab": {
          "base_uri": "https://localhost:8080/"
        },
        "id": "0oOP1dpo30Q0",
        "outputId": "2f16c46d-8c4a-46e9-b658-2a265982b7e9"
      },
      "execution_count": 5,
      "outputs": [
        {
          "output_type": "stream",
          "name": "stderr",
          "text": [
            "/usr/local/lib/python3.7/dist-packages/IPython/core/interactiveshell.py:2882: DtypeWarning: Columns (19) have mixed types.Specify dtype option on import or set low_memory=False.\n",
            "  exec(code_obj, self.user_global_ns, self.user_ns)\n"
          ]
        }
      ]
    },
    {
      "cell_type": "code",
      "source": [
        "dataset = loans"
      ],
      "metadata": {
        "id": "6LAl_25i4kdc"
      },
      "execution_count": 6,
      "outputs": []
    },
    {
      "cell_type": "code",
      "source": [
        "#Disable the warnings\n",
        "import warnings\n",
        "warnings.filterwarnings('ignore')"
      ],
      "metadata": {
        "id": "8PsZUSrE4nlP"
      },
      "execution_count": 7,
      "outputs": []
    },
    {
      "cell_type": "code",
      "source": [
        "type(dataset)"
      ],
      "metadata": {
        "colab": {
          "base_uri": "https://localhost:8080/"
        },
        "id": "7wh17mel4yW5",
        "outputId": "c6282900-5516-4781-91bf-95c129dcae8b"
      },
      "execution_count": 8,
      "outputs": [
        {
          "output_type": "execute_result",
          "data": {
            "text/plain": [
              "pandas.core.frame.DataFrame"
            ]
          },
          "metadata": {},
          "execution_count": 8
        }
      ]
    },
    {
      "cell_type": "code",
      "source": [
        "dataset.head()"
      ],
      "metadata": {
        "colab": {
          "base_uri": "https://localhost:8080/",
          "height": 403
        },
        "id": "40Ap2ZoH42f6",
        "outputId": "f3d9e462-bf90-4866-d767-d54411925f46"
      },
      "execution_count": 9,
      "outputs": [
        {
          "output_type": "execute_result",
          "data": {
            "text/plain": [
              "   Unnamed: 0        id  member_id  loan_amnt  funded_amnt  funded_amnt_inv  \\\n",
              "0           0  38098114        NaN    15000.0      15000.0          15000.0   \n",
              "1           1  36805548        NaN    10400.0      10400.0          10400.0   \n",
              "2           2  37842129        NaN    21425.0      21425.0          21425.0   \n",
              "3           3  37612354        NaN    12800.0      12800.0          12800.0   \n",
              "4           4  37662224        NaN     7650.0       7650.0           7650.0   \n",
              "\n",
              "         term  int_rate  installment grade  ...  \\\n",
              "0   60 months     12.39       336.64     C  ...   \n",
              "1   36 months      6.99       321.08     A  ...   \n",
              "2   60 months     15.59       516.36     D  ...   \n",
              "3   60 months     17.14       319.08     D  ...   \n",
              "4   36 months     13.66       260.20     C  ...   \n",
              "\n",
              "  hardship_payoff_balance_amount hardship_last_payment_amount  \\\n",
              "0                            NaN                          NaN   \n",
              "1                            NaN                          NaN   \n",
              "2                            NaN                          NaN   \n",
              "3                            NaN                          NaN   \n",
              "4                            NaN                          NaN   \n",
              "\n",
              "  disbursement_method debt_settlement_flag  debt_settlement_flag_date  \\\n",
              "0                Cash                    N                        NaN   \n",
              "1                Cash                    N                        NaN   \n",
              "2                Cash                    N                        NaN   \n",
              "3                Cash                    N                        NaN   \n",
              "4                Cash                    N                        NaN   \n",
              "\n",
              "  settlement_status settlement_date settlement_amount settlement_percentage  \\\n",
              "0               NaN             NaN               NaN                   NaN   \n",
              "1               NaN             NaN               NaN                   NaN   \n",
              "2               NaN             NaN               NaN                   NaN   \n",
              "3               NaN             NaN               NaN                   NaN   \n",
              "4               NaN             NaN               NaN                   NaN   \n",
              "\n",
              "  settlement_term  \n",
              "0             NaN  \n",
              "1             NaN  \n",
              "2             NaN  \n",
              "3             NaN  \n",
              "4             NaN  \n",
              "\n",
              "[5 rows x 151 columns]"
            ],
            "text/html": [
              "\n",
              "  <div id=\"df-92e1a285-2bb7-4ce7-a0ca-8b7549145260\">\n",
              "    <div class=\"colab-df-container\">\n",
              "      <div>\n",
              "<style scoped>\n",
              "    .dataframe tbody tr th:only-of-type {\n",
              "        vertical-align: middle;\n",
              "    }\n",
              "\n",
              "    .dataframe tbody tr th {\n",
              "        vertical-align: top;\n",
              "    }\n",
              "\n",
              "    .dataframe thead th {\n",
              "        text-align: right;\n",
              "    }\n",
              "</style>\n",
              "<table border=\"1\" class=\"dataframe\">\n",
              "  <thead>\n",
              "    <tr style=\"text-align: right;\">\n",
              "      <th></th>\n",
              "      <th>Unnamed: 0</th>\n",
              "      <th>id</th>\n",
              "      <th>member_id</th>\n",
              "      <th>loan_amnt</th>\n",
              "      <th>funded_amnt</th>\n",
              "      <th>funded_amnt_inv</th>\n",
              "      <th>term</th>\n",
              "      <th>int_rate</th>\n",
              "      <th>installment</th>\n",
              "      <th>grade</th>\n",
              "      <th>...</th>\n",
              "      <th>hardship_payoff_balance_amount</th>\n",
              "      <th>hardship_last_payment_amount</th>\n",
              "      <th>disbursement_method</th>\n",
              "      <th>debt_settlement_flag</th>\n",
              "      <th>debt_settlement_flag_date</th>\n",
              "      <th>settlement_status</th>\n",
              "      <th>settlement_date</th>\n",
              "      <th>settlement_amount</th>\n",
              "      <th>settlement_percentage</th>\n",
              "      <th>settlement_term</th>\n",
              "    </tr>\n",
              "  </thead>\n",
              "  <tbody>\n",
              "    <tr>\n",
              "      <th>0</th>\n",
              "      <td>0</td>\n",
              "      <td>38098114</td>\n",
              "      <td>NaN</td>\n",
              "      <td>15000.0</td>\n",
              "      <td>15000.0</td>\n",
              "      <td>15000.0</td>\n",
              "      <td>60 months</td>\n",
              "      <td>12.39</td>\n",
              "      <td>336.64</td>\n",
              "      <td>C</td>\n",
              "      <td>...</td>\n",
              "      <td>NaN</td>\n",
              "      <td>NaN</td>\n",
              "      <td>Cash</td>\n",
              "      <td>N</td>\n",
              "      <td>NaN</td>\n",
              "      <td>NaN</td>\n",
              "      <td>NaN</td>\n",
              "      <td>NaN</td>\n",
              "      <td>NaN</td>\n",
              "      <td>NaN</td>\n",
              "    </tr>\n",
              "    <tr>\n",
              "      <th>1</th>\n",
              "      <td>1</td>\n",
              "      <td>36805548</td>\n",
              "      <td>NaN</td>\n",
              "      <td>10400.0</td>\n",
              "      <td>10400.0</td>\n",
              "      <td>10400.0</td>\n",
              "      <td>36 months</td>\n",
              "      <td>6.99</td>\n",
              "      <td>321.08</td>\n",
              "      <td>A</td>\n",
              "      <td>...</td>\n",
              "      <td>NaN</td>\n",
              "      <td>NaN</td>\n",
              "      <td>Cash</td>\n",
              "      <td>N</td>\n",
              "      <td>NaN</td>\n",
              "      <td>NaN</td>\n",
              "      <td>NaN</td>\n",
              "      <td>NaN</td>\n",
              "      <td>NaN</td>\n",
              "      <td>NaN</td>\n",
              "    </tr>\n",
              "    <tr>\n",
              "      <th>2</th>\n",
              "      <td>2</td>\n",
              "      <td>37842129</td>\n",
              "      <td>NaN</td>\n",
              "      <td>21425.0</td>\n",
              "      <td>21425.0</td>\n",
              "      <td>21425.0</td>\n",
              "      <td>60 months</td>\n",
              "      <td>15.59</td>\n",
              "      <td>516.36</td>\n",
              "      <td>D</td>\n",
              "      <td>...</td>\n",
              "      <td>NaN</td>\n",
              "      <td>NaN</td>\n",
              "      <td>Cash</td>\n",
              "      <td>N</td>\n",
              "      <td>NaN</td>\n",
              "      <td>NaN</td>\n",
              "      <td>NaN</td>\n",
              "      <td>NaN</td>\n",
              "      <td>NaN</td>\n",
              "      <td>NaN</td>\n",
              "    </tr>\n",
              "    <tr>\n",
              "      <th>3</th>\n",
              "      <td>3</td>\n",
              "      <td>37612354</td>\n",
              "      <td>NaN</td>\n",
              "      <td>12800.0</td>\n",
              "      <td>12800.0</td>\n",
              "      <td>12800.0</td>\n",
              "      <td>60 months</td>\n",
              "      <td>17.14</td>\n",
              "      <td>319.08</td>\n",
              "      <td>D</td>\n",
              "      <td>...</td>\n",
              "      <td>NaN</td>\n",
              "      <td>NaN</td>\n",
              "      <td>Cash</td>\n",
              "      <td>N</td>\n",
              "      <td>NaN</td>\n",
              "      <td>NaN</td>\n",
              "      <td>NaN</td>\n",
              "      <td>NaN</td>\n",
              "      <td>NaN</td>\n",
              "      <td>NaN</td>\n",
              "    </tr>\n",
              "    <tr>\n",
              "      <th>4</th>\n",
              "      <td>4</td>\n",
              "      <td>37662224</td>\n",
              "      <td>NaN</td>\n",
              "      <td>7650.0</td>\n",
              "      <td>7650.0</td>\n",
              "      <td>7650.0</td>\n",
              "      <td>36 months</td>\n",
              "      <td>13.66</td>\n",
              "      <td>260.20</td>\n",
              "      <td>C</td>\n",
              "      <td>...</td>\n",
              "      <td>NaN</td>\n",
              "      <td>NaN</td>\n",
              "      <td>Cash</td>\n",
              "      <td>N</td>\n",
              "      <td>NaN</td>\n",
              "      <td>NaN</td>\n",
              "      <td>NaN</td>\n",
              "      <td>NaN</td>\n",
              "      <td>NaN</td>\n",
              "      <td>NaN</td>\n",
              "    </tr>\n",
              "  </tbody>\n",
              "</table>\n",
              "<p>5 rows × 151 columns</p>\n",
              "</div>\n",
              "      <button class=\"colab-df-convert\" onclick=\"convertToInteractive('df-92e1a285-2bb7-4ce7-a0ca-8b7549145260')\"\n",
              "              title=\"Convert this dataframe to an interactive table.\"\n",
              "              style=\"display:none;\">\n",
              "        \n",
              "  <svg xmlns=\"http://www.w3.org/2000/svg\" height=\"24px\"viewBox=\"0 0 24 24\"\n",
              "       width=\"24px\">\n",
              "    <path d=\"M0 0h24v24H0V0z\" fill=\"none\"/>\n",
              "    <path d=\"M18.56 5.44l.94 2.06.94-2.06 2.06-.94-2.06-.94-.94-2.06-.94 2.06-2.06.94zm-11 1L8.5 8.5l.94-2.06 2.06-.94-2.06-.94L8.5 2.5l-.94 2.06-2.06.94zm10 10l.94 2.06.94-2.06 2.06-.94-2.06-.94-.94-2.06-.94 2.06-2.06.94z\"/><path d=\"M17.41 7.96l-1.37-1.37c-.4-.4-.92-.59-1.43-.59-.52 0-1.04.2-1.43.59L10.3 9.45l-7.72 7.72c-.78.78-.78 2.05 0 2.83L4 21.41c.39.39.9.59 1.41.59.51 0 1.02-.2 1.41-.59l7.78-7.78 2.81-2.81c.8-.78.8-2.07 0-2.86zM5.41 20L4 18.59l7.72-7.72 1.47 1.35L5.41 20z\"/>\n",
              "  </svg>\n",
              "      </button>\n",
              "      \n",
              "  <style>\n",
              "    .colab-df-container {\n",
              "      display:flex;\n",
              "      flex-wrap:wrap;\n",
              "      gap: 12px;\n",
              "    }\n",
              "\n",
              "    .colab-df-convert {\n",
              "      background-color: #E8F0FE;\n",
              "      border: none;\n",
              "      border-radius: 50%;\n",
              "      cursor: pointer;\n",
              "      display: none;\n",
              "      fill: #1967D2;\n",
              "      height: 32px;\n",
              "      padding: 0 0 0 0;\n",
              "      width: 32px;\n",
              "    }\n",
              "\n",
              "    .colab-df-convert:hover {\n",
              "      background-color: #E2EBFA;\n",
              "      box-shadow: 0px 1px 2px rgba(60, 64, 67, 0.3), 0px 1px 3px 1px rgba(60, 64, 67, 0.15);\n",
              "      fill: #174EA6;\n",
              "    }\n",
              "\n",
              "    [theme=dark] .colab-df-convert {\n",
              "      background-color: #3B4455;\n",
              "      fill: #D2E3FC;\n",
              "    }\n",
              "\n",
              "    [theme=dark] .colab-df-convert:hover {\n",
              "      background-color: #434B5C;\n",
              "      box-shadow: 0px 1px 3px 1px rgba(0, 0, 0, 0.15);\n",
              "      filter: drop-shadow(0px 1px 2px rgba(0, 0, 0, 0.3));\n",
              "      fill: #FFFFFF;\n",
              "    }\n",
              "  </style>\n",
              "\n",
              "      <script>\n",
              "        const buttonEl =\n",
              "          document.querySelector('#df-92e1a285-2bb7-4ce7-a0ca-8b7549145260 button.colab-df-convert');\n",
              "        buttonEl.style.display =\n",
              "          google.colab.kernel.accessAllowed ? 'block' : 'none';\n",
              "\n",
              "        async function convertToInteractive(key) {\n",
              "          const element = document.querySelector('#df-92e1a285-2bb7-4ce7-a0ca-8b7549145260');\n",
              "          const dataTable =\n",
              "            await google.colab.kernel.invokeFunction('convertToInteractive',\n",
              "                                                     [key], {});\n",
              "          if (!dataTable) return;\n",
              "\n",
              "          const docLinkHtml = 'Like what you see? Visit the ' +\n",
              "            '<a target=\"_blank\" href=https://colab.research.google.com/notebooks/data_table.ipynb>data table notebook</a>'\n",
              "            + ' to learn more about interactive tables.';\n",
              "          element.innerHTML = '';\n",
              "          dataTable['output_type'] = 'display_data';\n",
              "          await google.colab.output.renderOutput(dataTable, element);\n",
              "          const docLink = document.createElement('div');\n",
              "          docLink.innerHTML = docLinkHtml;\n",
              "          element.appendChild(docLink);\n",
              "        }\n",
              "      </script>\n",
              "    </div>\n",
              "  </div>\n",
              "  "
            ]
          },
          "metadata": {},
          "execution_count": 9
        }
      ]
    },
    {
      "cell_type": "code",
      "source": [
        "dataset.columns"
      ],
      "metadata": {
        "colab": {
          "base_uri": "https://localhost:8080/"
        },
        "id": "pOZjvN7b4_3-",
        "outputId": "cff632c8-3ca2-4a3b-911a-7909f94699a1"
      },
      "execution_count": 10,
      "outputs": [
        {
          "output_type": "execute_result",
          "data": {
            "text/plain": [
              "Index(['Unnamed: 0', 'id', 'member_id', 'loan_amnt', 'funded_amnt',\n",
              "       'funded_amnt_inv', 'term', 'int_rate', 'installment', 'grade',\n",
              "       ...\n",
              "       'hardship_payoff_balance_amount', 'hardship_last_payment_amount',\n",
              "       'disbursement_method', 'debt_settlement_flag',\n",
              "       'debt_settlement_flag_date', 'settlement_status', 'settlement_date',\n",
              "       'settlement_amount', 'settlement_percentage', 'settlement_term'],\n",
              "      dtype='object', length=151)"
            ]
          },
          "metadata": {},
          "execution_count": 10
        }
      ]
    },
    {
      "cell_type": "code",
      "source": [
        "dataset.describe()"
      ],
      "metadata": {
        "colab": {
          "base_uri": "https://localhost:8080/",
          "height": 393
        },
        "id": "ljcgUorA5ICV",
        "outputId": "c644d757-bd12-402f-f418-321043963c71"
      },
      "execution_count": 11,
      "outputs": [
        {
          "output_type": "execute_result",
          "data": {
            "text/plain": [
              "          Unnamed: 0            id  member_id      loan_amnt    funded_amnt  \\\n",
              "count  100000.000000  1.000000e+05        0.0  100000.000000  100000.000000   \n",
              "mean    49999.500000  3.029995e+07        NaN   14886.930000   14886.930000   \n",
              "std     28867.657797  4.763500e+06        NaN    8504.432514    8504.432514   \n",
              "min         0.000000  5.716700e+04        NaN    1000.000000    1000.000000   \n",
              "25%     24999.750000  2.737015e+07        NaN    8000.000000    8000.000000   \n",
              "50%     49999.500000  3.052556e+07        NaN   13050.000000   13050.000000   \n",
              "75%     74999.250000  3.438201e+07        NaN   20000.000000   20000.000000   \n",
              "max     99999.000000  3.809811e+07        NaN   35000.000000   35000.000000   \n",
              "\n",
              "       funded_amnt_inv       int_rate    installment    annual_inc  \\\n",
              "count    100000.000000  100000.000000  100000.000000  1.000000e+05   \n",
              "mean      14883.910500      13.278073     437.331824  7.468924e+04   \n",
              "std        8502.519174       4.390210     244.317648  5.809527e+04   \n",
              "min        1000.000000       6.000000      30.420000  4.000000e+03   \n",
              "25%        8000.000000      10.150000     261.640000  4.500000e+04   \n",
              "50%       13050.000000      12.990000     380.180000  6.400000e+04   \n",
              "75%       20000.000000      15.610000     573.320000  9.000000e+04   \n",
              "max       35000.000000      26.060000    1408.130000  7.500000e+06   \n",
              "\n",
              "                 dti  ...  deferral_term  hardship_amount  hardship_length  \\\n",
              "count  100000.000000  ...          185.0       185.000000            185.0   \n",
              "mean       18.769787  ...            3.0       110.335568              3.0   \n",
              "std         8.539769  ...            0.0        89.266601              0.0   \n",
              "min         0.000000  ...            3.0         1.470000              3.0   \n",
              "25%        12.320000  ...            3.0        23.760000              3.0   \n",
              "50%        18.210000  ...            3.0        96.580000              3.0   \n",
              "75%        24.760000  ...            3.0       164.750000              3.0   \n",
              "max        39.990000  ...            3.0       382.340000              3.0   \n",
              "\n",
              "       hardship_dpd  orig_projected_additional_accrued_interest  \\\n",
              "count    185.000000                                  152.000000   \n",
              "mean      14.037838                                  323.495132   \n",
              "std        9.657374                                  267.627244   \n",
              "min        0.000000                                    4.410000   \n",
              "25%        7.000000                                   63.885000   \n",
              "50%       15.000000                                  281.580000   \n",
              "75%       22.000000                                  481.492500   \n",
              "max       32.000000                                 1147.020000   \n",
              "\n",
              "       hardship_payoff_balance_amount  hardship_last_payment_amount  \\\n",
              "count                      185.000000                    185.000000   \n",
              "mean                      8046.616541                    186.563135   \n",
              "std                       5585.653253                    168.552986   \n",
              "min                        174.150000                      0.040000   \n",
              "25%                       2465.360000                     27.610000   \n",
              "50%                       8049.850000                    172.460000   \n",
              "75%                      11968.940000                    285.890000   \n",
              "max                      21750.750000                    757.420000   \n",
              "\n",
              "       settlement_amount  settlement_percentage  settlement_term  \n",
              "count        1290.000000            1290.000000      1290.000000  \n",
              "mean         4768.376357              47.720519         8.265116  \n",
              "std          3703.963945               7.046587         8.263566  \n",
              "min           233.160000               0.550000         0.000000  \n",
              "25%          1951.125000              45.000000         0.000000  \n",
              "50%          3881.120000              45.040000         6.000000  \n",
              "75%          6503.000000              50.000000        14.000000  \n",
              "max         26751.740000             100.000000        36.000000  \n",
              "\n",
              "[8 rows x 117 columns]"
            ],
            "text/html": [
              "\n",
              "  <div id=\"df-36b95188-1c84-492b-8bed-ea4d55af09a8\">\n",
              "    <div class=\"colab-df-container\">\n",
              "      <div>\n",
              "<style scoped>\n",
              "    .dataframe tbody tr th:only-of-type {\n",
              "        vertical-align: middle;\n",
              "    }\n",
              "\n",
              "    .dataframe tbody tr th {\n",
              "        vertical-align: top;\n",
              "    }\n",
              "\n",
              "    .dataframe thead th {\n",
              "        text-align: right;\n",
              "    }\n",
              "</style>\n",
              "<table border=\"1\" class=\"dataframe\">\n",
              "  <thead>\n",
              "    <tr style=\"text-align: right;\">\n",
              "      <th></th>\n",
              "      <th>Unnamed: 0</th>\n",
              "      <th>id</th>\n",
              "      <th>member_id</th>\n",
              "      <th>loan_amnt</th>\n",
              "      <th>funded_amnt</th>\n",
              "      <th>funded_amnt_inv</th>\n",
              "      <th>int_rate</th>\n",
              "      <th>installment</th>\n",
              "      <th>annual_inc</th>\n",
              "      <th>dti</th>\n",
              "      <th>...</th>\n",
              "      <th>deferral_term</th>\n",
              "      <th>hardship_amount</th>\n",
              "      <th>hardship_length</th>\n",
              "      <th>hardship_dpd</th>\n",
              "      <th>orig_projected_additional_accrued_interest</th>\n",
              "      <th>hardship_payoff_balance_amount</th>\n",
              "      <th>hardship_last_payment_amount</th>\n",
              "      <th>settlement_amount</th>\n",
              "      <th>settlement_percentage</th>\n",
              "      <th>settlement_term</th>\n",
              "    </tr>\n",
              "  </thead>\n",
              "  <tbody>\n",
              "    <tr>\n",
              "      <th>count</th>\n",
              "      <td>100000.000000</td>\n",
              "      <td>1.000000e+05</td>\n",
              "      <td>0.0</td>\n",
              "      <td>100000.000000</td>\n",
              "      <td>100000.000000</td>\n",
              "      <td>100000.000000</td>\n",
              "      <td>100000.000000</td>\n",
              "      <td>100000.000000</td>\n",
              "      <td>1.000000e+05</td>\n",
              "      <td>100000.000000</td>\n",
              "      <td>...</td>\n",
              "      <td>185.0</td>\n",
              "      <td>185.000000</td>\n",
              "      <td>185.0</td>\n",
              "      <td>185.000000</td>\n",
              "      <td>152.000000</td>\n",
              "      <td>185.000000</td>\n",
              "      <td>185.000000</td>\n",
              "      <td>1290.000000</td>\n",
              "      <td>1290.000000</td>\n",
              "      <td>1290.000000</td>\n",
              "    </tr>\n",
              "    <tr>\n",
              "      <th>mean</th>\n",
              "      <td>49999.500000</td>\n",
              "      <td>3.029995e+07</td>\n",
              "      <td>NaN</td>\n",
              "      <td>14886.930000</td>\n",
              "      <td>14886.930000</td>\n",
              "      <td>14883.910500</td>\n",
              "      <td>13.278073</td>\n",
              "      <td>437.331824</td>\n",
              "      <td>7.468924e+04</td>\n",
              "      <td>18.769787</td>\n",
              "      <td>...</td>\n",
              "      <td>3.0</td>\n",
              "      <td>110.335568</td>\n",
              "      <td>3.0</td>\n",
              "      <td>14.037838</td>\n",
              "      <td>323.495132</td>\n",
              "      <td>8046.616541</td>\n",
              "      <td>186.563135</td>\n",
              "      <td>4768.376357</td>\n",
              "      <td>47.720519</td>\n",
              "      <td>8.265116</td>\n",
              "    </tr>\n",
              "    <tr>\n",
              "      <th>std</th>\n",
              "      <td>28867.657797</td>\n",
              "      <td>4.763500e+06</td>\n",
              "      <td>NaN</td>\n",
              "      <td>8504.432514</td>\n",
              "      <td>8504.432514</td>\n",
              "      <td>8502.519174</td>\n",
              "      <td>4.390210</td>\n",
              "      <td>244.317648</td>\n",
              "      <td>5.809527e+04</td>\n",
              "      <td>8.539769</td>\n",
              "      <td>...</td>\n",
              "      <td>0.0</td>\n",
              "      <td>89.266601</td>\n",
              "      <td>0.0</td>\n",
              "      <td>9.657374</td>\n",
              "      <td>267.627244</td>\n",
              "      <td>5585.653253</td>\n",
              "      <td>168.552986</td>\n",
              "      <td>3703.963945</td>\n",
              "      <td>7.046587</td>\n",
              "      <td>8.263566</td>\n",
              "    </tr>\n",
              "    <tr>\n",
              "      <th>min</th>\n",
              "      <td>0.000000</td>\n",
              "      <td>5.716700e+04</td>\n",
              "      <td>NaN</td>\n",
              "      <td>1000.000000</td>\n",
              "      <td>1000.000000</td>\n",
              "      <td>1000.000000</td>\n",
              "      <td>6.000000</td>\n",
              "      <td>30.420000</td>\n",
              "      <td>4.000000e+03</td>\n",
              "      <td>0.000000</td>\n",
              "      <td>...</td>\n",
              "      <td>3.0</td>\n",
              "      <td>1.470000</td>\n",
              "      <td>3.0</td>\n",
              "      <td>0.000000</td>\n",
              "      <td>4.410000</td>\n",
              "      <td>174.150000</td>\n",
              "      <td>0.040000</td>\n",
              "      <td>233.160000</td>\n",
              "      <td>0.550000</td>\n",
              "      <td>0.000000</td>\n",
              "    </tr>\n",
              "    <tr>\n",
              "      <th>25%</th>\n",
              "      <td>24999.750000</td>\n",
              "      <td>2.737015e+07</td>\n",
              "      <td>NaN</td>\n",
              "      <td>8000.000000</td>\n",
              "      <td>8000.000000</td>\n",
              "      <td>8000.000000</td>\n",
              "      <td>10.150000</td>\n",
              "      <td>261.640000</td>\n",
              "      <td>4.500000e+04</td>\n",
              "      <td>12.320000</td>\n",
              "      <td>...</td>\n",
              "      <td>3.0</td>\n",
              "      <td>23.760000</td>\n",
              "      <td>3.0</td>\n",
              "      <td>7.000000</td>\n",
              "      <td>63.885000</td>\n",
              "      <td>2465.360000</td>\n",
              "      <td>27.610000</td>\n",
              "      <td>1951.125000</td>\n",
              "      <td>45.000000</td>\n",
              "      <td>0.000000</td>\n",
              "    </tr>\n",
              "    <tr>\n",
              "      <th>50%</th>\n",
              "      <td>49999.500000</td>\n",
              "      <td>3.052556e+07</td>\n",
              "      <td>NaN</td>\n",
              "      <td>13050.000000</td>\n",
              "      <td>13050.000000</td>\n",
              "      <td>13050.000000</td>\n",
              "      <td>12.990000</td>\n",
              "      <td>380.180000</td>\n",
              "      <td>6.400000e+04</td>\n",
              "      <td>18.210000</td>\n",
              "      <td>...</td>\n",
              "      <td>3.0</td>\n",
              "      <td>96.580000</td>\n",
              "      <td>3.0</td>\n",
              "      <td>15.000000</td>\n",
              "      <td>281.580000</td>\n",
              "      <td>8049.850000</td>\n",
              "      <td>172.460000</td>\n",
              "      <td>3881.120000</td>\n",
              "      <td>45.040000</td>\n",
              "      <td>6.000000</td>\n",
              "    </tr>\n",
              "    <tr>\n",
              "      <th>75%</th>\n",
              "      <td>74999.250000</td>\n",
              "      <td>3.438201e+07</td>\n",
              "      <td>NaN</td>\n",
              "      <td>20000.000000</td>\n",
              "      <td>20000.000000</td>\n",
              "      <td>20000.000000</td>\n",
              "      <td>15.610000</td>\n",
              "      <td>573.320000</td>\n",
              "      <td>9.000000e+04</td>\n",
              "      <td>24.760000</td>\n",
              "      <td>...</td>\n",
              "      <td>3.0</td>\n",
              "      <td>164.750000</td>\n",
              "      <td>3.0</td>\n",
              "      <td>22.000000</td>\n",
              "      <td>481.492500</td>\n",
              "      <td>11968.940000</td>\n",
              "      <td>285.890000</td>\n",
              "      <td>6503.000000</td>\n",
              "      <td>50.000000</td>\n",
              "      <td>14.000000</td>\n",
              "    </tr>\n",
              "    <tr>\n",
              "      <th>max</th>\n",
              "      <td>99999.000000</td>\n",
              "      <td>3.809811e+07</td>\n",
              "      <td>NaN</td>\n",
              "      <td>35000.000000</td>\n",
              "      <td>35000.000000</td>\n",
              "      <td>35000.000000</td>\n",
              "      <td>26.060000</td>\n",
              "      <td>1408.130000</td>\n",
              "      <td>7.500000e+06</td>\n",
              "      <td>39.990000</td>\n",
              "      <td>...</td>\n",
              "      <td>3.0</td>\n",
              "      <td>382.340000</td>\n",
              "      <td>3.0</td>\n",
              "      <td>32.000000</td>\n",
              "      <td>1147.020000</td>\n",
              "      <td>21750.750000</td>\n",
              "      <td>757.420000</td>\n",
              "      <td>26751.740000</td>\n",
              "      <td>100.000000</td>\n",
              "      <td>36.000000</td>\n",
              "    </tr>\n",
              "  </tbody>\n",
              "</table>\n",
              "<p>8 rows × 117 columns</p>\n",
              "</div>\n",
              "      <button class=\"colab-df-convert\" onclick=\"convertToInteractive('df-36b95188-1c84-492b-8bed-ea4d55af09a8')\"\n",
              "              title=\"Convert this dataframe to an interactive table.\"\n",
              "              style=\"display:none;\">\n",
              "        \n",
              "  <svg xmlns=\"http://www.w3.org/2000/svg\" height=\"24px\"viewBox=\"0 0 24 24\"\n",
              "       width=\"24px\">\n",
              "    <path d=\"M0 0h24v24H0V0z\" fill=\"none\"/>\n",
              "    <path d=\"M18.56 5.44l.94 2.06.94-2.06 2.06-.94-2.06-.94-.94-2.06-.94 2.06-2.06.94zm-11 1L8.5 8.5l.94-2.06 2.06-.94-2.06-.94L8.5 2.5l-.94 2.06-2.06.94zm10 10l.94 2.06.94-2.06 2.06-.94-2.06-.94-.94-2.06-.94 2.06-2.06.94z\"/><path d=\"M17.41 7.96l-1.37-1.37c-.4-.4-.92-.59-1.43-.59-.52 0-1.04.2-1.43.59L10.3 9.45l-7.72 7.72c-.78.78-.78 2.05 0 2.83L4 21.41c.39.39.9.59 1.41.59.51 0 1.02-.2 1.41-.59l7.78-7.78 2.81-2.81c.8-.78.8-2.07 0-2.86zM5.41 20L4 18.59l7.72-7.72 1.47 1.35L5.41 20z\"/>\n",
              "  </svg>\n",
              "      </button>\n",
              "      \n",
              "  <style>\n",
              "    .colab-df-container {\n",
              "      display:flex;\n",
              "      flex-wrap:wrap;\n",
              "      gap: 12px;\n",
              "    }\n",
              "\n",
              "    .colab-df-convert {\n",
              "      background-color: #E8F0FE;\n",
              "      border: none;\n",
              "      border-radius: 50%;\n",
              "      cursor: pointer;\n",
              "      display: none;\n",
              "      fill: #1967D2;\n",
              "      height: 32px;\n",
              "      padding: 0 0 0 0;\n",
              "      width: 32px;\n",
              "    }\n",
              "\n",
              "    .colab-df-convert:hover {\n",
              "      background-color: #E2EBFA;\n",
              "      box-shadow: 0px 1px 2px rgba(60, 64, 67, 0.3), 0px 1px 3px 1px rgba(60, 64, 67, 0.15);\n",
              "      fill: #174EA6;\n",
              "    }\n",
              "\n",
              "    [theme=dark] .colab-df-convert {\n",
              "      background-color: #3B4455;\n",
              "      fill: #D2E3FC;\n",
              "    }\n",
              "\n",
              "    [theme=dark] .colab-df-convert:hover {\n",
              "      background-color: #434B5C;\n",
              "      box-shadow: 0px 1px 3px 1px rgba(0, 0, 0, 0.15);\n",
              "      filter: drop-shadow(0px 1px 2px rgba(0, 0, 0, 0.3));\n",
              "      fill: #FFFFFF;\n",
              "    }\n",
              "  </style>\n",
              "\n",
              "      <script>\n",
              "        const buttonEl =\n",
              "          document.querySelector('#df-36b95188-1c84-492b-8bed-ea4d55af09a8 button.colab-df-convert');\n",
              "        buttonEl.style.display =\n",
              "          google.colab.kernel.accessAllowed ? 'block' : 'none';\n",
              "\n",
              "        async function convertToInteractive(key) {\n",
              "          const element = document.querySelector('#df-36b95188-1c84-492b-8bed-ea4d55af09a8');\n",
              "          const dataTable =\n",
              "            await google.colab.kernel.invokeFunction('convertToInteractive',\n",
              "                                                     [key], {});\n",
              "          if (!dataTable) return;\n",
              "\n",
              "          const docLinkHtml = 'Like what you see? Visit the ' +\n",
              "            '<a target=\"_blank\" href=https://colab.research.google.com/notebooks/data_table.ipynb>data table notebook</a>'\n",
              "            + ' to learn more about interactive tables.';\n",
              "          element.innerHTML = '';\n",
              "          dataTable['output_type'] = 'display_data';\n",
              "          await google.colab.output.renderOutput(dataTable, element);\n",
              "          const docLink = document.createElement('div');\n",
              "          docLink.innerHTML = docLinkHtml;\n",
              "          element.appendChild(docLink);\n",
              "        }\n",
              "      </script>\n",
              "    </div>\n",
              "  </div>\n",
              "  "
            ]
          },
          "metadata": {},
          "execution_count": 11
        }
      ]
    },
    {
      "cell_type": "markdown",
      "source": [
        "### 3. Data Preparation and Feature Selection\n",
        "\n",
        "##### 3.1 Preparing the predicted variable"
      ],
      "metadata": {
        "id": "i4r0tJGH5Z7V"
      }
    },
    {
      "cell_type": "code",
      "source": [
        "dataset['loan_status'].value_counts(dropna=False)"
      ],
      "metadata": {
        "colab": {
          "base_uri": "https://localhost:8080/"
        },
        "id": "DQWqz0bm5jvP",
        "outputId": "79080a3b-3f22-4777-acf5-1d8c2f51ff5c"
      },
      "execution_count": 21,
      "outputs": [
        {
          "output_type": "execute_result",
          "data": {
            "text/plain": [
              "Fully Paid            69982\n",
              "Charged Off           16156\n",
              "Current               12726\n",
              "Late (31-120 days)      730\n",
              "In Grace Period         264\n",
              "Late (16-30 days)       139\n",
              "Default                   3\n",
              "Name: loan_status, dtype: int64"
            ]
          },
          "metadata": {},
          "execution_count": 21
        }
      ]
    },
    {
      "cell_type": "code",
      "source": [
        "dataset = dataset.loc[dataset['loan_status'].isin(['Fully Paid', 'Charged Off'])]"
      ],
      "metadata": {
        "id": "oKEY2VRt5yWq"
      },
      "execution_count": 23,
      "outputs": []
    },
    {
      "cell_type": "code",
      "source": [
        "dataset['loan_status'].value_counts(dropna=False)"
      ],
      "metadata": {
        "colab": {
          "base_uri": "https://localhost:8080/"
        },
        "id": "fwjPEQT46sN-",
        "outputId": "cd800681-7edc-4460-8b8a-5f877c1f5078"
      },
      "execution_count": 26,
      "outputs": [
        {
          "output_type": "execute_result",
          "data": {
            "text/plain": [
              "Fully Paid     69982\n",
              "Charged Off    16156\n",
              "Name: loan_status, dtype: int64"
            ]
          },
          "metadata": {},
          "execution_count": 26
        }
      ]
    },
    {
      "cell_type": "code",
      "source": [
        "dataset['loan_status'].value_counts(normalize=True, dropna=False)"
      ],
      "metadata": {
        "colab": {
          "base_uri": "https://localhost:8080/"
        },
        "id": "DqiH5Y9i6422",
        "outputId": "22b8872d-3ca5-4f6a-8dd3-934ac949115b"
      },
      "execution_count": 27,
      "outputs": [
        {
          "output_type": "execute_result",
          "data": {
            "text/plain": [
              "Fully Paid     0.812441\n",
              "Charged Off    0.187559\n",
              "Name: loan_status, dtype: float64"
            ]
          },
          "metadata": {},
          "execution_count": 27
        }
      ]
    },
    {
      "cell_type": "code",
      "source": [
        "dataset['charged_off'] = (dataset['loan_status'] == 'Charged Off').apply(np.uint8)\n",
        "dataset.drop('loan_status', axis=1, inplace=True)"
      ],
      "metadata": {
        "id": "i_0BDCEV7PGd"
      },
      "execution_count": 30,
      "outputs": []
    },
    {
      "cell_type": "code",
      "source": [
        "dataset['charged_off'].value_counts(normalize=True, dropna=False)"
      ],
      "metadata": {
        "colab": {
          "base_uri": "https://localhost:8080/"
        },
        "id": "yuY3Lwdf9HFv",
        "outputId": "5c385ae8-1f88-43c6-eefd-392216fe722d"
      },
      "execution_count": 33,
      "outputs": [
        {
          "output_type": "execute_result",
          "data": {
            "text/plain": [
              "0    0.812441\n",
              "1    0.187559\n",
              "Name: charged_off, dtype: float64"
            ]
          },
          "metadata": {},
          "execution_count": 33
        }
      ]
    },
    {
      "cell_type": "code",
      "source": [
        ""
      ],
      "metadata": {
        "id": "FLH9-kn89HlM"
      },
      "execution_count": null,
      "outputs": []
    },
    {
      "cell_type": "markdown",
      "source": [
        "### 3.2.1 Features elimination by significant mising values"
      ],
      "metadata": {
        "id": "InLrmlci-VBd"
      }
    },
    {
      "cell_type": "code",
      "source": [
        "missing_fractions = dataset.isnull().mean().sort_values(ascending=False)"
      ],
      "metadata": {
        "id": "IJ4PB-fQ-aqK"
      },
      "execution_count": 37,
      "outputs": []
    },
    {
      "cell_type": "code",
      "source": [
        "missing_fractions.head(10)"
      ],
      "metadata": {
        "colab": {
          "base_uri": "https://localhost:8080/"
        },
        "id": "BVM85cHq-lbi",
        "outputId": "4ee4783c-03c3-40fc-b03c-ba9d774830c6"
      },
      "execution_count": 41,
      "outputs": [
        {
          "output_type": "execute_result",
          "data": {
            "text/plain": [
              "total_cu_tl                            1.0\n",
              "annual_inc_joint                       1.0\n",
              "sec_app_mths_since_last_major_derog    1.0\n",
              "sec_app_collections_12_mths_ex_med     1.0\n",
              "sec_app_chargeoff_within_12_mths       1.0\n",
              "open_rv_12m                            1.0\n",
              "sec_app_num_rev_accts                  1.0\n",
              "sec_app_open_act_il                    1.0\n",
              "sec_app_revol_util                     1.0\n",
              "sec_app_open_acc                       1.0\n",
              "dtype: float64"
            ]
          },
          "metadata": {},
          "execution_count": 41
        }
      ]
    },
    {
      "cell_type": "code",
      "source": [
        "drop_list = sorted(list(missing_fractions[missing_fractions > 0.3].index))"
      ],
      "metadata": {
        "id": "8IdbljwJ_Dld"
      },
      "execution_count": 42,
      "outputs": []
    },
    {
      "cell_type": "code",
      "source": [
        "drop_list"
      ],
      "metadata": {
        "colab": {
          "base_uri": "https://localhost:8080/"
        },
        "id": "RDPguHoM_b-B",
        "outputId": "3ab82d69-bda4-4dfc-8164-2b1e68e2a6a0"
      },
      "execution_count": 43,
      "outputs": [
        {
          "output_type": "execute_result",
          "data": {
            "text/plain": [
              "['all_util',\n",
              " 'annual_inc_joint',\n",
              " 'debt_settlement_flag_date',\n",
              " 'deferral_term',\n",
              " 'desc',\n",
              " 'dti_joint',\n",
              " 'hardship_amount',\n",
              " 'hardship_dpd',\n",
              " 'hardship_end_date',\n",
              " 'hardship_last_payment_amount',\n",
              " 'hardship_length',\n",
              " 'hardship_loan_status',\n",
              " 'hardship_payoff_balance_amount',\n",
              " 'hardship_reason',\n",
              " 'hardship_start_date',\n",
              " 'hardship_status',\n",
              " 'hardship_type',\n",
              " 'il_util',\n",
              " 'inq_fi',\n",
              " 'inq_last_12m',\n",
              " 'max_bal_bc',\n",
              " 'member_id',\n",
              " 'mths_since_last_delinq',\n",
              " 'mths_since_last_major_derog',\n",
              " 'mths_since_last_record',\n",
              " 'mths_since_rcnt_il',\n",
              " 'mths_since_recent_bc_dlq',\n",
              " 'mths_since_recent_revol_delinq',\n",
              " 'next_pymnt_d',\n",
              " 'open_acc_6m',\n",
              " 'open_act_il',\n",
              " 'open_il_12m',\n",
              " 'open_il_24m',\n",
              " 'open_rv_12m',\n",
              " 'open_rv_24m',\n",
              " 'orig_projected_additional_accrued_interest',\n",
              " 'payment_plan_start_date',\n",
              " 'revol_bal_joint',\n",
              " 'sec_app_chargeoff_within_12_mths',\n",
              " 'sec_app_collections_12_mths_ex_med',\n",
              " 'sec_app_earliest_cr_line',\n",
              " 'sec_app_fico_range_high',\n",
              " 'sec_app_fico_range_low',\n",
              " 'sec_app_inq_last_6mths',\n",
              " 'sec_app_mort_acc',\n",
              " 'sec_app_mths_since_last_major_derog',\n",
              " 'sec_app_num_rev_accts',\n",
              " 'sec_app_open_acc',\n",
              " 'sec_app_open_act_il',\n",
              " 'sec_app_revol_util',\n",
              " 'settlement_amount',\n",
              " 'settlement_date',\n",
              " 'settlement_percentage',\n",
              " 'settlement_status',\n",
              " 'settlement_term',\n",
              " 'total_bal_il',\n",
              " 'total_cu_tl',\n",
              " 'verification_status_joint']"
            ]
          },
          "metadata": {},
          "execution_count": 43
        }
      ]
    },
    {
      "cell_type": "code",
      "source": [
        "len(drop_list)"
      ],
      "metadata": {
        "colab": {
          "base_uri": "https://localhost:8080/"
        },
        "id": "fD9ogIoD_c63",
        "outputId": "cca7b5c1-6534-4643-a7f6-e22a4c236739"
      },
      "execution_count": 44,
      "outputs": [
        {
          "output_type": "execute_result",
          "data": {
            "text/plain": [
              "58"
            ]
          },
          "metadata": {},
          "execution_count": 44
        }
      ]
    },
    {
      "cell_type": "code",
      "source": [
        "dataset.drop(labels=drop_list, axis=1, inplace=True)"
      ],
      "metadata": {
        "id": "mhffTDwj_kqE"
      },
      "execution_count": 45,
      "outputs": []
    },
    {
      "cell_type": "code",
      "source": [
        "dataset.shape"
      ],
      "metadata": {
        "colab": {
          "base_uri": "https://localhost:8080/"
        },
        "id": "dmOx79_I_tsT",
        "outputId": "60c08c95-36d2-46bf-a325-de86872b2545"
      },
      "execution_count": 46,
      "outputs": [
        {
          "output_type": "execute_result",
          "data": {
            "text/plain": [
              "(86138, 93)"
            ]
          },
          "metadata": {},
          "execution_count": 46
        }
      ]
    },
    {
      "cell_type": "code",
      "source": [
        ""
      ],
      "metadata": {
        "id": "Lxd1UFF1_v05"
      },
      "execution_count": null,
      "outputs": []
    }
  ]
}